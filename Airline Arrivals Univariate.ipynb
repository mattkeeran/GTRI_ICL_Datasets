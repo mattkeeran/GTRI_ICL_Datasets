{
 "cells": [
  {
   "cell_type": "markdown",
   "metadata": {},
   "source": [
    "\n",
    "## <p style=\"text-align: center;\">**Airline On Time Performance**</p>\n",
    "### <p style=\"text-align: center;\">**Matt Keeran**<br><br>9/24/19</p>\n"
   ]
  },
  {
   "cell_type": "markdown",
   "metadata": {},
   "source": [
    "***\n",
    "## **Table of Contents** <a id=\"toc\"></a>\n",
    "### 0. <a href=\"#schema\">Schema</a>\n",
    "### 1. <a href=\"#eda\">Exploratory Data Analysis</a>\n",
    "***"
   ]
  },
  {
   "cell_type": "code",
   "execution_count": 2,
   "metadata": {},
   "outputs": [],
   "source": [
    "import pandas as pd\n",
    "\n",
    "import matplotlib\n",
    "import matplotlib.pyplot as plt\n",
    "import seaborn as sns\n",
    "\n",
    "%matplotlib inline\n",
    "pd.set_option('display.max_rows', None)\n",
    "pd.set_option('display.max_columns', None)"
   ]
  },
  {
   "cell_type": "code",
   "execution_count": 4,
   "metadata": {},
   "outputs": [
    {
     "name": "stdout",
     "output_type": "stream",
     "text": [
      " Airline_On_Time_Performance    README.md\n",
      " Bike-Sharing-Dataset\t        SF_Resturant_Scores\n",
      "'GTRI Airline Arrivals.ipynb'\n"
     ]
    }
   ],
   "source": [
    "!ls"
   ]
  },
  {
   "cell_type": "code",
   "execution_count": 5,
   "metadata": {},
   "outputs": [
    {
     "name": "stdout",
     "output_type": "stream",
     "text": [
      "Airline_On_Time_Performance.csv  Airline_On_Time_Performance_ReadMe.csv\n"
     ]
    }
   ],
   "source": [
    "!ls Airline_On_Time_Performance/"
   ]
  },
  {
   "cell_type": "code",
   "execution_count": 3,
   "metadata": {},
   "outputs": [
    {
     "name": "stdout",
     "output_type": "stream",
     "text": [
      "CPU times: user 4.85 s, sys: 351 ms, total: 5.2 s\n",
      "Wall time: 4.99 s\n",
      "<class 'pandas.core.frame.DataFrame'>\n",
      "RangeIndex: 638649 entries, 0 to 638648\n",
      "Data columns (total 50 columns):\n",
      "YEAR                      638649 non-null int64\n",
      "MONTH                     638649 non-null int64\n",
      "DAY_OF_MONTH              638649 non-null int64\n",
      "DAY_OF_WEEK               638649 non-null int64\n",
      "FL_DATE                   638649 non-null object\n",
      "MKT_UNIQUE_CARRIER        638649 non-null object\n",
      "MKT_CARRIER_AIRLINE_ID    638649 non-null int64\n",
      "MKT_CARRIER_FL_NUM        638649 non-null int64\n",
      "OP_UNIQUE_CARRIER         638649 non-null object\n",
      "TAIL_NUM                  633964 non-null object\n",
      "OP_CARRIER_FL_NUM         638649 non-null int64\n",
      "ORIGIN_AIRPORT_ID         638649 non-null int64\n",
      "ORIGIN_AIRPORT_SEQ_ID     638649 non-null int64\n",
      "ORIGIN_CITY_MARKET_ID     638649 non-null int64\n",
      "ORIGIN                    638649 non-null object\n",
      "ORIGIN_CITY_NAME          638649 non-null object\n",
      "ORIGIN_STATE_ABR          638649 non-null object\n",
      "DEST_AIRPORT_ID           638649 non-null int64\n",
      "DEST_AIRPORT_SEQ_ID       638649 non-null int64\n",
      "DEST_CITY_MARKET_ID       638649 non-null int64\n",
      "DEST                      638649 non-null object\n",
      "DEST_CITY_NAME            638649 non-null object\n",
      "DEST_STATE_ABR            638649 non-null object\n",
      "DEST_STATE_FIPS           638649 non-null int64\n",
      "DEST_STATE_NM             638649 non-null object\n",
      "DEST_WAC                  638649 non-null int64\n",
      "CRS_DEP_TIME              638649 non-null int64\n",
      "DEP_TIME                  619550 non-null float64\n",
      "DEP_DELAY                 619547 non-null float64\n",
      "DEP_DELAY_NEW             619547 non-null float64\n",
      "DEP_DEL15                 619547 non-null float64\n",
      "TAXI_OUT                  619253 non-null float64\n",
      "WHEELS_OFF                619253 non-null float64\n",
      "WHEELS_ON                 618710 non-null float64\n",
      "TAXI_IN                   618710 non-null float64\n",
      "CANCELLED                 638649 non-null float64\n",
      "CANCELLATION_CODE         19550 non-null object\n",
      "DIVERTED                  638649 non-null float64\n",
      "DUP                       638649 non-null object\n",
      "FLIGHTS                   638649 non-null float64\n",
      "DISTANCE                  638649 non-null float64\n",
      "CARRIER_DELAY             117144 non-null float64\n",
      "WEATHER_DELAY             117144 non-null float64\n",
      "NAS_DELAY                 117144 non-null float64\n",
      "SECURITY_DELAY            117144 non-null float64\n",
      "LATE_AIRCRAFT_DELAY       117144 non-null float64\n",
      "DIV_AIRPORT_LANDINGS      638649 non-null int64\n",
      "DIV_ARR_DELAY             1061 non-null float64\n",
      "DIV_DISTANCE              1450 non-null float64\n",
      "Unnamed: 49               0 non-null float64\n",
      "dtypes: float64(20), int64(17), object(13)\n",
      "memory usage: 243.6+ MB\n"
     ]
    }
   ],
   "source": [
    "%time data = pd.read_csv('Airline_On_Time_Performance/Airline_On_Time_Performance.csv')\n",
    "data.info()"
   ]
  },
  {
   "cell_type": "code",
   "execution_count": 4,
   "metadata": {},
   "outputs": [],
   "source": [
    "data.drop('Unnamed: 49', axis=1, inplace=True)"
   ]
  },
  {
   "cell_type": "code",
   "execution_count": 5,
   "metadata": {},
   "outputs": [
    {
     "data": {
      "text/html": [
       "<div>\n",
       "<style scoped>\n",
       "    .dataframe tbody tr th:only-of-type {\n",
       "        vertical-align: middle;\n",
       "    }\n",
       "\n",
       "    .dataframe tbody tr th {\n",
       "        vertical-align: top;\n",
       "    }\n",
       "\n",
       "    .dataframe thead th {\n",
       "        text-align: right;\n",
       "    }\n",
       "</style>\n",
       "<table border=\"1\" class=\"dataframe\">\n",
       "  <thead>\n",
       "    <tr style=\"text-align: right;\">\n",
       "      <th></th>\n",
       "      <th>SYS_FIELD_NAME</th>\n",
       "      <th>FIELD_DESC</th>\n",
       "      <th>Unnamed: 2</th>\n",
       "    </tr>\n",
       "  </thead>\n",
       "  <tbody>\n",
       "    <tr>\n",
       "      <th>0</th>\n",
       "      <td>YEAR</td>\n",
       "      <td>Year</td>\n",
       "      <td>NaN</td>\n",
       "    </tr>\n",
       "    <tr>\n",
       "      <th>1</th>\n",
       "      <td>MONTH</td>\n",
       "      <td>Month</td>\n",
       "      <td>NaN</td>\n",
       "    </tr>\n",
       "    <tr>\n",
       "      <th>2</th>\n",
       "      <td>DAY_OF_MONTH</td>\n",
       "      <td>Day of Month</td>\n",
       "      <td>NaN</td>\n",
       "    </tr>\n",
       "    <tr>\n",
       "      <th>3</th>\n",
       "      <td>DAY_OF_WEEK</td>\n",
       "      <td>Day of Week</td>\n",
       "      <td>NaN</td>\n",
       "    </tr>\n",
       "    <tr>\n",
       "      <th>4</th>\n",
       "      <td>FL_DATE</td>\n",
       "      <td>Flight Date (yyyymmdd)</td>\n",
       "      <td>NaN</td>\n",
       "    </tr>\n",
       "  </tbody>\n",
       "</table>\n",
       "</div>"
      ],
      "text/plain": [
       "  SYS_FIELD_NAME              FIELD_DESC  Unnamed: 2\n",
       "0           YEAR                    Year         NaN\n",
       "1          MONTH                   Month         NaN\n",
       "2   DAY_OF_MONTH            Day of Month         NaN\n",
       "3    DAY_OF_WEEK             Day of Week         NaN\n",
       "4        FL_DATE  Flight Date (yyyymmdd)         NaN"
      ]
     },
     "execution_count": 5,
     "metadata": {},
     "output_type": "execute_result"
    }
   ],
   "source": [
    "schema = pd.read_csv('Airline_On_Time_Performance/Airline_On_Time_Performance_ReadMe.csv')\n",
    "schema.head()"
   ]
  },
  {
   "cell_type": "code",
   "execution_count": 86,
   "metadata": {},
   "outputs": [
    {
     "data": {
      "text/plain": [
       "['SYS_FIELD_NAME', ' FIELD_DESC', 'Unnamed: 2']"
      ]
     },
     "execution_count": 86,
     "metadata": {},
     "output_type": "execute_result"
    }
   ],
   "source": [
    "list(schema.columns)"
   ]
  },
  {
   "cell_type": "code",
   "execution_count": 6,
   "metadata": {},
   "outputs": [
    {
     "data": {
      "text/html": [
       "<div>\n",
       "<style scoped>\n",
       "    .dataframe tbody tr th:only-of-type {\n",
       "        vertical-align: middle;\n",
       "    }\n",
       "\n",
       "    .dataframe tbody tr th {\n",
       "        vertical-align: top;\n",
       "    }\n",
       "\n",
       "    .dataframe thead th {\n",
       "        text-align: right;\n",
       "    }\n",
       "</style>\n",
       "<table border=\"1\" class=\"dataframe\">\n",
       "  <thead>\n",
       "    <tr style=\"text-align: right;\">\n",
       "      <th></th>\n",
       "      <th>Field</th>\n",
       "      <th>Description</th>\n",
       "    </tr>\n",
       "  </thead>\n",
       "  <tbody>\n",
       "    <tr>\n",
       "      <th>0</th>\n",
       "      <td>YEAR</td>\n",
       "      <td>Year</td>\n",
       "    </tr>\n",
       "    <tr>\n",
       "      <th>1</th>\n",
       "      <td>MONTH</td>\n",
       "      <td>Month</td>\n",
       "    </tr>\n",
       "    <tr>\n",
       "      <th>2</th>\n",
       "      <td>DAY_OF_MONTH</td>\n",
       "      <td>Day of Month</td>\n",
       "    </tr>\n",
       "    <tr>\n",
       "      <th>3</th>\n",
       "      <td>DAY_OF_WEEK</td>\n",
       "      <td>Day of Week</td>\n",
       "    </tr>\n",
       "    <tr>\n",
       "      <th>4</th>\n",
       "      <td>FL_DATE</td>\n",
       "      <td>Flight Date (yyyymmdd)</td>\n",
       "    </tr>\n",
       "  </tbody>\n",
       "</table>\n",
       "</div>"
      ],
      "text/plain": [
       "          Field             Description\n",
       "0          YEAR                    Year\n",
       "1         MONTH                   Month\n",
       "2  DAY_OF_MONTH            Day of Month\n",
       "3   DAY_OF_WEEK             Day of Week\n",
       "4       FL_DATE  Flight Date (yyyymmdd)"
      ]
     },
     "execution_count": 6,
     "metadata": {},
     "output_type": "execute_result"
    }
   ],
   "source": [
    "schema.drop('Unnamed: 2', axis=1, inplace=True)\n",
    "schema.columns = ['Field', 'Description']\n",
    "schema.head()"
   ]
  },
  {
   "cell_type": "code",
   "execution_count": 10,
   "metadata": {},
   "outputs": [],
   "source": [
    "def scheme():\n",
    "    f = open('schema.txt', 'w')\n",
    "    f.write(\"SCHEMA:\\n-----------------------------------------------------------------------------------------------------------------------------------------------------\\n\")\n",
    "    print(\"SCHEMA:\\n------------------------------------------------------------------------------------------------------------------------------------------------------------\")\n",
    "    for index, row in schema.iterrows():\n",
    "        f.write('{}:\\t{}\\t\\t{:,} NON NULL VALUES\\t\\t{:,} TOTAL VALUES\\t{:.2f} % NULL\\n'.format(\n",
    "            row['Field'], \n",
    "            str(type(data[row['Field']].iloc[0])), \n",
    "            (len(data[row['Field']]) - data[row['Field']].isnull().sum()),\n",
    "            len(data[row['Field']]),\n",
    "            ((data[row['Field']].isnull().sum()/len(data[row['Field']])))*100)\n",
    "       )\n",
    "        print('{}:\\t{}\\t\\t{:,} NON NULL VALUES\\t\\t{:,} TOTAL VALUES\\t{:.2f} % NULL'.format(\n",
    "            row['Field'], \n",
    "            str(type(data[row['Field']].iloc[0])), \n",
    "            (len(data[row['Field']]) - data[row['Field']].isnull().sum()),\n",
    "            len(data[row['Field']]),\n",
    "            ((data[row['Field']].isnull().sum()/len(data[row['Field']])))*100)\n",
    "        )\n",
    "        f.write(row['Description'] + '\\n\\n')\n",
    "        print(row['Description'] + '\\n')\n",
    "        try:\n",
    "            f.write('{}\\t{}'.format(data[row['Field']].min(), data[row['Field']].max()))\n",
    "            print('{}\\t{}'.format(data[row['Field']].min(), data[row['Field']].max()))\n",
    "        except Exception:\n",
    "            f.write('{}'.format(list(data[row['Field']].value_counts().head(2).index)))\n",
    "            print('{}'.format(list(data[row['Field']].value_counts().head(2).index)))\n",
    "            \n",
    "        f.write('\\n------------------------------------------------------------------------------------------------------------------------------------------------------\\n')\n",
    "        print('\\n---------------------------------------------------------------------------------------------------------------------------------------------------------------')\n",
    "    f.close()"
   ]
  },
  {
   "cell_type": "markdown",
   "metadata": {},
   "source": [
    "***\n",
    "### **0. Schema** <a id=\"schema\"></a>\n",
    "##### <a href=\"#toc\">Table of Contents</a>\n",
    "***"
   ]
  },
  {
   "cell_type": "code",
   "execution_count": 11,
   "metadata": {},
   "outputs": [
    {
     "name": "stdout",
     "output_type": "stream",
     "text": [
      "SCHEMA:\n",
      "------------------------------------------------------------------------------------------------------------------------------------------------------------\n",
      "YEAR:\t<class 'numpy.int64'>\t\t638,649 NON NULL VALUES\t\t638,649 TOTAL VALUES\t0.00 % NULL\n",
      "Year\n",
      "\n",
      "2019\t2019\n",
      "\n",
      "---------------------------------------------------------------------------------------------------------------------------------------------------------------\n",
      "MONTH:\t<class 'numpy.int64'>\t\t638,649 NON NULL VALUES\t\t638,649 TOTAL VALUES\t0.00 % NULL\n",
      "Month\n",
      "\n",
      "1\t1\n",
      "\n",
      "---------------------------------------------------------------------------------------------------------------------------------------------------------------\n",
      "DAY_OF_MONTH:\t<class 'numpy.int64'>\t\t638,649 NON NULL VALUES\t\t638,649 TOTAL VALUES\t0.00 % NULL\n",
      "Day of Month\n",
      "\n",
      "1\t31\n",
      "\n",
      "---------------------------------------------------------------------------------------------------------------------------------------------------------------\n",
      "DAY_OF_WEEK:\t<class 'numpy.int64'>\t\t638,649 NON NULL VALUES\t\t638,649 TOTAL VALUES\t0.00 % NULL\n",
      "Day of Week\n",
      "\n",
      "1\t7\n",
      "\n",
      "---------------------------------------------------------------------------------------------------------------------------------------------------------------\n",
      "FL_DATE:\t<class 'str'>\t\t638,649 NON NULL VALUES\t\t638,649 TOTAL VALUES\t0.00 % NULL\n",
      "Flight Date (yyyymmdd)\n",
      "\n",
      "2019-01-01\t2019-01-31\n",
      "\n",
      "---------------------------------------------------------------------------------------------------------------------------------------------------------------\n",
      "MKT_UNIQUE_CARRIER:\t<class 'str'>\t\t638,649 NON NULL VALUES\t\t638,649 TOTAL VALUES\t0.00 % NULL\n",
      "Unique Marketing Carrier Code. When the same code has been used by multiple carriers, a numeric suffix is used for earlier users, for example, PA, PA(1), PA(2). Use this field for analysis across a range of years.\n",
      "\n",
      "AA\tWN\n",
      "\n",
      "---------------------------------------------------------------------------------------------------------------------------------------------------------------\n",
      "MKT_CARRIER_AIRLINE_ID:\t<class 'numpy.int64'>\t\t638,649 NON NULL VALUES\t\t638,649 TOTAL VALUES\t0.00 % NULL\n",
      "An identification number assigned by US DOT to identify a unique airline (carrier). A unique airline (carrier) is defined as one holding and reporting under the same DOT certificate regardless of its Code, Name, or holding company/corporation.\n",
      "\n",
      "19393\t20436\n",
      "\n",
      "---------------------------------------------------------------------------------------------------------------------------------------------------------------\n",
      "MKT_CARRIER_FL_NUM:\t<class 'numpy.int64'>\t\t638,649 NON NULL VALUES\t\t638,649 TOTAL VALUES\t0.00 % NULL\n",
      "Flight Number\n",
      "\n",
      "1\t9401\n",
      "\n",
      "---------------------------------------------------------------------------------------------------------------------------------------------------------------\n",
      "OP_UNIQUE_CARRIER:\t<class 'str'>\t\t638,649 NON NULL VALUES\t\t638,649 TOTAL VALUES\t0.00 % NULL\n",
      "Unique Carrier Code. When the same code has been used by multiple carriers, a numeric suffix is used for earlier users, for example, PA, PA(1), PA(2). Use this field for analysis across a range of years.\n",
      "\n",
      "9E\tZW\n",
      "\n",
      "---------------------------------------------------------------------------------------------------------------------------------------------------------------\n",
      "TAIL_NUM:\t<class 'str'>\t\t633,964 NON NULL VALUES\t\t638,649 TOTAL VALUES\t0.73 % NULL\n",
      "Tail Number\n",
      "\n",
      "['N488HA', 'N481HA']\n",
      "\n",
      "---------------------------------------------------------------------------------------------------------------------------------------------------------------\n",
      "OP_CARRIER_FL_NUM:\t<class 'numpy.int64'>\t\t638,649 NON NULL VALUES\t\t638,649 TOTAL VALUES\t0.00 % NULL\n",
      "Flight Number\n",
      "\n",
      "1\t9401\n",
      "\n",
      "---------------------------------------------------------------------------------------------------------------------------------------------------------------\n",
      "ORIGIN_AIRPORT_ID:\t<class 'numpy.int64'>\t\t638,649 NON NULL VALUES\t\t638,649 TOTAL VALUES\t0.00 % NULL\n",
      "Origin Airport, Airport ID. An identification number assigned by US DOT to identify a unique airport.  Use this field for airport analysis across a range of years because an airport can change its airport code and airport codes can be reused.\n",
      "\n",
      "10135\t16218\n",
      "\n",
      "---------------------------------------------------------------------------------------------------------------------------------------------------------------\n",
      "ORIGIN_AIRPORT_SEQ_ID:\t<class 'numpy.int64'>\t\t638,649 NON NULL VALUES\t\t638,649 TOTAL VALUES\t0.00 % NULL\n",
      "Origin Airport, Airport Sequence ID. An identification number assigned by US DOT to identify a unique airport at a given point of time.  Airport attributes, such as airport name or coordinates, may change over time.\n",
      "\n",
      "1013505\t1621802\n",
      "\n",
      "---------------------------------------------------------------------------------------------------------------------------------------------------------------\n",
      "ORIGIN_CITY_MARKET_ID:\t<class 'numpy.int64'>\t\t638,649 NON NULL VALUES\t\t638,649 TOTAL VALUES\t0.00 % NULL\n",
      "Origin Airport, City Market ID. City Market ID is an identification number assigned by US DOT to identify a city market.  Use this field to consolidate airports serving the same city market.\n",
      "\n",
      "30070\t36101\n",
      "\n",
      "---------------------------------------------------------------------------------------------------------------------------------------------------------------\n",
      "ORIGIN:\t<class 'str'>\t\t638,649 NON NULL VALUES\t\t638,649 TOTAL VALUES\t0.00 % NULL\n",
      "Origin Airport\n",
      "\n",
      "ABE\tYUM\n",
      "\n",
      "---------------------------------------------------------------------------------------------------------------------------------------------------------------\n",
      "ORIGIN_CITY_NAME:\t<class 'str'>\t\t638,649 NON NULL VALUES\t\t638,649 TOTAL VALUES\t0.00 % NULL\n",
      "Origin Airport, City Name\n",
      "\n",
      "Aberdeen, SD\tYuma, AZ\n",
      "\n",
      "---------------------------------------------------------------------------------------------------------------------------------------------------------------\n",
      "ORIGIN_STATE_ABR:\t<class 'str'>\t\t638,649 NON NULL VALUES\t\t638,649 TOTAL VALUES\t0.00 % NULL\n",
      "Origin Airport, State Code\n",
      "\n",
      "AK\tWY\n",
      "\n",
      "---------------------------------------------------------------------------------------------------------------------------------------------------------------\n",
      "DEST_AIRPORT_ID:\t<class 'numpy.int64'>\t\t638,649 NON NULL VALUES\t\t638,649 TOTAL VALUES\t0.00 % NULL\n",
      "Destination Airport, Airport ID. An identification number assigned by US DOT to identify a unique airport.  Use this field for airport analysis across a range of years because an airport can change its airport code and airport codes can be reused.\n",
      "\n",
      "10135\t16218\n",
      "\n",
      "---------------------------------------------------------------------------------------------------------------------------------------------------------------\n",
      "DEST_AIRPORT_SEQ_ID:\t<class 'numpy.int64'>\t\t638,649 NON NULL VALUES\t\t638,649 TOTAL VALUES\t0.00 % NULL\n",
      "Destination Airport, Airport Sequence ID. An identification number assigned by US DOT to identify a unique airport at a given point of time.  Airport attributes, such as airport name or coordinates, may change over time.\n",
      "\n",
      "1013505\t1621802\n",
      "\n",
      "---------------------------------------------------------------------------------------------------------------------------------------------------------------\n",
      "DEST_CITY_MARKET_ID:\t<class 'numpy.int64'>\t\t638,649 NON NULL VALUES\t\t638,649 TOTAL VALUES\t0.00 % NULL\n",
      "Destination Airport, City Market ID. City Market ID is an identification number assigned by US DOT to identify a city market.  Use this field to consolidate airports serving the same city market.\n",
      "\n",
      "30070\t36101\n",
      "\n",
      "---------------------------------------------------------------------------------------------------------------------------------------------------------------\n",
      "DEST:\t<class 'str'>\t\t638,649 NON NULL VALUES\t\t638,649 TOTAL VALUES\t0.00 % NULL\n",
      "Destination Airport\n",
      "\n",
      "ABE\tYUM\n",
      "\n",
      "---------------------------------------------------------------------------------------------------------------------------------------------------------------\n",
      "DEST_CITY_NAME:\t<class 'str'>\t\t638,649 NON NULL VALUES\t\t638,649 TOTAL VALUES\t0.00 % NULL\n",
      "Destination Airport, City Name\n",
      "\n",
      "Aberdeen, SD\tYuma, AZ\n",
      "\n",
      "---------------------------------------------------------------------------------------------------------------------------------------------------------------\n",
      "DEST_STATE_ABR:\t<class 'str'>\t\t638,649 NON NULL VALUES\t\t638,649 TOTAL VALUES\t0.00 % NULL\n",
      "Destination Airport, State Code\n",
      "\n",
      "AK\tWY\n",
      "\n",
      "---------------------------------------------------------------------------------------------------------------------------------------------------------------\n",
      "DEST_STATE_FIPS:\t<class 'numpy.int64'>\t\t638,649 NON NULL VALUES\t\t638,649 TOTAL VALUES\t0.00 % NULL\n",
      "Destination Airport, State Fips\n",
      "\n",
      "1\t78\n",
      "\n",
      "---------------------------------------------------------------------------------------------------------------------------------------------------------------\n",
      "DEST_STATE_NM:\t<class 'str'>\t\t638,649 NON NULL VALUES\t\t638,649 TOTAL VALUES\t0.00 % NULL\n",
      "Destination Airport, State Name\n",
      "\n",
      "Alabama\tWyoming\n",
      "\n",
      "---------------------------------------------------------------------------------------------------------------------------------------------------------------\n",
      "DEST_WAC:\t<class 'numpy.int64'>\t\t638,649 NON NULL VALUES\t\t638,649 TOTAL VALUES\t0.00 % NULL\n",
      "Destination Airport, World Area Code\n",
      "\n",
      "1\t93\n",
      "\n",
      "---------------------------------------------------------------------------------------------------------------------------------------------------------------\n",
      "CRS_DEP_TIME:\t<class 'numpy.int64'>\t\t638,649 NON NULL VALUES\t\t638,649 TOTAL VALUES\t0.00 % NULL\n",
      "CRS Departure Time (local time: hhmm)\n",
      "\n",
      "1\t2359\n",
      "\n",
      "---------------------------------------------------------------------------------------------------------------------------------------------------------------\n",
      "DEP_TIME:\t<class 'numpy.float64'>\t\t619,550 NON NULL VALUES\t\t638,649 TOTAL VALUES\t2.99 % NULL\n",
      "Actual Departure Time (local time: hhmm)\n",
      "\n",
      "1.0\t2400.0\n",
      "\n",
      "---------------------------------------------------------------------------------------------------------------------------------------------------------------\n",
      "DEP_DELAY:\t<class 'numpy.float64'>\t\t619,547 NON NULL VALUES\t\t638,649 TOTAL VALUES\t2.99 % NULL\n",
      "Difference in minutes between scheduled and actual departure time. Early departures show negative numbers.\n",
      "\n",
      "-47.0\t1690.0\n",
      "\n",
      "---------------------------------------------------------------------------------------------------------------------------------------------------------------\n",
      "DEP_DELAY_NEW:\t<class 'numpy.float64'>\t\t619,547 NON NULL VALUES\t\t638,649 TOTAL VALUES\t2.99 % NULL\n",
      "Difference in minutes between scheduled and actual departure time. Early departures set to 0.\n",
      "\n",
      "0.0\t1690.0\n",
      "\n",
      "---------------------------------------------------------------------------------------------------------------------------------------------------------------\n",
      "DEP_DEL15:\t<class 'numpy.float64'>\t\t619,547 NON NULL VALUES\t\t638,649 TOTAL VALUES\t2.99 % NULL\n",
      "Departure Delay Indicator, 15 Minutes or More (1=Yes)\n",
      "\n",
      "0.0\t1.0\n",
      "\n",
      "---------------------------------------------------------------------------------------------------------------------------------------------------------------\n",
      "TAXI_OUT:\t<class 'numpy.float64'>\t\t619,253 NON NULL VALUES\t\t638,649 TOTAL VALUES\t3.04 % NULL\n",
      "Taxi Out Time, in Minutes\n",
      "\n",
      "0.0\t181.0\n",
      "\n",
      "---------------------------------------------------------------------------------------------------------------------------------------------------------------\n",
      "WHEELS_OFF:\t<class 'numpy.float64'>\t\t619,253 NON NULL VALUES\t\t638,649 TOTAL VALUES\t3.04 % NULL\n",
      "Wheels Off Time (local time: hhmm)\n",
      "\n",
      "1.0\t2400.0\n",
      "\n",
      "---------------------------------------------------------------------------------------------------------------------------------------------------------------\n",
      "WHEELS_ON:\t<class 'numpy.float64'>\t\t618,710 NON NULL VALUES\t\t638,649 TOTAL VALUES\t3.12 % NULL\n",
      "Wheels On Time (local time: hhmm)\n",
      "\n",
      "1.0\t2400.0\n",
      "\n",
      "---------------------------------------------------------------------------------------------------------------------------------------------------------------\n",
      "TAXI_IN:\t<class 'numpy.float64'>\t\t618,710 NON NULL VALUES\t\t638,649 TOTAL VALUES\t3.12 % NULL\n",
      "Taxi In Time, in Minutes\n",
      "\n",
      "0.0\t282.0\n",
      "\n",
      "---------------------------------------------------------------------------------------------------------------------------------------------------------------\n",
      "CANCELLED:\t<class 'numpy.float64'>\t\t638,649 NON NULL VALUES\t\t638,649 TOTAL VALUES\t0.00 % NULL\n",
      "Cancelled Flight Indicator (1=Yes)\n",
      "\n",
      "0.0\t1.0\n",
      "\n",
      "---------------------------------------------------------------------------------------------------------------------------------------------------------------\n",
      "CANCELLATION_CODE:\t<class 'float'>\t\t19,550 NON NULL VALUES\t\t638,649 TOTAL VALUES\t96.94 % NULL\n",
      "Specifies The Reason For Cancellation\n",
      "\n",
      "['B', 'C']\n",
      "\n",
      "---------------------------------------------------------------------------------------------------------------------------------------------------------------\n",
      "DIVERTED:\t<class 'numpy.float64'>\t\t638,649 NON NULL VALUES\t\t638,649 TOTAL VALUES\t0.00 % NULL\n",
      "Diverted Flight Indicator (1=Yes)\n",
      "\n",
      "0.0\t1.0\n",
      "\n",
      "---------------------------------------------------------------------------------------------------------------------------------------------------------------\n",
      "FLIGHTS:\t<class 'numpy.float64'>\t\t638,649 NON NULL VALUES\t\t638,649 TOTAL VALUES\t0.00 % NULL\n",
      "Number of Flights\n",
      "\n",
      "1.0\t1.0\n",
      "\n",
      "---------------------------------------------------------------------------------------------------------------------------------------------------------------\n",
      "DISTANCE:\t<class 'numpy.float64'>\t\t638,649 NON NULL VALUES\t\t638,649 TOTAL VALUES\t0.00 % NULL\n",
      "Distance between airports (miles)\n",
      "\n",
      "31.0\t4983.0\n",
      "\n",
      "---------------------------------------------------------------------------------------------------------------------------------------------------------------\n",
      "CARRIER_DELAY:\t<class 'numpy.float64'>\t\t117,144 NON NULL VALUES\t\t638,649 TOTAL VALUES\t81.66 % NULL\n",
      "Carrier Delay, in Minutes\n",
      "\n",
      "0.0\t1638.0\n",
      "\n",
      "---------------------------------------------------------------------------------------------------------------------------------------------------------------\n",
      "WEATHER_DELAY:\t<class 'numpy.float64'>\t\t117,144 NON NULL VALUES\t\t638,649 TOTAL VALUES\t81.66 % NULL\n",
      "Weather Delay, in Minutes\n",
      "\n",
      "0.0\t1416.0\n",
      "\n",
      "---------------------------------------------------------------------------------------------------------------------------------------------------------------\n",
      "NAS_DELAY:\t<class 'numpy.float64'>\t\t117,144 NON NULL VALUES\t\t638,649 TOTAL VALUES\t81.66 % NULL\n",
      "National Air System Delay, in Minutes\n",
      "\n",
      "0.0\t1447.0\n",
      "\n",
      "---------------------------------------------------------------------------------------------------------------------------------------------------------------\n",
      "SECURITY_DELAY:\t<class 'numpy.float64'>\t\t117,144 NON NULL VALUES\t\t638,649 TOTAL VALUES\t81.66 % NULL\n",
      "Security Delay, in Minutes\n",
      "\n",
      "0.0\t816.0\n",
      "\n",
      "---------------------------------------------------------------------------------------------------------------------------------------------------------------\n",
      "LATE_AIRCRAFT_DELAY:\t<class 'numpy.float64'>\t\t117,144 NON NULL VALUES\t\t638,649 TOTAL VALUES\t81.66 % NULL\n",
      "Late Aircraft Delay, in Minutes\n",
      "\n",
      "0.0\t1514.0\n",
      "\n",
      "---------------------------------------------------------------------------------------------------------------------------------------------------------------\n",
      "DIV_AIRPORT_LANDINGS:\t<class 'numpy.int64'>\t\t638,649 NON NULL VALUES\t\t638,649 TOTAL VALUES\t0.00 % NULL\n",
      "Number of Diverted Airport Landings\n",
      "\n",
      "0\t9\n",
      "\n",
      "---------------------------------------------------------------------------------------------------------------------------------------------------------------\n",
      "DIV_ARR_DELAY:\t<class 'numpy.float64'>\t\t1,061 NON NULL VALUES\t\t638,649 TOTAL VALUES\t99.83 % NULL\n",
      "Difference in minutes between scheduled and actual arrival time for a diverted flight reaching scheduled destination.  The ArrDelay column remains NULL for all diverted flights.\n",
      "\n",
      "24.0\t1557.0\n",
      "\n",
      "---------------------------------------------------------------------------------------------------------------------------------------------------------------\n",
      "DIV_DISTANCE:\t<class 'numpy.float64'>\t\t1,450 NON NULL VALUES\t\t638,649 TOTAL VALUES\t99.77 % NULL\n",
      "Distance between scheduled destination and final diverted airport (miles).  Value will be 0 for diverted flight reaching scheduled destination.\n",
      "\n",
      "0.0\t2586.0\n",
      "\n",
      "---------------------------------------------------------------------------------------------------------------------------------------------------------------\n",
      "DUP:\t<class 'str'>\t\t638,649 NON NULL VALUES\t\t638,649 TOTAL VALUES\t0.00 % NULL\n",
      "Duplicate flag marked Y if the flight is swapped based on Form-3A data\n",
      "\n",
      "N\tN\n",
      "\n",
      "---------------------------------------------------------------------------------------------------------------------------------------------------------------\n"
     ]
    }
   ],
   "source": [
    "scheme()"
   ]
  },
  {
   "cell_type": "markdown",
   "metadata": {},
   "source": [
    "***\n",
    "### **1. Exploratory Data Analysis** <a id=\"eda\"></a>\n",
    "##### <a href=\"#schema\">Schema</a>\n",
    "##### <a href=\"#toc\">Main Table of Contents</a>\n",
    "###### 1. <a href=\"#date\">Date</a>\n",
    "###### 2. <a href=\"#mktcarrier\">Unique Marketing Carrier Code</a>\n",
    "###### 3. <a href=\"#mktcarrierid\">Unique Marketing Carrier Id</a>\n",
    "###### 4. <a href=\"#mktfl\">Marketing Flight Number</a>\n",
    "###### 5. <a href=\"#uqcarrier\">Unique Carrier Code</a>\n",
    "###### 6. <a href=\"#tail\">Tail Number</a>\n",
    "###### 7. <a href=\"#fl\">Flight Number</a>\n",
    "###### 8. <a href=\"#originid\">Origin Airport ID</a>\n",
    "###### 9. <a href=\"#originseq\">Origin Sequence ID</a>\n",
    "###### 10. <a href=\"#origincitymkt\">City Market ID</a>\n",
    "###### 11. <a href=\"#origin\">Origin Airport</a>\n",
    "###### 12. <a href=\"#origincity\">Origin City</a>\n",
    "###### 13. <a href=\"#originstate\">Origin State Code</a>\n",
    "###### 14. <a href=\"#destid\">Destination ID</a>\n",
    "###### 15. <a href=\"#destseq\">Destination Sequence ID</a>\n",
    "###### 16. <a href=\"#destcitymkt\">Destination City Market ID</a>\n",
    "###### 17. <a href=\"#dest\">Destination Airport</a>\n",
    "###### 18. <a href=\"#destcity\">Destination City</a>\n",
    "###### 19. <a href=\"#deststatecode\">Destination State Code</a>\n",
    "###### 20. <a href=\"#deststatefips\">Destination State Fips</a>\n",
    "###### 21. <a href=\"#destworld\">Destination World Area Code</a>\n",
    "###### 22. <a href=\"#deststate\">Destination State</a>\n",
    "###### 23. <a href=\"#crsdep\">CRS Departure Time</a>\n",
    "###### 24. <a href=\"#actualdep\">Actual Departure Time</a>\n",
    "###### 25. <a href=\"#depdelay\">Departure Delay</a>\n",
    "###### 26. <a href=\"#depdelaynew\">Departure Delay New</a>\n",
    "###### 27. <a href=\"#del15\">15 min Delay +</a>\n",
    "###### 28. <a href=\"#taxiout\">Taxi Out Time</a>\n",
    "###### 29. <a href=\"#wheelsoff\">Wheels Off Time</a>\n",
    "###### 30. <a href=\"#wheelson\">Wheels On Time</a>\n",
    "###### 31. <a href=\"#taxiin\">Taxi In Time</a>\n",
    "###### 32. <a href=\"#canceled\">Cancelled Flight</a>\n",
    "###### 33. <a href=\"#canceledreason\">Cancellation Reason</a>\n",
    "###### 34. <a href=\"#diverted\">Diverted</a>\n",
    "###### 35. <a href=\"#numfl\">Number of Flights</a>\n",
    "###### 36. <a href=\"#dist\">Distance</a>\n",
    "###### 37. <a href=\"#carrierdelay\">Carrier Delay</a>\n",
    "###### 38. <a href=\"#weatherdelay\">Weather Delay</a>\n",
    "###### 39. <a href=\"#nasdelay\">National Air System Delay</a>\n",
    "###### 40. <a href=\"#secdelay\">Security Delay</a>\n",
    "###### 41. <a href=\"#latedelay\">Late Aircraft Delay</a>\n",
    "###### 42. <a href=\"#numdiverted\">Number of Diverted Airport Landings</a>\n",
    "###### 43. <a href=\"#diff\">Diff In Minutes</a>\n",
    "###### 44. <a href=\"#diffdist\">Diff In Distance</a>\n",
    "###### 45. <a href=\"#dup\">Duplicate Flag</a>\n",
    "***"
   ]
  },
  {
   "cell_type": "code",
   "execution_count": 9,
   "metadata": {},
   "outputs": [
    {
     "data": {
      "text/html": [
       "<div>\n",
       "<style scoped>\n",
       "    .dataframe tbody tr th:only-of-type {\n",
       "        vertical-align: middle;\n",
       "    }\n",
       "\n",
       "    .dataframe tbody tr th {\n",
       "        vertical-align: top;\n",
       "    }\n",
       "\n",
       "    .dataframe thead th {\n",
       "        text-align: right;\n",
       "    }\n",
       "</style>\n",
       "<table border=\"1\" class=\"dataframe\">\n",
       "  <thead>\n",
       "    <tr style=\"text-align: right;\">\n",
       "      <th></th>\n",
       "      <th>YEAR</th>\n",
       "      <th>MONTH</th>\n",
       "      <th>DAY_OF_MONTH</th>\n",
       "      <th>DAY_OF_WEEK</th>\n",
       "      <th>FL_DATE</th>\n",
       "      <th>MKT_UNIQUE_CARRIER</th>\n",
       "      <th>MKT_CARRIER_AIRLINE_ID</th>\n",
       "      <th>MKT_CARRIER_FL_NUM</th>\n",
       "      <th>OP_UNIQUE_CARRIER</th>\n",
       "      <th>TAIL_NUM</th>\n",
       "      <th>...</th>\n",
       "      <th>DISTANCE</th>\n",
       "      <th>CARRIER_DELAY</th>\n",
       "      <th>WEATHER_DELAY</th>\n",
       "      <th>NAS_DELAY</th>\n",
       "      <th>SECURITY_DELAY</th>\n",
       "      <th>LATE_AIRCRAFT_DELAY</th>\n",
       "      <th>DIV_AIRPORT_LANDINGS</th>\n",
       "      <th>DIV_ARR_DELAY</th>\n",
       "      <th>DIV_DISTANCE</th>\n",
       "      <th>Unnamed: 49</th>\n",
       "    </tr>\n",
       "  </thead>\n",
       "  <tbody>\n",
       "    <tr>\n",
       "      <th>0</th>\n",
       "      <td>2019</td>\n",
       "      <td>1</td>\n",
       "      <td>19</td>\n",
       "      <td>6</td>\n",
       "      <td>2019-01-19</td>\n",
       "      <td>DL</td>\n",
       "      <td>19790</td>\n",
       "      <td>5245</td>\n",
       "      <td>9E</td>\n",
       "      <td>N176PQ</td>\n",
       "      <td>...</td>\n",
       "      <td>596.0</td>\n",
       "      <td>NaN</td>\n",
       "      <td>NaN</td>\n",
       "      <td>NaN</td>\n",
       "      <td>NaN</td>\n",
       "      <td>NaN</td>\n",
       "      <td>0</td>\n",
       "      <td>NaN</td>\n",
       "      <td>NaN</td>\n",
       "      <td>NaN</td>\n",
       "    </tr>\n",
       "    <tr>\n",
       "      <th>1</th>\n",
       "      <td>2019</td>\n",
       "      <td>1</td>\n",
       "      <td>20</td>\n",
       "      <td>7</td>\n",
       "      <td>2019-01-20</td>\n",
       "      <td>DL</td>\n",
       "      <td>19790</td>\n",
       "      <td>5245</td>\n",
       "      <td>9E</td>\n",
       "      <td>N309PQ</td>\n",
       "      <td>...</td>\n",
       "      <td>596.0</td>\n",
       "      <td>NaN</td>\n",
       "      <td>NaN</td>\n",
       "      <td>NaN</td>\n",
       "      <td>NaN</td>\n",
       "      <td>NaN</td>\n",
       "      <td>0</td>\n",
       "      <td>NaN</td>\n",
       "      <td>NaN</td>\n",
       "      <td>NaN</td>\n",
       "    </tr>\n",
       "    <tr>\n",
       "      <th>2</th>\n",
       "      <td>2019</td>\n",
       "      <td>1</td>\n",
       "      <td>21</td>\n",
       "      <td>1</td>\n",
       "      <td>2019-01-21</td>\n",
       "      <td>DL</td>\n",
       "      <td>19790</td>\n",
       "      <td>5245</td>\n",
       "      <td>9E</td>\n",
       "      <td>N176PQ</td>\n",
       "      <td>...</td>\n",
       "      <td>596.0</td>\n",
       "      <td>NaN</td>\n",
       "      <td>NaN</td>\n",
       "      <td>NaN</td>\n",
       "      <td>NaN</td>\n",
       "      <td>NaN</td>\n",
       "      <td>0</td>\n",
       "      <td>NaN</td>\n",
       "      <td>NaN</td>\n",
       "      <td>NaN</td>\n",
       "    </tr>\n",
       "    <tr>\n",
       "      <th>3</th>\n",
       "      <td>2019</td>\n",
       "      <td>1</td>\n",
       "      <td>22</td>\n",
       "      <td>2</td>\n",
       "      <td>2019-01-22</td>\n",
       "      <td>DL</td>\n",
       "      <td>19790</td>\n",
       "      <td>5245</td>\n",
       "      <td>9E</td>\n",
       "      <td>N135EV</td>\n",
       "      <td>...</td>\n",
       "      <td>596.0</td>\n",
       "      <td>NaN</td>\n",
       "      <td>NaN</td>\n",
       "      <td>NaN</td>\n",
       "      <td>NaN</td>\n",
       "      <td>NaN</td>\n",
       "      <td>0</td>\n",
       "      <td>NaN</td>\n",
       "      <td>NaN</td>\n",
       "      <td>NaN</td>\n",
       "    </tr>\n",
       "    <tr>\n",
       "      <th>4</th>\n",
       "      <td>2019</td>\n",
       "      <td>1</td>\n",
       "      <td>23</td>\n",
       "      <td>3</td>\n",
       "      <td>2019-01-23</td>\n",
       "      <td>DL</td>\n",
       "      <td>19790</td>\n",
       "      <td>5245</td>\n",
       "      <td>9E</td>\n",
       "      <td>N294PQ</td>\n",
       "      <td>...</td>\n",
       "      <td>596.0</td>\n",
       "      <td>NaN</td>\n",
       "      <td>NaN</td>\n",
       "      <td>NaN</td>\n",
       "      <td>NaN</td>\n",
       "      <td>NaN</td>\n",
       "      <td>0</td>\n",
       "      <td>NaN</td>\n",
       "      <td>NaN</td>\n",
       "      <td>NaN</td>\n",
       "    </tr>\n",
       "  </tbody>\n",
       "</table>\n",
       "<p>5 rows × 50 columns</p>\n",
       "</div>"
      ],
      "text/plain": [
       "   YEAR  MONTH  DAY_OF_MONTH  DAY_OF_WEEK     FL_DATE MKT_UNIQUE_CARRIER  \\\n",
       "0  2019      1            19            6  2019-01-19                 DL   \n",
       "1  2019      1            20            7  2019-01-20                 DL   \n",
       "2  2019      1            21            1  2019-01-21                 DL   \n",
       "3  2019      1            22            2  2019-01-22                 DL   \n",
       "4  2019      1            23            3  2019-01-23                 DL   \n",
       "\n",
       "   MKT_CARRIER_AIRLINE_ID  MKT_CARRIER_FL_NUM OP_UNIQUE_CARRIER TAIL_NUM  \\\n",
       "0                   19790                5245                9E   N176PQ   \n",
       "1                   19790                5245                9E   N309PQ   \n",
       "2                   19790                5245                9E   N176PQ   \n",
       "3                   19790                5245                9E   N135EV   \n",
       "4                   19790                5245                9E   N294PQ   \n",
       "\n",
       "      ...       DISTANCE  CARRIER_DELAY  WEATHER_DELAY  NAS_DELAY  \\\n",
       "0     ...          596.0            NaN            NaN        NaN   \n",
       "1     ...          596.0            NaN            NaN        NaN   \n",
       "2     ...          596.0            NaN            NaN        NaN   \n",
       "3     ...          596.0            NaN            NaN        NaN   \n",
       "4     ...          596.0            NaN            NaN        NaN   \n",
       "\n",
       "  SECURITY_DELAY LATE_AIRCRAFT_DELAY DIV_AIRPORT_LANDINGS  DIV_ARR_DELAY  \\\n",
       "0            NaN                 NaN                    0            NaN   \n",
       "1            NaN                 NaN                    0            NaN   \n",
       "2            NaN                 NaN                    0            NaN   \n",
       "3            NaN                 NaN                    0            NaN   \n",
       "4            NaN                 NaN                    0            NaN   \n",
       "\n",
       "   DIV_DISTANCE  Unnamed: 49  \n",
       "0           NaN          NaN  \n",
       "1           NaN          NaN  \n",
       "2           NaN          NaN  \n",
       "3           NaN          NaN  \n",
       "4           NaN          NaN  \n",
       "\n",
       "[5 rows x 50 columns]"
      ]
     },
     "execution_count": 9,
     "metadata": {},
     "output_type": "execute_result"
    }
   ],
   "source": [
    "data.head()"
   ]
  },
  {
   "cell_type": "code",
   "execution_count": 10,
   "metadata": {},
   "outputs": [
    {
     "data": {
      "text/html": [
       "<div>\n",
       "<style scoped>\n",
       "    .dataframe tbody tr th:only-of-type {\n",
       "        vertical-align: middle;\n",
       "    }\n",
       "\n",
       "    .dataframe tbody tr th {\n",
       "        vertical-align: top;\n",
       "    }\n",
       "\n",
       "    .dataframe thead th {\n",
       "        text-align: right;\n",
       "    }\n",
       "</style>\n",
       "<table border=\"1\" class=\"dataframe\">\n",
       "  <thead>\n",
       "    <tr style=\"text-align: right;\">\n",
       "      <th></th>\n",
       "      <th>YEAR</th>\n",
       "      <th>MONTH</th>\n",
       "      <th>DAY_OF_MONTH</th>\n",
       "      <th>DAY_OF_WEEK</th>\n",
       "      <th>MKT_CARRIER_AIRLINE_ID</th>\n",
       "      <th>MKT_CARRIER_FL_NUM</th>\n",
       "      <th>OP_CARRIER_FL_NUM</th>\n",
       "      <th>ORIGIN_AIRPORT_ID</th>\n",
       "      <th>ORIGIN_AIRPORT_SEQ_ID</th>\n",
       "      <th>ORIGIN_CITY_MARKET_ID</th>\n",
       "      <th>...</th>\n",
       "      <th>DISTANCE</th>\n",
       "      <th>CARRIER_DELAY</th>\n",
       "      <th>WEATHER_DELAY</th>\n",
       "      <th>NAS_DELAY</th>\n",
       "      <th>SECURITY_DELAY</th>\n",
       "      <th>LATE_AIRCRAFT_DELAY</th>\n",
       "      <th>DIV_AIRPORT_LANDINGS</th>\n",
       "      <th>DIV_ARR_DELAY</th>\n",
       "      <th>DIV_DISTANCE</th>\n",
       "      <th>Unnamed: 49</th>\n",
       "    </tr>\n",
       "  </thead>\n",
       "  <tbody>\n",
       "    <tr>\n",
       "      <th>count</th>\n",
       "      <td>638649.0</td>\n",
       "      <td>638649.0</td>\n",
       "      <td>638649.000000</td>\n",
       "      <td>638649.000000</td>\n",
       "      <td>638649.000000</td>\n",
       "      <td>638649.000000</td>\n",
       "      <td>638649.000000</td>\n",
       "      <td>638649.000000</td>\n",
       "      <td>6.386490e+05</td>\n",
       "      <td>638649.000000</td>\n",
       "      <td>...</td>\n",
       "      <td>638649.000000</td>\n",
       "      <td>117144.000000</td>\n",
       "      <td>117144.000000</td>\n",
       "      <td>117144.000000</td>\n",
       "      <td>117144.000000</td>\n",
       "      <td>117144.000000</td>\n",
       "      <td>638649.000000</td>\n",
       "      <td>1061.000000</td>\n",
       "      <td>1450.000000</td>\n",
       "      <td>0.0</td>\n",
       "    </tr>\n",
       "    <tr>\n",
       "      <th>mean</th>\n",
       "      <td>2019.0</td>\n",
       "      <td>1.0</td>\n",
       "      <td>15.955094</td>\n",
       "      <td>3.836976</td>\n",
       "      <td>19822.089542</td>\n",
       "      <td>2700.769462</td>\n",
       "      <td>2700.871319</td>\n",
       "      <td>12690.345843</td>\n",
       "      <td>1.269038e+06</td>\n",
       "      <td>31776.883607</td>\n",
       "      <td>...</td>\n",
       "      <td>765.250902</td>\n",
       "      <td>20.088609</td>\n",
       "      <td>4.410785</td>\n",
       "      <td>18.384826</td>\n",
       "      <td>0.073422</td>\n",
       "      <td>25.880882</td>\n",
       "      <td>0.004459</td>\n",
       "      <td>305.625825</td>\n",
       "      <td>58.320000</td>\n",
       "      <td>NaN</td>\n",
       "    </tr>\n",
       "    <tr>\n",
       "      <th>std</th>\n",
       "      <td>0.0</td>\n",
       "      <td>0.0</td>\n",
       "      <td>8.989170</td>\n",
       "      <td>1.921977</td>\n",
       "      <td>261.399496</td>\n",
       "      <td>1861.613306</td>\n",
       "      <td>1861.933516</td>\n",
       "      <td>1520.775468</td>\n",
       "      <td>1.520773e+05</td>\n",
       "      <td>1316.122179</td>\n",
       "      <td>...</td>\n",
       "      <td>579.910495</td>\n",
       "      <td>65.596080</td>\n",
       "      <td>38.353695</td>\n",
       "      <td>41.352734</td>\n",
       "      <td>3.051185</td>\n",
       "      <td>53.007365</td>\n",
       "      <td>0.147790</td>\n",
       "      <td>281.088367</td>\n",
       "      <td>185.652297</td>\n",
       "      <td>NaN</td>\n",
       "    </tr>\n",
       "    <tr>\n",
       "      <th>min</th>\n",
       "      <td>2019.0</td>\n",
       "      <td>1.0</td>\n",
       "      <td>1.000000</td>\n",
       "      <td>1.000000</td>\n",
       "      <td>19393.000000</td>\n",
       "      <td>1.000000</td>\n",
       "      <td>1.000000</td>\n",
       "      <td>10135.000000</td>\n",
       "      <td>1.013505e+06</td>\n",
       "      <td>30070.000000</td>\n",
       "      <td>...</td>\n",
       "      <td>31.000000</td>\n",
       "      <td>0.000000</td>\n",
       "      <td>0.000000</td>\n",
       "      <td>0.000000</td>\n",
       "      <td>0.000000</td>\n",
       "      <td>0.000000</td>\n",
       "      <td>0.000000</td>\n",
       "      <td>24.000000</td>\n",
       "      <td>0.000000</td>\n",
       "      <td>NaN</td>\n",
       "    </tr>\n",
       "    <tr>\n",
       "      <th>25%</th>\n",
       "      <td>2019.0</td>\n",
       "      <td>1.0</td>\n",
       "      <td>8.000000</td>\n",
       "      <td>2.000000</td>\n",
       "      <td>19790.000000</td>\n",
       "      <td>1090.000000</td>\n",
       "      <td>1090.000000</td>\n",
       "      <td>11292.000000</td>\n",
       "      <td>1.129202e+06</td>\n",
       "      <td>30721.000000</td>\n",
       "      <td>...</td>\n",
       "      <td>337.000000</td>\n",
       "      <td>0.000000</td>\n",
       "      <td>0.000000</td>\n",
       "      <td>0.000000</td>\n",
       "      <td>0.000000</td>\n",
       "      <td>0.000000</td>\n",
       "      <td>0.000000</td>\n",
       "      <td>133.000000</td>\n",
       "      <td>0.000000</td>\n",
       "      <td>NaN</td>\n",
       "    </tr>\n",
       "    <tr>\n",
       "      <th>50%</th>\n",
       "      <td>2019.0</td>\n",
       "      <td>1.0</td>\n",
       "      <td>16.000000</td>\n",
       "      <td>4.000000</td>\n",
       "      <td>19805.000000</td>\n",
       "      <td>2260.000000</td>\n",
       "      <td>2260.000000</td>\n",
       "      <td>12889.000000</td>\n",
       "      <td>1.288903e+06</td>\n",
       "      <td>31453.000000</td>\n",
       "      <td>...</td>\n",
       "      <td>604.000000</td>\n",
       "      <td>0.000000</td>\n",
       "      <td>0.000000</td>\n",
       "      <td>5.000000</td>\n",
       "      <td>0.000000</td>\n",
       "      <td>0.000000</td>\n",
       "      <td>0.000000</td>\n",
       "      <td>189.000000</td>\n",
       "      <td>0.000000</td>\n",
       "      <td>NaN</td>\n",
       "    </tr>\n",
       "    <tr>\n",
       "      <th>75%</th>\n",
       "      <td>2019.0</td>\n",
       "      <td>1.0</td>\n",
       "      <td>24.000000</td>\n",
       "      <td>5.000000</td>\n",
       "      <td>19977.000000</td>\n",
       "      <td>4184.000000</td>\n",
       "      <td>4183.000000</td>\n",
       "      <td>14057.000000</td>\n",
       "      <td>1.405702e+06</td>\n",
       "      <td>32575.000000</td>\n",
       "      <td>...</td>\n",
       "      <td>1008.000000</td>\n",
       "      <td>16.000000</td>\n",
       "      <td>0.000000</td>\n",
       "      <td>21.000000</td>\n",
       "      <td>0.000000</td>\n",
       "      <td>30.000000</td>\n",
       "      <td>0.000000</td>\n",
       "      <td>332.000000</td>\n",
       "      <td>30.000000</td>\n",
       "      <td>NaN</td>\n",
       "    </tr>\n",
       "    <tr>\n",
       "      <th>max</th>\n",
       "      <td>2019.0</td>\n",
       "      <td>1.0</td>\n",
       "      <td>31.000000</td>\n",
       "      <td>7.000000</td>\n",
       "      <td>20436.000000</td>\n",
       "      <td>9401.000000</td>\n",
       "      <td>9401.000000</td>\n",
       "      <td>16218.000000</td>\n",
       "      <td>1.621802e+06</td>\n",
       "      <td>36101.000000</td>\n",
       "      <td>...</td>\n",
       "      <td>4983.000000</td>\n",
       "      <td>1638.000000</td>\n",
       "      <td>1416.000000</td>\n",
       "      <td>1447.000000</td>\n",
       "      <td>816.000000</td>\n",
       "      <td>1514.000000</td>\n",
       "      <td>9.000000</td>\n",
       "      <td>1557.000000</td>\n",
       "      <td>2586.000000</td>\n",
       "      <td>NaN</td>\n",
       "    </tr>\n",
       "  </tbody>\n",
       "</table>\n",
       "<p>8 rows × 37 columns</p>\n",
       "</div>"
      ],
      "text/plain": [
       "           YEAR     MONTH   DAY_OF_MONTH    DAY_OF_WEEK  \\\n",
       "count  638649.0  638649.0  638649.000000  638649.000000   \n",
       "mean     2019.0       1.0      15.955094       3.836976   \n",
       "std         0.0       0.0       8.989170       1.921977   \n",
       "min      2019.0       1.0       1.000000       1.000000   \n",
       "25%      2019.0       1.0       8.000000       2.000000   \n",
       "50%      2019.0       1.0      16.000000       4.000000   \n",
       "75%      2019.0       1.0      24.000000       5.000000   \n",
       "max      2019.0       1.0      31.000000       7.000000   \n",
       "\n",
       "       MKT_CARRIER_AIRLINE_ID  MKT_CARRIER_FL_NUM  OP_CARRIER_FL_NUM  \\\n",
       "count           638649.000000       638649.000000      638649.000000   \n",
       "mean             19822.089542         2700.769462        2700.871319   \n",
       "std                261.399496         1861.613306        1861.933516   \n",
       "min              19393.000000            1.000000           1.000000   \n",
       "25%              19790.000000         1090.000000        1090.000000   \n",
       "50%              19805.000000         2260.000000        2260.000000   \n",
       "75%              19977.000000         4184.000000        4183.000000   \n",
       "max              20436.000000         9401.000000        9401.000000   \n",
       "\n",
       "       ORIGIN_AIRPORT_ID  ORIGIN_AIRPORT_SEQ_ID  ORIGIN_CITY_MARKET_ID  \\\n",
       "count      638649.000000           6.386490e+05          638649.000000   \n",
       "mean        12690.345843           1.269038e+06           31776.883607   \n",
       "std          1520.775468           1.520773e+05            1316.122179   \n",
       "min         10135.000000           1.013505e+06           30070.000000   \n",
       "25%         11292.000000           1.129202e+06           30721.000000   \n",
       "50%         12889.000000           1.288903e+06           31453.000000   \n",
       "75%         14057.000000           1.405702e+06           32575.000000   \n",
       "max         16218.000000           1.621802e+06           36101.000000   \n",
       "\n",
       "          ...            DISTANCE  CARRIER_DELAY  WEATHER_DELAY  \\\n",
       "count     ...       638649.000000  117144.000000  117144.000000   \n",
       "mean      ...          765.250902      20.088609       4.410785   \n",
       "std       ...          579.910495      65.596080      38.353695   \n",
       "min       ...           31.000000       0.000000       0.000000   \n",
       "25%       ...          337.000000       0.000000       0.000000   \n",
       "50%       ...          604.000000       0.000000       0.000000   \n",
       "75%       ...         1008.000000      16.000000       0.000000   \n",
       "max       ...         4983.000000    1638.000000    1416.000000   \n",
       "\n",
       "           NAS_DELAY  SECURITY_DELAY  LATE_AIRCRAFT_DELAY  \\\n",
       "count  117144.000000   117144.000000        117144.000000   \n",
       "mean       18.384826        0.073422            25.880882   \n",
       "std        41.352734        3.051185            53.007365   \n",
       "min         0.000000        0.000000             0.000000   \n",
       "25%         0.000000        0.000000             0.000000   \n",
       "50%         5.000000        0.000000             0.000000   \n",
       "75%        21.000000        0.000000            30.000000   \n",
       "max      1447.000000      816.000000          1514.000000   \n",
       "\n",
       "       DIV_AIRPORT_LANDINGS  DIV_ARR_DELAY  DIV_DISTANCE  Unnamed: 49  \n",
       "count         638649.000000    1061.000000   1450.000000          0.0  \n",
       "mean               0.004459     305.625825     58.320000          NaN  \n",
       "std                0.147790     281.088367    185.652297          NaN  \n",
       "min                0.000000      24.000000      0.000000          NaN  \n",
       "25%                0.000000     133.000000      0.000000          NaN  \n",
       "50%                0.000000     189.000000      0.000000          NaN  \n",
       "75%                0.000000     332.000000     30.000000          NaN  \n",
       "max                9.000000    1557.000000   2586.000000          NaN  \n",
       "\n",
       "[8 rows x 37 columns]"
      ]
     },
     "execution_count": 10,
     "metadata": {},
     "output_type": "execute_result"
    }
   ],
   "source": [
    "data.describe()"
   ]
  },
  {
   "cell_type": "code",
   "execution_count": null,
   "metadata": {},
   "outputs": [],
   "source": []
  },
  {
   "cell_type": "markdown",
   "metadata": {},
   "source": [
    "# FOR EACH VAR PLOT OVER DATE & DAY OF WEEK"
   ]
  },
  {
   "cell_type": "code",
   "execution_count": null,
   "metadata": {},
   "outputs": [],
   "source": []
  },
  {
   "cell_type": "code",
   "execution_count": null,
   "metadata": {},
   "outputs": [],
   "source": []
  },
  {
   "cell_type": "markdown",
   "metadata": {},
   "source": [
    "---\n",
    "### **Date** <a id=\"date\"></a>\n",
    "##### <a href=\"#eda\">EDA</a>\n",
    "---"
   ]
  },
  {
   "cell_type": "code",
   "execution_count": 24,
   "metadata": {},
   "outputs": [
    {
     "data": {
      "text/plain": [
       "'2019-01-01'"
      ]
     },
     "execution_count": 24,
     "metadata": {},
     "output_type": "execute_result"
    }
   ],
   "source": [
    "data['FL_DATE'].min()"
   ]
  },
  {
   "cell_type": "code",
   "execution_count": 25,
   "metadata": {},
   "outputs": [
    {
     "data": {
      "text/plain": [
       "'2019-01-31'"
      ]
     },
     "execution_count": 25,
     "metadata": {},
     "output_type": "execute_result"
    }
   ],
   "source": [
    "data['FL_DATE'].max()"
   ]
  },
  {
   "cell_type": "code",
   "execution_count": 145,
   "metadata": {},
   "outputs": [
    {
     "data": {
      "text/plain": [
       "2019-01-02    22311\n",
       "2019-01-11    21934\n",
       "2019-01-25    21889\n",
       "2019-01-18    21858\n",
       "2019-01-07    21851\n",
       "2019-01-10    21823\n",
       "2019-01-31    21802\n",
       "2019-01-24    21801\n",
       "2019-01-17    21800\n",
       "2019-01-14    21781\n",
       "2019-01-28    21772\n",
       "2019-01-04    21439\n",
       "2019-01-03    21384\n",
       "2019-01-21    21312\n",
       "2019-01-06    21284\n",
       "2019-01-09    21020\n",
       "2019-01-30    20889\n",
       "2019-01-23    20886\n",
       "2019-01-16    20881\n",
       "2019-01-08    20566\n",
       "2019-01-29    20411\n",
       "2019-01-22    20407\n",
       "2019-01-15    20402\n",
       "2019-01-27    20306\n",
       "2019-01-13    20300\n",
       "2019-01-01    19683\n",
       "2019-01-05    18533\n",
       "2019-01-20    18454\n",
       "2019-01-12    16773\n",
       "2019-01-26    16727\n",
       "2019-01-19    16370\n",
       "Name: FL_DATE, dtype: int64"
      ]
     },
     "execution_count": 145,
     "metadata": {},
     "output_type": "execute_result"
    }
   ],
   "source": [
    "data['FL_DATE'].value_counts()"
   ]
  },
  {
   "cell_type": "code",
   "execution_count": 152,
   "metadata": {},
   "outputs": [
    {
     "data": {
      "text/plain": [
       "<matplotlib.axes._subplots.AxesSubplot at 0x7f6be2656780>"
      ]
     },
     "execution_count": 152,
     "metadata": {},
     "output_type": "execute_result"
    },
    {
     "data": {
      "image/png": "[encoded data removed]",
      "text/plain": [
       "<Figure size 720x432 with 1 Axes>"
      ]
     },
     "metadata": {
      "needs_background": "light"
     },
     "output_type": "display_data"
    }
   ],
   "source": [
    "data['FL_DATE'].value_counts().sort_index().plot.bar(figsize=(10,6))"
   ]
  },
  {
   "cell_type": "markdown",
   "metadata": {},
   "source": [
    "### So this is a dataset from January of this year. Also there are obvious cyclical patterns."
   ]
  },
  {
   "cell_type": "code",
   "execution_count": 80,
   "metadata": {},
   "outputs": [
    {
     "data": {
      "text/plain": [
       "4    108610\n",
       "3    105987\n",
       "2    101469\n",
       "5     87120\n",
       "1     86716\n",
       "7     80344\n",
       "6     68403\n",
       "Name: DAY_OF_WEEK, dtype: int64"
      ]
     },
     "execution_count": 80,
     "metadata": {},
     "output_type": "execute_result"
    }
   ],
   "source": [
    "data['DAY_OF_WEEK'].value_counts()"
   ]
  },
  {
   "cell_type": "code",
   "execution_count": 153,
   "metadata": {},
   "outputs": [
    {
     "data": {
      "text/plain": [
       "<matplotlib.axes._subplots.AxesSubplot at 0x7f6be2656a20>"
      ]
     },
     "execution_count": 153,
     "metadata": {},
     "output_type": "execute_result"
    },
    {
     "data": {
      "image/png": "[encoded data removed]",
      "text/plain": [
       "<Figure size 720x432 with 1 Axes>"
      ]
     },
     "metadata": {
      "needs_background": "light"
     },
     "output_type": "display_data"
    }
   ],
   "source": [
    "data['DAY_OF_WEEK'].value_counts().sort_index().plot.bar(figsize=(10,6))"
   ]
  },
  {
   "cell_type": "markdown",
   "metadata": {},
   "source": [
    "---\n",
    "### **Unique Marketing Carrier Code** <a id=\"mktcarrier\"></a>\n",
    "##### <a href=\"#eda\">EDA</a>\n",
    "---"
   ]
  },
  {
   "cell_type": "code",
   "execution_count": 163,
   "metadata": {},
   "outputs": [
    {
     "data": {
      "text/plain": [
       "10"
      ]
     },
     "execution_count": 163,
     "metadata": {},
     "output_type": "execute_result"
    }
   ],
   "source": [
    "len(data['MKT_UNIQUE_CARRIER'].value_counts())"
   ]
  },
  {
   "cell_type": "code",
   "execution_count": 138,
   "metadata": {},
   "outputs": [
    {
     "data": {
      "text/plain": [
       "AA    168763\n",
       "DL    135756\n",
       "UA    123804\n",
       "WN    111312\n",
       "AS     35399\n",
       "B6     24443\n",
       "NK     15222\n",
       "F9      9647\n",
       "HA      7540\n",
       "G4      6763\n",
       "Name: MKT_UNIQUE_CARRIER, dtype: int64"
      ]
     },
     "execution_count": 138,
     "metadata": {},
     "output_type": "execute_result"
    }
   ],
   "source": [
    "data['MKT_UNIQUE_CARRIER'].value_counts()"
   ]
  },
  {
   "cell_type": "code",
   "execution_count": 160,
   "metadata": {},
   "outputs": [
    {
     "data": {
      "text/plain": [
       "26.42500027401593"
      ]
     },
     "execution_count": 160,
     "metadata": {},
     "output_type": "execute_result"
    }
   ],
   "source": [
    "data['MKT_UNIQUE_CARRIER'].value_counts()[0]/len(data)*100"
   ]
  },
  {
   "cell_type": "code",
   "execution_count": 151,
   "metadata": {},
   "outputs": [
    {
     "data": {
      "text/plain": [
       "<matplotlib.axes._subplots.AxesSubplot at 0x7f6be26cdcc0>"
      ]
     },
     "execution_count": 151,
     "metadata": {},
     "output_type": "execute_result"
    },
    {
     "data": {
      "image/png": "[encoded data removed]",
      "text/plain": [
       "<Figure size 720x432 with 1 Axes>"
      ]
     },
     "metadata": {
      "needs_background": "light"
     },
     "output_type": "display_data"
    }
   ],
   "source": [
    "data['MKT_UNIQUE_CARRIER'].value_counts().plot.bar(figsize=(10,6))"
   ]
  },
  {
   "cell_type": "markdown",
   "metadata": {},
   "source": [
    "---\n",
    "### **Airline ID**"
   ]
  },
  {
   "cell_type": "code",
   "execution_count": 164,
   "metadata": {},
   "outputs": [
    {
     "data": {
      "text/plain": [
       "10"
      ]
     },
     "execution_count": 164,
     "metadata": {},
     "output_type": "execute_result"
    }
   ],
   "source": [
    "len(data['MKT_CARRIER_AIRLINE_ID'].value_counts())"
   ]
  },
  {
   "cell_type": "code",
   "execution_count": 139,
   "metadata": {},
   "outputs": [
    {
     "data": {
      "text/plain": [
       "19805    168763\n",
       "19790    135756\n",
       "19977    123804\n",
       "19393    111312\n",
       "19930     35399\n",
       "20409     24443\n",
       "20416     15222\n",
       "20436      9647\n",
       "19690      7540\n",
       "20368      6763\n",
       "Name: MKT_CARRIER_AIRLINE_ID, dtype: int64"
      ]
     },
     "execution_count": 139,
     "metadata": {},
     "output_type": "execute_result"
    }
   ],
   "source": [
    "data['MKT_CARRIER_AIRLINE_ID'].value_counts()"
   ]
  },
  {
   "cell_type": "markdown",
   "metadata": {},
   "source": [
    "#### So MKT_UNIQUE_CARRIER and MKT_CARRIER_AIRLINE_ID are alternate encodings for airline brand"
   ]
  },
  {
   "cell_type": "markdown",
   "metadata": {},
   "source": [
    "---\n",
    "### **Marketing Flight Number**"
   ]
  },
  {
   "cell_type": "code",
   "execution_count": 141,
   "metadata": {},
   "outputs": [
    {
     "data": {
      "text/plain": [
       "6873"
      ]
     },
     "execution_count": 141,
     "metadata": {},
     "output_type": "execute_result"
    }
   ],
   "source": [
    "len(data['MKT_CARRIER_FL_NUM'].value_counts())"
   ]
  },
  {
   "cell_type": "code",
   "execution_count": 142,
   "metadata": {},
   "outputs": [
    {
     "data": {
      "text/plain": [
       "403     310\n",
       "2116    294\n",
       "761     291\n",
       "2011    288\n",
       "465     287\n",
       "Name: MKT_CARRIER_FL_NUM, dtype: int64"
      ]
     },
     "execution_count": 142,
     "metadata": {},
     "output_type": "execute_result"
    }
   ],
   "source": [
    "data['MKT_CARRIER_FL_NUM'].value_counts().head()"
   ]
  },
  {
   "cell_type": "markdown",
   "metadata": {},
   "source": [
    "#### So Flight 403 has the most observations, what carrier(s) are have records with flight 403?"
   ]
  },
  {
   "cell_type": "code",
   "execution_count": 155,
   "metadata": {},
   "outputs": [
    {
     "data": {
      "text/plain": [
       "WN    120\n",
       "NK     62\n",
       "AA     52\n",
       "UA     31\n",
       "B6     31\n",
       "F9     14\n",
       "Name: MKT_UNIQUE_CARRIER, dtype: int64"
      ]
     },
     "execution_count": 155,
     "metadata": {},
     "output_type": "execute_result"
    }
   ],
   "source": [
    "data[data['MKT_CARRIER_FL_NUM'] == 403]['MKT_UNIQUE_CARRIER'].value_counts()"
   ]
  },
  {
   "cell_type": "markdown",
   "metadata": {},
   "source": [
    "#### So Flight 403, and flight numbers in general are not unique to airline."
   ]
  },
  {
   "cell_type": "code",
   "execution_count": 143,
   "metadata": {},
   "outputs": [
    {
     "data": {
      "text/plain": [
       "6356    1\n",
       "6361    1\n",
       "6360    1\n",
       "6365    1\n",
       "6395    1\n",
       "Name: MKT_CARRIER_FL_NUM, dtype: int64"
      ]
     },
     "execution_count": 143,
     "metadata": {},
     "output_type": "execute_result"
    }
   ],
   "source": [
    "data['MKT_CARRIER_FL_NUM'].value_counts().tail()"
   ]
  },
  {
   "cell_type": "markdown",
   "metadata": {},
   "source": [
    "---\n",
    "### **Unique Carrier Code**"
   ]
  },
  {
   "cell_type": "code",
   "execution_count": 162,
   "metadata": {},
   "outputs": [
    {
     "data": {
      "text/plain": [
       "26"
      ]
     },
     "execution_count": 162,
     "metadata": {},
     "output_type": "execute_result"
    }
   ],
   "source": [
    "len(data['OP_UNIQUE_CARRIER'].value_counts())"
   ]
  },
  {
   "cell_type": "code",
   "execution_count": 161,
   "metadata": {},
   "outputs": [
    {
     "data": {
      "text/plain": [
       "WN    111312\n",
       "AA     77017\n",
       "DL     73836\n",
       "OO     65115\n",
       "UA     46915\n",
       "YX     25773\n",
       "MQ     25696\n",
       "B6     24443\n",
       "OH     23170\n",
       "AS     20744\n",
       "9E     20210\n",
       "YV     18331\n",
       "NK     15222\n",
       "EV     13017\n",
       "QX     10054\n",
       "F9      9647\n",
       "PT      9030\n",
       "ZW      8726\n",
       "CP      8194\n",
       "G7      7221\n",
       "HA      6798\n",
       "G4      6763\n",
       "AX      6254\n",
       "C5      4207\n",
       "EM       742\n",
       "KS       212\n",
       "Name: OP_UNIQUE_CARRIER, dtype: int64"
      ]
     },
     "execution_count": 161,
     "metadata": {},
     "output_type": "execute_result"
    }
   ],
   "source": [
    "data['OP_UNIQUE_CARRIER'].value_counts()"
   ]
  },
  {
   "cell_type": "code",
   "execution_count": 4,
   "metadata": {},
   "outputs": [
    {
     "data": {
      "text/plain": [
       "<matplotlib.axes._subplots.AxesSubplot at 0x7fe36db26208>"
      ]
     },
     "execution_count": 4,
     "metadata": {},
     "output_type": "execute_result"
    },
    {
     "data": {
      "image/png": "[encoded data removed]",
      "text/plain": [
       "<Figure size 720x432 with 1 Axes>"
      ]
     },
     "metadata": {
      "needs_background": "light"
     },
     "output_type": "display_data"
    }
   ],
   "source": [
    "data['OP_UNIQUE_CARRIER'].value_counts().plot.bar(figsize=(10,6))"
   ]
  },
  {
   "cell_type": "markdown",
   "metadata": {},
   "source": [
    "---\n",
    "### **Tail Number**"
   ]
  },
  {
   "cell_type": "code",
   "execution_count": 165,
   "metadata": {},
   "outputs": [
    {
     "data": {
      "text/plain": [
       "5825"
      ]
     },
     "execution_count": 165,
     "metadata": {},
     "output_type": "execute_result"
    }
   ],
   "source": [
    "len(data['TAIL_NUM'].value_counts())"
   ]
  },
  {
   "cell_type": "code",
   "execution_count": 167,
   "metadata": {},
   "outputs": [
    {
     "data": {
      "text/plain": [
       "N488HA    361\n",
       "N481HA    348\n",
       "N483HA    346\n",
       "N489HA    344\n",
       "N493HA    328\n",
       "Name: TAIL_NUM, dtype: int64"
      ]
     },
     "execution_count": 167,
     "metadata": {},
     "output_type": "execute_result"
    }
   ],
   "source": [
    "data['TAIL_NUM'].value_counts().head()"
   ]
  },
  {
   "cell_type": "code",
   "execution_count": 7,
   "metadata": {},
   "outputs": [
    {
     "data": {
      "text/plain": [
       "HA    361\n",
       "Name: OP_UNIQUE_CARRIER, dtype: int64"
      ]
     },
     "execution_count": 7,
     "metadata": {},
     "output_type": "execute_result"
    }
   ],
   "source": [
    "data[data['TAIL_NUM'] == 'N488HA']['OP_UNIQUE_CARRIER'].value_counts()"
   ]
  },
  {
   "cell_type": "code",
   "execution_count": 8,
   "metadata": {},
   "outputs": [
    {
     "data": {
      "text/plain": [
       "HA    348\n",
       "Name: OP_UNIQUE_CARRIER, dtype: int64"
      ]
     },
     "execution_count": 8,
     "metadata": {},
     "output_type": "execute_result"
    }
   ],
   "source": [
    "data[data['TAIL_NUM'] == 'N481HA']['OP_UNIQUE_CARRIER'].value_counts()"
   ]
  },
  {
   "cell_type": "code",
   "execution_count": 9,
   "metadata": {},
   "outputs": [
    {
     "data": {
      "text/plain": [
       "HA    346\n",
       "Name: OP_UNIQUE_CARRIER, dtype: int64"
      ]
     },
     "execution_count": 9,
     "metadata": {},
     "output_type": "execute_result"
    }
   ],
   "source": [
    "data[data['TAIL_NUM'] == 'N483HA']['OP_UNIQUE_CARRIER'].value_counts()"
   ]
  },
  {
   "cell_type": "code",
   "execution_count": 10,
   "metadata": {},
   "outputs": [
    {
     "data": {
      "text/plain": [
       "HA    328\n",
       "Name: OP_UNIQUE_CARRIER, dtype: int64"
      ]
     },
     "execution_count": 10,
     "metadata": {},
     "output_type": "execute_result"
    }
   ],
   "source": [
    "data[data['TAIL_NUM'] == 'N493HA']['OP_UNIQUE_CARRIER'].value_counts()"
   ]
  },
  {
   "cell_type": "markdown",
   "metadata": {},
   "source": [
    "#### So the most common tail numbers all come from HA airline. Also, in general it appears that tail numbers are unique to unique carrier codes."
   ]
  },
  {
   "cell_type": "code",
   "execution_count": 5,
   "metadata": {},
   "outputs": [
    {
     "data": {
      "text/plain": [
       "N665UA    1\n",
       "N706DN    1\n",
       "N225AG    1\n",
       "N2737U    1\n",
       "N2644U    1\n",
       "Name: TAIL_NUM, dtype: int64"
      ]
     },
     "execution_count": 5,
     "metadata": {},
     "output_type": "execute_result"
    }
   ],
   "source": [
    "data['TAIL_NUM'].value_counts().tail()"
   ]
  },
  {
   "cell_type": "markdown",
   "metadata": {},
   "source": [
    "---\n",
    "### **Carrier Flight Number**"
   ]
  },
  {
   "cell_type": "code",
   "execution_count": 11,
   "metadata": {},
   "outputs": [
    {
     "data": {
      "text/plain": [
       "6880"
      ]
     },
     "execution_count": 11,
     "metadata": {},
     "output_type": "execute_result"
    }
   ],
   "source": [
    "len(data['OP_CARRIER_FL_NUM'].value_counts())"
   ]
  },
  {
   "cell_type": "code",
   "execution_count": 72,
   "metadata": {},
   "outputs": [
    {
     "data": {
      "text/plain": [
       "403     310\n",
       "2116    294\n",
       "761     291\n",
       "2011    288\n",
       "465     287\n",
       "Name: OP_CARRIER_FL_NUM, dtype: int64"
      ]
     },
     "execution_count": 72,
     "metadata": {},
     "output_type": "execute_result"
    }
   ],
   "source": [
    "data['OP_CARRIER_FL_NUM'].value_counts().head()"
   ]
  },
  {
   "cell_type": "code",
   "execution_count": 73,
   "metadata": {},
   "outputs": [
    {
     "data": {
      "text/plain": [
       "WN    120\n",
       "NK     62\n",
       "AA     52\n",
       "B6     31\n",
       "UA     31\n",
       "F9     14\n",
       "Name: OP_UNIQUE_CARRIER, dtype: int64"
      ]
     },
     "execution_count": 73,
     "metadata": {},
     "output_type": "execute_result"
    }
   ],
   "source": [
    "data[data['OP_CARRIER_FL_NUM'] == 403]['OP_UNIQUE_CARRIER'].value_counts()"
   ]
  },
  {
   "cell_type": "markdown",
   "metadata": {},
   "source": [
    "---\n",
    "### **Origin Airport**"
   ]
  },
  {
   "cell_type": "code",
   "execution_count": 1,
   "metadata": {},
   "outputs": [
    {
     "ename": "NameError",
     "evalue": "name 'data' is not defined",
     "output_type": "error",
     "traceback": [
      "\u001b[0;31m---------------------------------------------------------------------------\u001b[0m",
      "\u001b[0;31mNameError\u001b[0m                                 Traceback (most recent call last)",
      "\u001b[0;32m<ipython-input-1-12041cfd807f>\u001b[0m in \u001b[0;36m<module>\u001b[0;34m\u001b[0m\n\u001b[0;32m----> 1\u001b[0;31m \u001b[0mlen\u001b[0m\u001b[0;34m(\u001b[0m\u001b[0mdata\u001b[0m\u001b[0;34m[\u001b[0m\u001b[0;34m'ORIGIN_AIRPORT_ID'\u001b[0m\u001b[0;34m]\u001b[0m\u001b[0;34m.\u001b[0m\u001b[0mcalue_counts\u001b[0m\u001b[0;34m(\u001b[0m\u001b[0;34m)\u001b[0m\u001b[0;34m)\u001b[0m\u001b[0;34m\u001b[0m\u001b[0;34m\u001b[0m\u001b[0m\n\u001b[0m",
      "\u001b[0;31mNameError\u001b[0m: name 'data' is not defined"
     ]
    }
   ],
   "source": [
    "len(data['ORIGIN_AIRPORT_ID'].calue_counts())"
   ]
  },
  {
   "cell_type": "code",
   "execution_count": null,
   "metadata": {},
   "outputs": [],
   "source": []
  },
  {
   "cell_type": "code",
   "execution_count": null,
   "metadata": {},
   "outputs": [],
   "source": []
  },
  {
   "cell_type": "code",
   "execution_count": null,
   "metadata": {},
   "outputs": [],
   "source": []
  },
  {
   "cell_type": "code",
   "execution_count": 14,
   "metadata": {},
   "outputs": [],
   "source": [
    "cols = list(data.columns)"
   ]
  },
  {
   "cell_type": "code",
   "execution_count": 17,
   "metadata": {},
   "outputs": [
    {
     "data": {
      "text/plain": [
       "['YEAR',\n",
       " 'MONTH',\n",
       " 'DAY_OF_MONTH',\n",
       " 'DAY_OF_WEEK',\n",
       " 'FL_DATE',\n",
       " 'MKT_UNIQUE_CARRIER',\n",
       " 'MKT_CARRIER_AIRLINE_ID',\n",
       " 'MKT_CARRIER_FL_NUM',\n",
       " 'OP_UNIQUE_CARRIER',\n",
       " 'TAIL_NUM',\n",
       " 'OP_CARRIER_FL_NUM',\n",
       " 'ORIGIN_AIRPORT_ID',\n",
       " 'ORIGIN_AIRPORT_SEQ_ID',\n",
       " 'ORIGIN_CITY_MARKET_ID',\n",
       " 'ORIGIN',\n",
       " 'ORIGIN_CITY_NAME',\n",
       " 'ORIGIN_STATE_ABR',\n",
       " 'DEST_AIRPORT_ID',\n",
       " 'DEST_AIRPORT_SEQ_ID',\n",
       " 'DEST_CITY_MARKET_ID',\n",
       " 'DEST',\n",
       " 'DEST_CITY_NAME',\n",
       " 'DEST_STATE_ABR',\n",
       " 'DEST_STATE_FIPS',\n",
       " 'DEST_STATE_NM',\n",
       " 'DEST_WAC',\n",
       " 'CRS_DEP_TIME',\n",
       " 'DEP_TIME',\n",
       " 'DEP_DELAY',\n",
       " 'DEP_DELAY_NEW',\n",
       " 'DEP_DEL15',\n",
       " 'TAXI_OUT',\n",
       " 'WHEELS_OFF',\n",
       " 'WHEELS_ON',\n",
       " 'TAXI_IN',\n",
       " 'CANCELLED',\n",
       " 'CANCELLATION_CODE',\n",
       " 'DIVERTED',\n",
       " 'DUP',\n",
       " 'FLIGHTS',\n",
       " 'DISTANCE',\n",
       " 'CARRIER_DELAY',\n",
       " 'WEATHER_DELAY',\n",
       " 'NAS_DELAY',\n",
       " 'SECURITY_DELAY',\n",
       " 'LATE_AIRCRAFT_DELAY',\n",
       " 'DIV_AIRPORT_LANDINGS',\n",
       " 'DIV_ARR_DELAY',\n",
       " 'DIV_DISTANCE',\n",
       " 'Unnamed: 49']"
      ]
     },
     "execution_count": 17,
     "metadata": {},
     "output_type": "execute_result"
    }
   ],
   "source": [
    "cols"
   ]
  },
  {
   "cell_type": "code",
   "execution_count": null,
   "metadata": {},
   "outputs": [],
   "source": []
  },
  {
   "cell_type": "code",
   "execution_count": null,
   "metadata": {},
   "outputs": [],
   "source": []
  },
  {
   "cell_type": "code",
   "execution_count": null,
   "metadata": {},
   "outputs": [],
   "source": []
  },
  {
   "cell_type": "code",
   "execution_count": null,
   "metadata": {},
   "outputs": [],
   "source": []
  },
  {
   "cell_type": "code",
   "execution_count": null,
   "metadata": {},
   "outputs": [],
   "source": []
  },
  {
   "cell_type": "code",
   "execution_count": null,
   "metadata": {},
   "outputs": [],
   "source": []
  },
  {
   "cell_type": "code",
   "execution_count": null,
   "metadata": {},
   "outputs": [],
   "source": []
  },
  {
   "cell_type": "code",
   "execution_count": null,
   "metadata": {},
   "outputs": [],
   "source": []
  },
  {
   "cell_type": "code",
   "execution_count": null,
   "metadata": {},
   "outputs": [],
   "source": []
  },
  {
   "cell_type": "code",
   "execution_count": null,
   "metadata": {},
   "outputs": [],
   "source": []
  },
  {
   "cell_type": "code",
   "execution_count": null,
   "metadata": {},
   "outputs": [],
   "source": []
  }
 ],
 "metadata": {
  "kernelspec": {
   "display_name": "Python 3",
   "language": "python",
   "name": "python3"
  },
  "language_info": {
   "codemirror_mode": {
    "name": "ipython",
    "version": 3
   },
   "file_extension": ".py",
   "mimetype": "text/x-python",
   "name": "python",
   "nbconvert_exporter": "python",
   "pygments_lexer": "ipython3",
   "version": "3.7.1"
  }
 },
 "nbformat": 4,
 "nbformat_minor": 2
}
