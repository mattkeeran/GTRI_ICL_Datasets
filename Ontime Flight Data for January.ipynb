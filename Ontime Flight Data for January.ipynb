{
 "cells": [
  {
   "cell_type": "markdown",
   "metadata": {},
   "source": [
    "\n",
    "## <p style=\"text-align: center;\">**Airline On Time Performance**</p>\n",
    "### <p style=\"text-align: center;\">**Univariate Analysis**</p>\n",
    "### <p style=\"text-align: center;\">**Matt Keeran**<br><br>9/24/19</p>\n"
   ]
  },
  {
   "cell_type": "markdown",
   "metadata": {},
   "source": [
    "***\n",
    "## **Table of Contents** <a id=\"toc\"></a>\n",
    "### 0. <a href=\"#schema\">Schema</a>\n",
    "### 1. <a href=\"#eda\">Exploratory Data Analysis</a>\n",
    "***"
   ]
  },
  {
   "cell_type": "code",
   "execution_count": 1,
   "metadata": {},
   "outputs": [],
   "source": [
    "import sys\n",
    "import numpy as np\n",
    "import pandas as pd\n",
    "\n",
    "import matplotlib\n",
    "import matplotlib.pyplot as plt\n",
    "import seaborn as sns\n",
    "\n",
    "%matplotlib inline\n",
    "pd.set_option('display.max_rows', None)\n",
    "pd.set_option('display.max_columns', None)"
   ]
  },
  {
   "cell_type": "code",
   "execution_count": 3,
   "metadata": {},
   "outputs": [
    {
     "name": "stdout",
     "output_type": "stream",
     "text": [
      "'Airline Arrivals Univariate.ipynb'   nohup.out    SF_Resturant_Scores\n",
      " Airline_On_Time_Performance\t      README.md\n",
      " Bike-Sharing-Dataset\t\t      schema.txt\n"
     ]
    }
   ],
   "source": [
    "!ls"
   ]
  },
  {
   "cell_type": "code",
   "execution_count": 5,
   "metadata": {},
   "outputs": [
    {
     "name": "stdout",
     "output_type": "stream",
     "text": [
      "Airline_On_Time_Performance.csv  Airline_On_Time_Performance_ReadMe.csv\n"
     ]
    }
   ],
   "source": [
    "!ls Airline_On_Time_Performance/"
   ]
  },
  {
   "cell_type": "code",
   "execution_count": 2,
   "metadata": {},
   "outputs": [
    {
     "name": "stdout",
     "output_type": "stream",
     "text": [
      "CPU times: user 4.52 s, sys: 367 ms, total: 4.89 s\n",
      "Wall time: 5.11 s\n",
      "<class 'pandas.core.frame.DataFrame'>\n",
      "RangeIndex: 638649 entries, 0 to 638648\n",
      "Data columns (total 50 columns):\n",
      "YEAR                      638649 non-null int64\n",
      "MONTH                     638649 non-null int64\n",
      "DAY_OF_MONTH              638649 non-null int64\n",
      "DAY_OF_WEEK               638649 non-null int64\n",
      "FL_DATE                   638649 non-null object\n",
      "MKT_UNIQUE_CARRIER        638649 non-null object\n",
      "MKT_CARRIER_AIRLINE_ID    638649 non-null int64\n",
      "MKT_CARRIER_FL_NUM        638649 non-null int64\n",
      "OP_UNIQUE_CARRIER         638649 non-null object\n",
      "TAIL_NUM                  633964 non-null object\n",
      "OP_CARRIER_FL_NUM         638649 non-null int64\n",
      "ORIGIN_AIRPORT_ID         638649 non-null int64\n",
      "ORIGIN_AIRPORT_SEQ_ID     638649 non-null int64\n",
      "ORIGIN_CITY_MARKET_ID     638649 non-null int64\n",
      "ORIGIN                    638649 non-null object\n",
      "ORIGIN_CITY_NAME          638649 non-null object\n",
      "ORIGIN_STATE_ABR          638649 non-null object\n",
      "DEST_AIRPORT_ID           638649 non-null int64\n",
      "DEST_AIRPORT_SEQ_ID       638649 non-null int64\n",
      "DEST_CITY_MARKET_ID       638649 non-null int64\n",
      "DEST                      638649 non-null object\n",
      "DEST_CITY_NAME            638649 non-null object\n",
      "DEST_STATE_ABR            638649 non-null object\n",
      "DEST_STATE_FIPS           638649 non-null int64\n",
      "DEST_STATE_NM             638649 non-null object\n",
      "DEST_WAC                  638649 non-null int64\n",
      "CRS_DEP_TIME              638649 non-null int64\n",
      "DEP_TIME                  619550 non-null float64\n",
      "DEP_DELAY                 619547 non-null float64\n",
      "DEP_DELAY_NEW             619547 non-null float64\n",
      "DEP_DEL15                 619547 non-null float64\n",
      "TAXI_OUT                  619253 non-null float64\n",
      "WHEELS_OFF                619253 non-null float64\n",
      "WHEELS_ON                 618710 non-null float64\n",
      "TAXI_IN                   618710 non-null float64\n",
      "CANCELLED                 638649 non-null float64\n",
      "CANCELLATION_CODE         19550 non-null object\n",
      "DIVERTED                  638649 non-null float64\n",
      "DUP                       638649 non-null object\n",
      "FLIGHTS                   638649 non-null float64\n",
      "DISTANCE                  638649 non-null float64\n",
      "CARRIER_DELAY             117144 non-null float64\n",
      "WEATHER_DELAY             117144 non-null float64\n",
      "NAS_DELAY                 117144 non-null float64\n",
      "SECURITY_DELAY            117144 non-null float64\n",
      "LATE_AIRCRAFT_DELAY       117144 non-null float64\n",
      "DIV_AIRPORT_LANDINGS      638649 non-null int64\n",
      "DIV_ARR_DELAY             1061 non-null float64\n",
      "DIV_DISTANCE              1450 non-null float64\n",
      "Unnamed: 49               0 non-null float64\n",
      "dtypes: float64(20), int64(17), object(13)\n",
      "memory usage: 243.6+ MB\n"
     ]
    }
   ],
   "source": [
    "%time data = pd.read_csv('Airline_On_Time_Performance/Airline_On_Time_Performance.csv')\n",
    "data.info()"
   ]
  },
  {
   "cell_type": "code",
   "execution_count": 3,
   "metadata": {},
   "outputs": [],
   "source": [
    "data.drop('Unnamed: 49', axis=1, inplace=True)"
   ]
  },
  {
   "cell_type": "code",
   "execution_count": 4,
   "metadata": {},
   "outputs": [
    {
     "data": {
      "text/html": [
       "<div>\n",
       "<style scoped>\n",
       "    .dataframe tbody tr th:only-of-type {\n",
       "        vertical-align: middle;\n",
       "    }\n",
       "\n",
       "    .dataframe tbody tr th {\n",
       "        vertical-align: top;\n",
       "    }\n",
       "\n",
       "    .dataframe thead th {\n",
       "        text-align: right;\n",
       "    }\n",
       "</style>\n",
       "<table border=\"1\" class=\"dataframe\">\n",
       "  <thead>\n",
       "    <tr style=\"text-align: right;\">\n",
       "      <th></th>\n",
       "      <th>SYS_FIELD_NAME</th>\n",
       "      <th>FIELD_DESC</th>\n",
       "      <th>Unnamed: 2</th>\n",
       "    </tr>\n",
       "  </thead>\n",
       "  <tbody>\n",
       "    <tr>\n",
       "      <th>0</th>\n",
       "      <td>YEAR</td>\n",
       "      <td>Year</td>\n",
       "      <td>NaN</td>\n",
       "    </tr>\n",
       "    <tr>\n",
       "      <th>1</th>\n",
       "      <td>MONTH</td>\n",
       "      <td>Month</td>\n",
       "      <td>NaN</td>\n",
       "    </tr>\n",
       "    <tr>\n",
       "      <th>2</th>\n",
       "      <td>DAY_OF_MONTH</td>\n",
       "      <td>Day of Month</td>\n",
       "      <td>NaN</td>\n",
       "    </tr>\n",
       "    <tr>\n",
       "      <th>3</th>\n",
       "      <td>DAY_OF_WEEK</td>\n",
       "      <td>Day of Week</td>\n",
       "      <td>NaN</td>\n",
       "    </tr>\n",
       "    <tr>\n",
       "      <th>4</th>\n",
       "      <td>FL_DATE</td>\n",
       "      <td>Flight Date (yyyymmdd)</td>\n",
       "      <td>NaN</td>\n",
       "    </tr>\n",
       "  </tbody>\n",
       "</table>\n",
       "</div>"
      ],
      "text/plain": [
       "  SYS_FIELD_NAME              FIELD_DESC  Unnamed: 2\n",
       "0           YEAR                    Year         NaN\n",
       "1          MONTH                   Month         NaN\n",
       "2   DAY_OF_MONTH            Day of Month         NaN\n",
       "3    DAY_OF_WEEK             Day of Week         NaN\n",
       "4        FL_DATE  Flight Date (yyyymmdd)         NaN"
      ]
     },
     "execution_count": 4,
     "metadata": {},
     "output_type": "execute_result"
    }
   ],
   "source": [
    "schema = pd.read_csv('Airline_On_Time_Performance/Airline_On_Time_Performance_ReadMe.csv')\n",
    "schema.head()"
   ]
  },
  {
   "cell_type": "code",
   "execution_count": 7,
   "metadata": {},
   "outputs": [
    {
     "data": {
      "text/plain": [
       "['SYS_FIELD_NAME', ' FIELD_DESC', 'Unnamed: 2']"
      ]
     },
     "execution_count": 7,
     "metadata": {},
     "output_type": "execute_result"
    }
   ],
   "source": [
    "list(schema.columns)"
   ]
  },
  {
   "cell_type": "code",
   "execution_count": 5,
   "metadata": {},
   "outputs": [
    {
     "data": {
      "text/html": [
       "<div>\n",
       "<style scoped>\n",
       "    .dataframe tbody tr th:only-of-type {\n",
       "        vertical-align: middle;\n",
       "    }\n",
       "\n",
       "    .dataframe tbody tr th {\n",
       "        vertical-align: top;\n",
       "    }\n",
       "\n",
       "    .dataframe thead th {\n",
       "        text-align: right;\n",
       "    }\n",
       "</style>\n",
       "<table border=\"1\" class=\"dataframe\">\n",
       "  <thead>\n",
       "    <tr style=\"text-align: right;\">\n",
       "      <th></th>\n",
       "      <th>Field</th>\n",
       "      <th>Description</th>\n",
       "    </tr>\n",
       "  </thead>\n",
       "  <tbody>\n",
       "    <tr>\n",
       "      <th>0</th>\n",
       "      <td>YEAR</td>\n",
       "      <td>Year</td>\n",
       "    </tr>\n",
       "    <tr>\n",
       "      <th>1</th>\n",
       "      <td>MONTH</td>\n",
       "      <td>Month</td>\n",
       "    </tr>\n",
       "    <tr>\n",
       "      <th>2</th>\n",
       "      <td>DAY_OF_MONTH</td>\n",
       "      <td>Day of Month</td>\n",
       "    </tr>\n",
       "    <tr>\n",
       "      <th>3</th>\n",
       "      <td>DAY_OF_WEEK</td>\n",
       "      <td>Day of Week</td>\n",
       "    </tr>\n",
       "    <tr>\n",
       "      <th>4</th>\n",
       "      <td>FL_DATE</td>\n",
       "      <td>Flight Date (yyyymmdd)</td>\n",
       "    </tr>\n",
       "  </tbody>\n",
       "</table>\n",
       "</div>"
      ],
      "text/plain": [
       "          Field             Description\n",
       "0          YEAR                    Year\n",
       "1         MONTH                   Month\n",
       "2  DAY_OF_MONTH            Day of Month\n",
       "3   DAY_OF_WEEK             Day of Week\n",
       "4       FL_DATE  Flight Date (yyyymmdd)"
      ]
     },
     "execution_count": 5,
     "metadata": {},
     "output_type": "execute_result"
    }
   ],
   "source": [
    "schema.drop('Unnamed: 2', axis=1, inplace=True)\n",
    "schema.columns = ['Field', 'Description']\n",
    "schema.head()"
   ]
  },
  {
   "cell_type": "code",
   "execution_count": 44,
   "metadata": {},
   "outputs": [],
   "source": [
    "def scheme():\n",
    "    f = open('schema.txt', 'w')\n",
    "    f.write(\"SCHEMA:\\n-----------------------------------------------------------------------------------------------------------------------------------------------------\\n\")\n",
    "    print(\"SCHEMA:\\n------------------------------------------------------------------------------------------------------------------------------------------------------------\")\n",
    "    for index, row in schema.iterrows():\n",
    "        f.write('{}. {}:\\t{}\\t\\t{:,} NON NULL VALUES\\t\\t{:,} TOTAL VALUES\\t{:.2f} % NULL\\n'.format(\n",
    "            index,\n",
    "            row['Field'], \n",
    "            str(type(data[row['Field']].iloc[0])), \n",
    "            (len(data[row['Field']]) - data[row['Field']].isnull().sum()),\n",
    "            len(data[row['Field']]),\n",
    "            ((data[row['Field']].isnull().sum()/len(data[row['Field']])))*100)\n",
    "       )\n",
    "        print('{}. {}:\\t{}\\t\\t{:,} NON NULL VALUES\\t\\t{:,} TOTAL VALUES\\t{:.2f} % NULL'.format(\n",
    "            index,\n",
    "            row['Field'], \n",
    "            str(type(data[row['Field']].iloc[0])), \n",
    "            (len(data[row['Field']]) - data[row['Field']].isnull().sum()),\n",
    "            len(data[row['Field']]),\n",
    "            ((data[row['Field']].isnull().sum()/len(data[row['Field']])))*100)\n",
    "        )\n",
    "        f.write(row['Description'] + '\\n\\n')\n",
    "        print(row['Description'] + '\\n')\n",
    "        try:\n",
    "            f.write('{}\\t{}'.format(data[row['Field']].min(), data[row['Field']].max()))\n",
    "            print('{}\\t{}'.format(data[row['Field']].min(), data[row['Field']].max()))\n",
    "        except Exception:\n",
    "            f.write('{}'.format(list(data[row['Field']].value_counts().head(2).index)))\n",
    "            print('{}'.format(list(data[row['Field']].value_counts().head(2).index)))\n",
    "            \n",
    "        f.write('\\n------------------------------------------------------------------------------------------------------------------------------------------------------\\n')\n",
    "        print('\\n---------------------------------------------------------------------------------------------------------------------------------------------------------------')\n",
    "    f.close()"
   ]
  },
  {
   "cell_type": "markdown",
   "metadata": {},
   "source": [
    "***\n",
    "### **0. Schema** <a id=\"schema\"></a>\n",
    "##### <a href=\"#toc\">Table of Contents</a>\n",
    "***"
   ]
  },
  {
   "cell_type": "code",
   "execution_count": 45,
   "metadata": {},
   "outputs": [
    {
     "name": "stdout",
     "output_type": "stream",
     "text": [
      "SCHEMA:\n",
      "------------------------------------------------------------------------------------------------------------------------------------------------------------\n",
      "0. YEAR:\t<class 'numpy.int64'>\t\t638,649 NON NULL VALUES\t\t638,649 TOTAL VALUES\t0.00 % NULL\n",
      "Year\n",
      "\n",
      "2019\t2019\n",
      "\n",
      "---------------------------------------------------------------------------------------------------------------------------------------------------------------\n",
      "1. MONTH:\t<class 'numpy.int64'>\t\t638,649 NON NULL VALUES\t\t638,649 TOTAL VALUES\t0.00 % NULL\n",
      "Month\n",
      "\n",
      "1\t1\n",
      "\n",
      "---------------------------------------------------------------------------------------------------------------------------------------------------------------\n",
      "2. DAY_OF_MONTH:\t<class 'numpy.int64'>\t\t638,649 NON NULL VALUES\t\t638,649 TOTAL VALUES\t0.00 % NULL\n",
      "Day of Month\n",
      "\n",
      "1\t31\n",
      "\n",
      "---------------------------------------------------------------------------------------------------------------------------------------------------------------\n",
      "3. DAY_OF_WEEK:\t<class 'numpy.int64'>\t\t638,649 NON NULL VALUES\t\t638,649 TOTAL VALUES\t0.00 % NULL\n",
      "Day of Week\n",
      "\n",
      "1\t7\n",
      "\n",
      "---------------------------------------------------------------------------------------------------------------------------------------------------------------\n",
      "4. FL_DATE:\t<class 'str'>\t\t638,649 NON NULL VALUES\t\t638,649 TOTAL VALUES\t0.00 % NULL\n",
      "Flight Date (yyyymmdd)\n",
      "\n",
      "2019-01-01\t2019-01-31\n",
      "\n",
      "---------------------------------------------------------------------------------------------------------------------------------------------------------------\n",
      "5. MKT_UNIQUE_CARRIER:\t<class 'str'>\t\t638,649 NON NULL VALUES\t\t638,649 TOTAL VALUES\t0.00 % NULL\n",
      "Unique Marketing Carrier Code. When the same code has been used by multiple carriers, a numeric suffix is used for earlier users, for example, PA, PA(1), PA(2). Use this field for analysis across a range of years.\n",
      "\n",
      "AA\tWN\n",
      "\n",
      "---------------------------------------------------------------------------------------------------------------------------------------------------------------\n",
      "6. MKT_CARRIER_AIRLINE_ID:\t<class 'numpy.int64'>\t\t638,649 NON NULL VALUES\t\t638,649 TOTAL VALUES\t0.00 % NULL\n",
      "An identification number assigned by US DOT to identify a unique airline (carrier). A unique airline (carrier) is defined as one holding and reporting under the same DOT certificate regardless of its Code, Name, or holding company/corporation.\n",
      "\n",
      "19393\t20436\n",
      "\n",
      "---------------------------------------------------------------------------------------------------------------------------------------------------------------\n",
      "7. MKT_CARRIER_FL_NUM:\t<class 'numpy.int64'>\t\t638,649 NON NULL VALUES\t\t638,649 TOTAL VALUES\t0.00 % NULL\n",
      "Flight Number\n",
      "\n",
      "1\t9401\n",
      "\n",
      "---------------------------------------------------------------------------------------------------------------------------------------------------------------\n",
      "8. OP_UNIQUE_CARRIER:\t<class 'str'>\t\t638,649 NON NULL VALUES\t\t638,649 TOTAL VALUES\t0.00 % NULL\n",
      "Unique Carrier Code. When the same code has been used by multiple carriers, a numeric suffix is used for earlier users, for example, PA, PA(1), PA(2). Use this field for analysis across a range of years.\n",
      "\n",
      "9E\tZW\n",
      "\n",
      "---------------------------------------------------------------------------------------------------------------------------------------------------------------\n",
      "9. TAIL_NUM:\t<class 'str'>\t\t633,964 NON NULL VALUES\t\t638,649 TOTAL VALUES\t0.73 % NULL\n",
      "Tail Number\n",
      "\n",
      "['N488HA', 'N481HA']\n",
      "\n",
      "---------------------------------------------------------------------------------------------------------------------------------------------------------------\n",
      "10. OP_CARRIER_FL_NUM:\t<class 'numpy.int64'>\t\t638,649 NON NULL VALUES\t\t638,649 TOTAL VALUES\t0.00 % NULL\n",
      "Flight Number\n",
      "\n",
      "1\t9401\n",
      "\n",
      "---------------------------------------------------------------------------------------------------------------------------------------------------------------\n",
      "11. ORIGIN_AIRPORT_ID:\t<class 'numpy.int64'>\t\t638,649 NON NULL VALUES\t\t638,649 TOTAL VALUES\t0.00 % NULL\n",
      "Origin Airport, Airport ID. An identification number assigned by US DOT to identify a unique airport.  Use this field for airport analysis across a range of years because an airport can change its airport code and airport codes can be reused.\n",
      "\n",
      "10135\t16218\n",
      "\n",
      "---------------------------------------------------------------------------------------------------------------------------------------------------------------\n",
      "12. ORIGIN_AIRPORT_SEQ_ID:\t<class 'numpy.int64'>\t\t638,649 NON NULL VALUES\t\t638,649 TOTAL VALUES\t0.00 % NULL\n",
      "Origin Airport, Airport Sequence ID. An identification number assigned by US DOT to identify a unique airport at a given point of time.  Airport attributes, such as airport name or coordinates, may change over time.\n",
      "\n",
      "1013505\t1621802\n",
      "\n",
      "---------------------------------------------------------------------------------------------------------------------------------------------------------------\n",
      "13. ORIGIN_CITY_MARKET_ID:\t<class 'numpy.int64'>\t\t638,649 NON NULL VALUES\t\t638,649 TOTAL VALUES\t0.00 % NULL\n",
      "Origin Airport, City Market ID. City Market ID is an identification number assigned by US DOT to identify a city market.  Use this field to consolidate airports serving the same city market.\n",
      "\n",
      "30070\t36101\n",
      "\n",
      "---------------------------------------------------------------------------------------------------------------------------------------------------------------\n",
      "14. ORIGIN:\t<class 'str'>\t\t638,649 NON NULL VALUES\t\t638,649 TOTAL VALUES\t0.00 % NULL\n",
      "Origin Airport\n",
      "\n",
      "ABE\tYUM\n",
      "\n",
      "---------------------------------------------------------------------------------------------------------------------------------------------------------------\n",
      "15. ORIGIN_CITY_NAME:\t<class 'str'>\t\t638,649 NON NULL VALUES\t\t638,649 TOTAL VALUES\t0.00 % NULL\n",
      "Origin Airport, City Name\n",
      "\n",
      "Aberdeen, SD\tYuma, AZ\n",
      "\n",
      "---------------------------------------------------------------------------------------------------------------------------------------------------------------\n",
      "16. ORIGIN_STATE_ABR:\t<class 'str'>\t\t638,649 NON NULL VALUES\t\t638,649 TOTAL VALUES\t0.00 % NULL\n",
      "Origin Airport, State Code\n",
      "\n",
      "AK\tWY\n",
      "\n",
      "---------------------------------------------------------------------------------------------------------------------------------------------------------------\n",
      "17. DEST_AIRPORT_ID:\t<class 'numpy.int64'>\t\t638,649 NON NULL VALUES\t\t638,649 TOTAL VALUES\t0.00 % NULL\n",
      "Destination Airport, Airport ID. An identification number assigned by US DOT to identify a unique airport.  Use this field for airport analysis across a range of years because an airport can change its airport code and airport codes can be reused.\n",
      "\n",
      "10135\t16218\n",
      "\n",
      "---------------------------------------------------------------------------------------------------------------------------------------------------------------\n",
      "18. DEST_AIRPORT_SEQ_ID:\t<class 'numpy.int64'>\t\t638,649 NON NULL VALUES\t\t638,649 TOTAL VALUES\t0.00 % NULL\n",
      "Destination Airport, Airport Sequence ID. An identification number assigned by US DOT to identify a unique airport at a given point of time.  Airport attributes, such as airport name or coordinates, may change over time.\n",
      "\n",
      "1013505\t1621802\n",
      "\n",
      "---------------------------------------------------------------------------------------------------------------------------------------------------------------\n",
      "19. DEST_CITY_MARKET_ID:\t<class 'numpy.int64'>\t\t638,649 NON NULL VALUES\t\t638,649 TOTAL VALUES\t0.00 % NULL\n",
      "Destination Airport, City Market ID. City Market ID is an identification number assigned by US DOT to identify a city market.  Use this field to consolidate airports serving the same city market.\n",
      "\n",
      "30070\t36101\n",
      "\n",
      "---------------------------------------------------------------------------------------------------------------------------------------------------------------\n",
      "20. DEST:\t<class 'str'>\t\t638,649 NON NULL VALUES\t\t638,649 TOTAL VALUES\t0.00 % NULL\n",
      "Destination Airport\n",
      "\n",
      "ABE\tYUM\n",
      "\n",
      "---------------------------------------------------------------------------------------------------------------------------------------------------------------\n",
      "21. DEST_CITY_NAME:\t<class 'str'>\t\t638,649 NON NULL VALUES\t\t638,649 TOTAL VALUES\t0.00 % NULL\n",
      "Destination Airport, City Name\n",
      "\n",
      "Aberdeen, SD\tYuma, AZ\n",
      "\n",
      "---------------------------------------------------------------------------------------------------------------------------------------------------------------\n",
      "22. DEST_STATE_ABR:\t<class 'str'>\t\t638,649 NON NULL VALUES\t\t638,649 TOTAL VALUES\t0.00 % NULL\n",
      "Destination Airport, State Code\n",
      "\n",
      "AK\tWY\n",
      "\n",
      "---------------------------------------------------------------------------------------------------------------------------------------------------------------\n",
      "23. DEST_STATE_FIPS:\t<class 'numpy.int64'>\t\t638,649 NON NULL VALUES\t\t638,649 TOTAL VALUES\t0.00 % NULL\n",
      "Destination Airport, State Fips\n",
      "\n",
      "1\t78\n",
      "\n",
      "---------------------------------------------------------------------------------------------------------------------------------------------------------------\n",
      "24. DEST_STATE_NM:\t<class 'str'>\t\t638,649 NON NULL VALUES\t\t638,649 TOTAL VALUES\t0.00 % NULL\n",
      "Destination Airport, State Name\n",
      "\n",
      "Alabama\tWyoming\n",
      "\n",
      "---------------------------------------------------------------------------------------------------------------------------------------------------------------\n",
      "25. DEST_WAC:\t<class 'numpy.int64'>\t\t638,649 NON NULL VALUES\t\t638,649 TOTAL VALUES\t0.00 % NULL\n",
      "Destination Airport, World Area Code\n",
      "\n",
      "1\t93\n",
      "\n",
      "---------------------------------------------------------------------------------------------------------------------------------------------------------------\n",
      "26. CRS_DEP_TIME:\t<class 'numpy.int64'>\t\t638,649 NON NULL VALUES\t\t638,649 TOTAL VALUES\t0.00 % NULL\n",
      "CRS Departure Time (local time: hhmm)\n",
      "\n",
      "1\t2359\n",
      "\n",
      "---------------------------------------------------------------------------------------------------------------------------------------------------------------\n",
      "27. DEP_TIME:\t<class 'numpy.float64'>\t\t619,550 NON NULL VALUES\t\t638,649 TOTAL VALUES\t2.99 % NULL\n",
      "Actual Departure Time (local time: hhmm)\n",
      "\n",
      "1.0\t2400.0\n",
      "\n",
      "---------------------------------------------------------------------------------------------------------------------------------------------------------------\n",
      "28. DEP_DELAY:\t<class 'numpy.float64'>\t\t619,547 NON NULL VALUES\t\t638,649 TOTAL VALUES\t2.99 % NULL\n",
      "Difference in minutes between scheduled and actual departure time. Early departures show negative numbers.\n",
      "\n",
      "-47.0\t1690.0\n",
      "\n",
      "---------------------------------------------------------------------------------------------------------------------------------------------------------------\n",
      "29. DEP_DELAY_NEW:\t<class 'numpy.float64'>\t\t619,547 NON NULL VALUES\t\t638,649 TOTAL VALUES\t2.99 % NULL\n",
      "Difference in minutes between scheduled and actual departure time. Early departures set to 0.\n",
      "\n",
      "0.0\t1690.0\n",
      "\n",
      "---------------------------------------------------------------------------------------------------------------------------------------------------------------\n",
      "30. DEP_DEL15:\t<class 'numpy.float64'>\t\t619,547 NON NULL VALUES\t\t638,649 TOTAL VALUES\t2.99 % NULL\n",
      "Departure Delay Indicator, 15 Minutes or More (1=Yes)\n",
      "\n",
      "0.0\t1.0\n",
      "\n",
      "---------------------------------------------------------------------------------------------------------------------------------------------------------------\n",
      "31. TAXI_OUT:\t<class 'numpy.float64'>\t\t619,253 NON NULL VALUES\t\t638,649 TOTAL VALUES\t3.04 % NULL\n",
      "Taxi Out Time, in Minutes\n",
      "\n",
      "0.0\t181.0\n",
      "\n",
      "---------------------------------------------------------------------------------------------------------------------------------------------------------------\n",
      "32. WHEELS_OFF:\t<class 'numpy.float64'>\t\t619,253 NON NULL VALUES\t\t638,649 TOTAL VALUES\t3.04 % NULL\n",
      "Wheels Off Time (local time: hhmm)\n",
      "\n",
      "1.0\t2400.0\n",
      "\n",
      "---------------------------------------------------------------------------------------------------------------------------------------------------------------\n",
      "33. WHEELS_ON:\t<class 'numpy.float64'>\t\t618,710 NON NULL VALUES\t\t638,649 TOTAL VALUES\t3.12 % NULL\n",
      "Wheels On Time (local time: hhmm)\n",
      "\n",
      "1.0\t2400.0\n",
      "\n",
      "---------------------------------------------------------------------------------------------------------------------------------------------------------------\n",
      "34. TAXI_IN:\t<class 'numpy.float64'>\t\t618,710 NON NULL VALUES\t\t638,649 TOTAL VALUES\t3.12 % NULL\n",
      "Taxi In Time, in Minutes\n",
      "\n",
      "0.0\t282.0\n",
      "\n",
      "---------------------------------------------------------------------------------------------------------------------------------------------------------------\n",
      "35. CANCELLED:\t<class 'numpy.float64'>\t\t638,649 NON NULL VALUES\t\t638,649 TOTAL VALUES\t0.00 % NULL\n",
      "Cancelled Flight Indicator (1=Yes)\n",
      "\n",
      "0.0\t1.0\n",
      "\n",
      "---------------------------------------------------------------------------------------------------------------------------------------------------------------\n",
      "36. CANCELLATION_CODE:\t<class 'float'>\t\t19,550 NON NULL VALUES\t\t638,649 TOTAL VALUES\t96.94 % NULL\n",
      "Specifies The Reason For Cancellation\n",
      "\n",
      "['B', 'C']\n",
      "\n",
      "---------------------------------------------------------------------------------------------------------------------------------------------------------------\n",
      "37. DIVERTED:\t<class 'numpy.float64'>\t\t638,649 NON NULL VALUES\t\t638,649 TOTAL VALUES\t0.00 % NULL\n",
      "Diverted Flight Indicator (1=Yes)\n",
      "\n",
      "0.0\t1.0\n",
      "\n",
      "---------------------------------------------------------------------------------------------------------------------------------------------------------------\n",
      "38. FLIGHTS:\t<class 'numpy.float64'>\t\t638,649 NON NULL VALUES\t\t638,649 TOTAL VALUES\t0.00 % NULL\n",
      "Number of Flights\n",
      "\n",
      "1.0\t1.0\n",
      "\n",
      "---------------------------------------------------------------------------------------------------------------------------------------------------------------\n",
      "39. DISTANCE:\t<class 'numpy.float64'>\t\t638,649 NON NULL VALUES\t\t638,649 TOTAL VALUES\t0.00 % NULL\n",
      "Distance between airports (miles)\n",
      "\n",
      "31.0\t4983.0\n",
      "\n",
      "---------------------------------------------------------------------------------------------------------------------------------------------------------------\n",
      "40. CARRIER_DELAY:\t<class 'numpy.float64'>\t\t117,144 NON NULL VALUES\t\t638,649 TOTAL VALUES\t81.66 % NULL\n",
      "Carrier Delay, in Minutes\n",
      "\n",
      "0.0\t1638.0\n",
      "\n",
      "---------------------------------------------------------------------------------------------------------------------------------------------------------------\n",
      "41. WEATHER_DELAY:\t<class 'numpy.float64'>\t\t117,144 NON NULL VALUES\t\t638,649 TOTAL VALUES\t81.66 % NULL\n",
      "Weather Delay, in Minutes\n",
      "\n",
      "0.0\t1416.0\n",
      "\n",
      "---------------------------------------------------------------------------------------------------------------------------------------------------------------\n",
      "42. NAS_DELAY:\t<class 'numpy.float64'>\t\t117,144 NON NULL VALUES\t\t638,649 TOTAL VALUES\t81.66 % NULL\n",
      "National Air System Delay, in Minutes\n",
      "\n",
      "0.0\t1447.0\n",
      "\n",
      "---------------------------------------------------------------------------------------------------------------------------------------------------------------\n",
      "43. SECURITY_DELAY:\t<class 'numpy.float64'>\t\t117,144 NON NULL VALUES\t\t638,649 TOTAL VALUES\t81.66 % NULL\n",
      "Security Delay, in Minutes\n",
      "\n",
      "0.0\t816.0\n",
      "\n",
      "---------------------------------------------------------------------------------------------------------------------------------------------------------------\n",
      "44. LATE_AIRCRAFT_DELAY:\t<class 'numpy.float64'>\t\t117,144 NON NULL VALUES\t\t638,649 TOTAL VALUES\t81.66 % NULL\n",
      "Late Aircraft Delay, in Minutes\n",
      "\n",
      "0.0\t1514.0\n",
      "\n",
      "---------------------------------------------------------------------------------------------------------------------------------------------------------------\n",
      "45. DIV_AIRPORT_LANDINGS:\t<class 'numpy.int64'>\t\t638,649 NON NULL VALUES\t\t638,649 TOTAL VALUES\t0.00 % NULL\n",
      "Number of Diverted Airport Landings\n",
      "\n",
      "0\t9\n",
      "\n",
      "---------------------------------------------------------------------------------------------------------------------------------------------------------------\n",
      "46. DIV_ARR_DELAY:\t<class 'numpy.float64'>\t\t1,061 NON NULL VALUES\t\t638,649 TOTAL VALUES\t99.83 % NULL\n",
      "Difference in minutes between scheduled and actual arrival time for a diverted flight reaching scheduled destination.  The ArrDelay column remains NULL for all diverted flights.\n",
      "\n",
      "24.0\t1557.0\n",
      "\n",
      "---------------------------------------------------------------------------------------------------------------------------------------------------------------\n",
      "47. DIV_DISTANCE:\t<class 'numpy.float64'>\t\t1,450 NON NULL VALUES\t\t638,649 TOTAL VALUES\t99.77 % NULL\n",
      "Distance between scheduled destination and final diverted airport (miles).  Value will be 0 for diverted flight reaching scheduled destination.\n",
      "\n",
      "0.0\t2586.0\n",
      "\n",
      "---------------------------------------------------------------------------------------------------------------------------------------------------------------\n",
      "48. DUP:\t<class 'str'>\t\t638,649 NON NULL VALUES\t\t638,649 TOTAL VALUES\t0.00 % NULL\n",
      "Duplicate flag marked Y if the flight is swapped based on Form-3A data\n",
      "\n",
      "N\tN\n",
      "\n",
      "---------------------------------------------------------------------------------------------------------------------------------------------------------------\n"
     ]
    }
   ],
   "source": [
    "scheme()"
   ]
  },
  {
   "cell_type": "markdown",
   "metadata": {},
   "source": [
    "***\n",
    "### **1. Exploratory Data Analysis** <a id=\"eda\"></a>\n",
    "##### <a href=\"#schema\">Schema</a>\n",
    "##### <a href=\"#toc\">Main Table of Contents</a>\n",
    "###### 1. <a href=\"#date\">Date</a>\n",
    "###### 2. <a href=\"#mktcarrier\">Unique Marketing Carrier Code</a>\n",
    "###### 3. <a href=\"#mktcarrierid\">Unique Marketing Carrier Id</a>\n",
    "###### 4. <a href=\"#mktfl\">Marketing Flight Number</a>\n",
    "###### 5. <a href=\"#uqcarrier\">Unique Carrier Code</a>\n",
    "###### 6. <a href=\"#tail\">Tail Number</a>\n",
    "###### 7. <a href=\"#fl\">Flight Number</a>\n",
    "###### 8. <a href=\"#originid\">Origin Airport ID</a>\n",
    "###### 9. <a href=\"#originseq\">Origin Sequence ID</a>\n",
    "###### 10. <a href=\"#origincitymkt\">City Market ID</a>\n",
    "###### 11. <a href=\"#origin\">Origin Airport</a>\n",
    "###### 12. <a href=\"#origincity\">Origin City</a>\n",
    "###### 13. <a href=\"#originstate\">Origin State Code</a>\n",
    "###### 14. <a href=\"#destid\">Destination ID</a>\n",
    "###### 15. <a href=\"#destseq\">Destination Sequence ID</a>\n",
    "###### 16. <a href=\"#destcitymkt\">Destination City Market ID</a>\n",
    "###### 17. <a href=\"#dest\">Destination Airport</a>\n",
    "###### 18. <a href=\"#destcity\">Destination City</a>\n",
    "###### 19. <a href=\"#deststatecode\">Destination State Code</a>\n",
    "###### 20. <a href=\"#deststatefips\">Destination State Fips</a>\n",
    "###### 21. <a href=\"#destworld\">Destination World Area Code</a>\n",
    "###### 22. <a href=\"#deststate\">Destination State</a>\n",
    "###### 23. <a href=\"#crsdep\">CRS Departure Time</a>\n",
    "###### 24. <a href=\"#actualdep\">Actual Departure Time</a>\n",
    "###### 25. <a href=\"#depdelay\">Departure Delay</a>\n",
    "###### 26. <a href=\"#depdelaynew\">Departure Delay New</a>\n",
    "###### 27. <a href=\"#del15\">15 min Delay +</a>\n",
    "###### 28. <a href=\"#taxiout\">Taxi Out Time</a>\n",
    "###### 29. <a href=\"#wheelsoff\">Wheels Off Time</a>\n",
    "###### 30. <a href=\"#wheelson\">Wheels On Time</a>\n",
    "###### 31. <a href=\"#taxiin\">Taxi In Time</a>\n",
    "###### 32. <a href=\"#canceled\">Cancelled Flight</a>\n",
    "###### 33. <a href=\"#canceledreason\">Cancellation Reason</a>\n",
    "###### 34. <a href=\"#diverted\">Diverted</a>\n",
    "###### 35. <a href=\"#numfl\">Number of Flights</a>\n",
    "###### 36. <a href=\"#dist\">Distance</a>\n",
    "###### 37. <a href=\"#carrierdelay\">Carrier Delay</a>\n",
    "###### 38. <a href=\"#weatherdelay\">Weather Delay</a>\n",
    "###### 39. <a href=\"#nasdelay\">National Air System Delay</a>\n",
    "###### 40. <a href=\"#secdelay\">Security Delay</a>\n",
    "###### 41. <a href=\"#latedelay\">Late Aircraft Delay</a>\n",
    "###### 42. <a href=\"#numdiverted\">Number of Diverted Airport Landings</a>\n",
    "###### 43. <a href=\"#diff\">Diff In Minutes</a>\n",
    "###### 44. <a href=\"#diffdist\">Diff In Distance</a>\n",
    "###### 45. <a href=\"#dup\">Duplicate Flag</a>\n",
    "***"
   ]
  },
  {
   "cell_type": "code",
   "execution_count": 9,
   "metadata": {},
   "outputs": [
    {
     "data": {
      "text/html": [
       "<div>\n",
       "<style scoped>\n",
       "    .dataframe tbody tr th:only-of-type {\n",
       "        vertical-align: middle;\n",
       "    }\n",
       "\n",
       "    .dataframe tbody tr th {\n",
       "        vertical-align: top;\n",
       "    }\n",
       "\n",
       "    .dataframe thead th {\n",
       "        text-align: right;\n",
       "    }\n",
       "</style>\n",
       "<table border=\"1\" class=\"dataframe\">\n",
       "  <thead>\n",
       "    <tr style=\"text-align: right;\">\n",
       "      <th></th>\n",
       "      <th>YEAR</th>\n",
       "      <th>MONTH</th>\n",
       "      <th>DAY_OF_MONTH</th>\n",
       "      <th>DAY_OF_WEEK</th>\n",
       "      <th>FL_DATE</th>\n",
       "      <th>MKT_UNIQUE_CARRIER</th>\n",
       "      <th>MKT_CARRIER_AIRLINE_ID</th>\n",
       "      <th>MKT_CARRIER_FL_NUM</th>\n",
       "      <th>OP_UNIQUE_CARRIER</th>\n",
       "      <th>TAIL_NUM</th>\n",
       "      <th>...</th>\n",
       "      <th>DISTANCE</th>\n",
       "      <th>CARRIER_DELAY</th>\n",
       "      <th>WEATHER_DELAY</th>\n",
       "      <th>NAS_DELAY</th>\n",
       "      <th>SECURITY_DELAY</th>\n",
       "      <th>LATE_AIRCRAFT_DELAY</th>\n",
       "      <th>DIV_AIRPORT_LANDINGS</th>\n",
       "      <th>DIV_ARR_DELAY</th>\n",
       "      <th>DIV_DISTANCE</th>\n",
       "      <th>Unnamed: 49</th>\n",
       "    </tr>\n",
       "  </thead>\n",
       "  <tbody>\n",
       "    <tr>\n",
       "      <th>0</th>\n",
       "      <td>2019</td>\n",
       "      <td>1</td>\n",
       "      <td>19</td>\n",
       "      <td>6</td>\n",
       "      <td>2019-01-19</td>\n",
       "      <td>DL</td>\n",
       "      <td>19790</td>\n",
       "      <td>5245</td>\n",
       "      <td>9E</td>\n",
       "      <td>N176PQ</td>\n",
       "      <td>...</td>\n",
       "      <td>596.0</td>\n",
       "      <td>NaN</td>\n",
       "      <td>NaN</td>\n",
       "      <td>NaN</td>\n",
       "      <td>NaN</td>\n",
       "      <td>NaN</td>\n",
       "      <td>0</td>\n",
       "      <td>NaN</td>\n",
       "      <td>NaN</td>\n",
       "      <td>NaN</td>\n",
       "    </tr>\n",
       "    <tr>\n",
       "      <th>1</th>\n",
       "      <td>2019</td>\n",
       "      <td>1</td>\n",
       "      <td>20</td>\n",
       "      <td>7</td>\n",
       "      <td>2019-01-20</td>\n",
       "      <td>DL</td>\n",
       "      <td>19790</td>\n",
       "      <td>5245</td>\n",
       "      <td>9E</td>\n",
       "      <td>N309PQ</td>\n",
       "      <td>...</td>\n",
       "      <td>596.0</td>\n",
       "      <td>NaN</td>\n",
       "      <td>NaN</td>\n",
       "      <td>NaN</td>\n",
       "      <td>NaN</td>\n",
       "      <td>NaN</td>\n",
       "      <td>0</td>\n",
       "      <td>NaN</td>\n",
       "      <td>NaN</td>\n",
       "      <td>NaN</td>\n",
       "    </tr>\n",
       "    <tr>\n",
       "      <th>2</th>\n",
       "      <td>2019</td>\n",
       "      <td>1</td>\n",
       "      <td>21</td>\n",
       "      <td>1</td>\n",
       "      <td>2019-01-21</td>\n",
       "      <td>DL</td>\n",
       "      <td>19790</td>\n",
       "      <td>5245</td>\n",
       "      <td>9E</td>\n",
       "      <td>N176PQ</td>\n",
       "      <td>...</td>\n",
       "      <td>596.0</td>\n",
       "      <td>NaN</td>\n",
       "      <td>NaN</td>\n",
       "      <td>NaN</td>\n",
       "      <td>NaN</td>\n",
       "      <td>NaN</td>\n",
       "      <td>0</td>\n",
       "      <td>NaN</td>\n",
       "      <td>NaN</td>\n",
       "      <td>NaN</td>\n",
       "    </tr>\n",
       "    <tr>\n",
       "      <th>3</th>\n",
       "      <td>2019</td>\n",
       "      <td>1</td>\n",
       "      <td>22</td>\n",
       "      <td>2</td>\n",
       "      <td>2019-01-22</td>\n",
       "      <td>DL</td>\n",
       "      <td>19790</td>\n",
       "      <td>5245</td>\n",
       "      <td>9E</td>\n",
       "      <td>N135EV</td>\n",
       "      <td>...</td>\n",
       "      <td>596.0</td>\n",
       "      <td>NaN</td>\n",
       "      <td>NaN</td>\n",
       "      <td>NaN</td>\n",
       "      <td>NaN</td>\n",
       "      <td>NaN</td>\n",
       "      <td>0</td>\n",
       "      <td>NaN</td>\n",
       "      <td>NaN</td>\n",
       "      <td>NaN</td>\n",
       "    </tr>\n",
       "    <tr>\n",
       "      <th>4</th>\n",
       "      <td>2019</td>\n",
       "      <td>1</td>\n",
       "      <td>23</td>\n",
       "      <td>3</td>\n",
       "      <td>2019-01-23</td>\n",
       "      <td>DL</td>\n",
       "      <td>19790</td>\n",
       "      <td>5245</td>\n",
       "      <td>9E</td>\n",
       "      <td>N294PQ</td>\n",
       "      <td>...</td>\n",
       "      <td>596.0</td>\n",
       "      <td>NaN</td>\n",
       "      <td>NaN</td>\n",
       "      <td>NaN</td>\n",
       "      <td>NaN</td>\n",
       "      <td>NaN</td>\n",
       "      <td>0</td>\n",
       "      <td>NaN</td>\n",
       "      <td>NaN</td>\n",
       "      <td>NaN</td>\n",
       "    </tr>\n",
       "  </tbody>\n",
       "</table>\n",
       "<p>5 rows × 50 columns</p>\n",
       "</div>"
      ],
      "text/plain": [
       "   YEAR  MONTH  DAY_OF_MONTH  DAY_OF_WEEK     FL_DATE MKT_UNIQUE_CARRIER  \\\n",
       "0  2019      1            19            6  2019-01-19                 DL   \n",
       "1  2019      1            20            7  2019-01-20                 DL   \n",
       "2  2019      1            21            1  2019-01-21                 DL   \n",
       "3  2019      1            22            2  2019-01-22                 DL   \n",
       "4  2019      1            23            3  2019-01-23                 DL   \n",
       "\n",
       "   MKT_CARRIER_AIRLINE_ID  MKT_CARRIER_FL_NUM OP_UNIQUE_CARRIER TAIL_NUM  \\\n",
       "0                   19790                5245                9E   N176PQ   \n",
       "1                   19790                5245                9E   N309PQ   \n",
       "2                   19790                5245                9E   N176PQ   \n",
       "3                   19790                5245                9E   N135EV   \n",
       "4                   19790                5245                9E   N294PQ   \n",
       "\n",
       "      ...       DISTANCE  CARRIER_DELAY  WEATHER_DELAY  NAS_DELAY  \\\n",
       "0     ...          596.0            NaN            NaN        NaN   \n",
       "1     ...          596.0            NaN            NaN        NaN   \n",
       "2     ...          596.0            NaN            NaN        NaN   \n",
       "3     ...          596.0            NaN            NaN        NaN   \n",
       "4     ...          596.0            NaN            NaN        NaN   \n",
       "\n",
       "  SECURITY_DELAY LATE_AIRCRAFT_DELAY DIV_AIRPORT_LANDINGS  DIV_ARR_DELAY  \\\n",
       "0            NaN                 NaN                    0            NaN   \n",
       "1            NaN                 NaN                    0            NaN   \n",
       "2            NaN                 NaN                    0            NaN   \n",
       "3            NaN                 NaN                    0            NaN   \n",
       "4            NaN                 NaN                    0            NaN   \n",
       "\n",
       "   DIV_DISTANCE  Unnamed: 49  \n",
       "0           NaN          NaN  \n",
       "1           NaN          NaN  \n",
       "2           NaN          NaN  \n",
       "3           NaN          NaN  \n",
       "4           NaN          NaN  \n",
       "\n",
       "[5 rows x 50 columns]"
      ]
     },
     "execution_count": 9,
     "metadata": {},
     "output_type": "execute_result"
    }
   ],
   "source": [
    "data.head()"
   ]
  },
  {
   "cell_type": "code",
   "execution_count": 10,
   "metadata": {},
   "outputs": [
    {
     "data": {
      "text/html": [
       "<div>\n",
       "<style scoped>\n",
       "    .dataframe tbody tr th:only-of-type {\n",
       "        vertical-align: middle;\n",
       "    }\n",
       "\n",
       "    .dataframe tbody tr th {\n",
       "        vertical-align: top;\n",
       "    }\n",
       "\n",
       "    .dataframe thead th {\n",
       "        text-align: right;\n",
       "    }\n",
       "</style>\n",
       "<table border=\"1\" class=\"dataframe\">\n",
       "  <thead>\n",
       "    <tr style=\"text-align: right;\">\n",
       "      <th></th>\n",
       "      <th>YEAR</th>\n",
       "      <th>MONTH</th>\n",
       "      <th>DAY_OF_MONTH</th>\n",
       "      <th>DAY_OF_WEEK</th>\n",
       "      <th>MKT_CARRIER_AIRLINE_ID</th>\n",
       "      <th>MKT_CARRIER_FL_NUM</th>\n",
       "      <th>OP_CARRIER_FL_NUM</th>\n",
       "      <th>ORIGIN_AIRPORT_ID</th>\n",
       "      <th>ORIGIN_AIRPORT_SEQ_ID</th>\n",
       "      <th>ORIGIN_CITY_MARKET_ID</th>\n",
       "      <th>...</th>\n",
       "      <th>DISTANCE</th>\n",
       "      <th>CARRIER_DELAY</th>\n",
       "      <th>WEATHER_DELAY</th>\n",
       "      <th>NAS_DELAY</th>\n",
       "      <th>SECURITY_DELAY</th>\n",
       "      <th>LATE_AIRCRAFT_DELAY</th>\n",
       "      <th>DIV_AIRPORT_LANDINGS</th>\n",
       "      <th>DIV_ARR_DELAY</th>\n",
       "      <th>DIV_DISTANCE</th>\n",
       "      <th>Unnamed: 49</th>\n",
       "    </tr>\n",
       "  </thead>\n",
       "  <tbody>\n",
       "    <tr>\n",
       "      <th>count</th>\n",
       "      <td>638649.0</td>\n",
       "      <td>638649.0</td>\n",
       "      <td>638649.000000</td>\n",
       "      <td>638649.000000</td>\n",
       "      <td>638649.000000</td>\n",
       "      <td>638649.000000</td>\n",
       "      <td>638649.000000</td>\n",
       "      <td>638649.000000</td>\n",
       "      <td>6.386490e+05</td>\n",
       "      <td>638649.000000</td>\n",
       "      <td>...</td>\n",
       "      <td>638649.000000</td>\n",
       "      <td>117144.000000</td>\n",
       "      <td>117144.000000</td>\n",
       "      <td>117144.000000</td>\n",
       "      <td>117144.000000</td>\n",
       "      <td>117144.000000</td>\n",
       "      <td>638649.000000</td>\n",
       "      <td>1061.000000</td>\n",
       "      <td>1450.000000</td>\n",
       "      <td>0.0</td>\n",
       "    </tr>\n",
       "    <tr>\n",
       "      <th>mean</th>\n",
       "      <td>2019.0</td>\n",
       "      <td>1.0</td>\n",
       "      <td>15.955094</td>\n",
       "      <td>3.836976</td>\n",
       "      <td>19822.089542</td>\n",
       "      <td>2700.769462</td>\n",
       "      <td>2700.871319</td>\n",
       "      <td>12690.345843</td>\n",
       "      <td>1.269038e+06</td>\n",
       "      <td>31776.883607</td>\n",
       "      <td>...</td>\n",
       "      <td>765.250902</td>\n",
       "      <td>20.088609</td>\n",
       "      <td>4.410785</td>\n",
       "      <td>18.384826</td>\n",
       "      <td>0.073422</td>\n",
       "      <td>25.880882</td>\n",
       "      <td>0.004459</td>\n",
       "      <td>305.625825</td>\n",
       "      <td>58.320000</td>\n",
       "      <td>NaN</td>\n",
       "    </tr>\n",
       "    <tr>\n",
       "      <th>std</th>\n",
       "      <td>0.0</td>\n",
       "      <td>0.0</td>\n",
       "      <td>8.989170</td>\n",
       "      <td>1.921977</td>\n",
       "      <td>261.399496</td>\n",
       "      <td>1861.613306</td>\n",
       "      <td>1861.933516</td>\n",
       "      <td>1520.775468</td>\n",
       "      <td>1.520773e+05</td>\n",
       "      <td>1316.122179</td>\n",
       "      <td>...</td>\n",
       "      <td>579.910495</td>\n",
       "      <td>65.596080</td>\n",
       "      <td>38.353695</td>\n",
       "      <td>41.352734</td>\n",
       "      <td>3.051185</td>\n",
       "      <td>53.007365</td>\n",
       "      <td>0.147790</td>\n",
       "      <td>281.088367</td>\n",
       "      <td>185.652297</td>\n",
       "      <td>NaN</td>\n",
       "    </tr>\n",
       "    <tr>\n",
       "      <th>min</th>\n",
       "      <td>2019.0</td>\n",
       "      <td>1.0</td>\n",
       "      <td>1.000000</td>\n",
       "      <td>1.000000</td>\n",
       "      <td>19393.000000</td>\n",
       "      <td>1.000000</td>\n",
       "      <td>1.000000</td>\n",
       "      <td>10135.000000</td>\n",
       "      <td>1.013505e+06</td>\n",
       "      <td>30070.000000</td>\n",
       "      <td>...</td>\n",
       "      <td>31.000000</td>\n",
       "      <td>0.000000</td>\n",
       "      <td>0.000000</td>\n",
       "      <td>0.000000</td>\n",
       "      <td>0.000000</td>\n",
       "      <td>0.000000</td>\n",
       "      <td>0.000000</td>\n",
       "      <td>24.000000</td>\n",
       "      <td>0.000000</td>\n",
       "      <td>NaN</td>\n",
       "    </tr>\n",
       "    <tr>\n",
       "      <th>25%</th>\n",
       "      <td>2019.0</td>\n",
       "      <td>1.0</td>\n",
       "      <td>8.000000</td>\n",
       "      <td>2.000000</td>\n",
       "      <td>19790.000000</td>\n",
       "      <td>1090.000000</td>\n",
       "      <td>1090.000000</td>\n",
       "      <td>11292.000000</td>\n",
       "      <td>1.129202e+06</td>\n",
       "      <td>30721.000000</td>\n",
       "      <td>...</td>\n",
       "      <td>337.000000</td>\n",
       "      <td>0.000000</td>\n",
       "      <td>0.000000</td>\n",
       "      <td>0.000000</td>\n",
       "      <td>0.000000</td>\n",
       "      <td>0.000000</td>\n",
       "      <td>0.000000</td>\n",
       "      <td>133.000000</td>\n",
       "      <td>0.000000</td>\n",
       "      <td>NaN</td>\n",
       "    </tr>\n",
       "    <tr>\n",
       "      <th>50%</th>\n",
       "      <td>2019.0</td>\n",
       "      <td>1.0</td>\n",
       "      <td>16.000000</td>\n",
       "      <td>4.000000</td>\n",
       "      <td>19805.000000</td>\n",
       "      <td>2260.000000</td>\n",
       "      <td>2260.000000</td>\n",
       "      <td>12889.000000</td>\n",
       "      <td>1.288903e+06</td>\n",
       "      <td>31453.000000</td>\n",
       "      <td>...</td>\n",
       "      <td>604.000000</td>\n",
       "      <td>0.000000</td>\n",
       "      <td>0.000000</td>\n",
       "      <td>5.000000</td>\n",
       "      <td>0.000000</td>\n",
       "      <td>0.000000</td>\n",
       "      <td>0.000000</td>\n",
       "      <td>189.000000</td>\n",
       "      <td>0.000000</td>\n",
       "      <td>NaN</td>\n",
       "    </tr>\n",
       "    <tr>\n",
       "      <th>75%</th>\n",
       "      <td>2019.0</td>\n",
       "      <td>1.0</td>\n",
       "      <td>24.000000</td>\n",
       "      <td>5.000000</td>\n",
       "      <td>19977.000000</td>\n",
       "      <td>4184.000000</td>\n",
       "      <td>4183.000000</td>\n",
       "      <td>14057.000000</td>\n",
       "      <td>1.405702e+06</td>\n",
       "      <td>32575.000000</td>\n",
       "      <td>...</td>\n",
       "      <td>1008.000000</td>\n",
       "      <td>16.000000</td>\n",
       "      <td>0.000000</td>\n",
       "      <td>21.000000</td>\n",
       "      <td>0.000000</td>\n",
       "      <td>30.000000</td>\n",
       "      <td>0.000000</td>\n",
       "      <td>332.000000</td>\n",
       "      <td>30.000000</td>\n",
       "      <td>NaN</td>\n",
       "    </tr>\n",
       "    <tr>\n",
       "      <th>max</th>\n",
       "      <td>2019.0</td>\n",
       "      <td>1.0</td>\n",
       "      <td>31.000000</td>\n",
       "      <td>7.000000</td>\n",
       "      <td>20436.000000</td>\n",
       "      <td>9401.000000</td>\n",
       "      <td>9401.000000</td>\n",
       "      <td>16218.000000</td>\n",
       "      <td>1.621802e+06</td>\n",
       "      <td>36101.000000</td>\n",
       "      <td>...</td>\n",
       "      <td>4983.000000</td>\n",
       "      <td>1638.000000</td>\n",
       "      <td>1416.000000</td>\n",
       "      <td>1447.000000</td>\n",
       "      <td>816.000000</td>\n",
       "      <td>1514.000000</td>\n",
       "      <td>9.000000</td>\n",
       "      <td>1557.000000</td>\n",
       "      <td>2586.000000</td>\n",
       "      <td>NaN</td>\n",
       "    </tr>\n",
       "  </tbody>\n",
       "</table>\n",
       "<p>8 rows × 37 columns</p>\n",
       "</div>"
      ],
      "text/plain": [
       "           YEAR     MONTH   DAY_OF_MONTH    DAY_OF_WEEK  \\\n",
       "count  638649.0  638649.0  638649.000000  638649.000000   \n",
       "mean     2019.0       1.0      15.955094       3.836976   \n",
       "std         0.0       0.0       8.989170       1.921977   \n",
       "min      2019.0       1.0       1.000000       1.000000   \n",
       "25%      2019.0       1.0       8.000000       2.000000   \n",
       "50%      2019.0       1.0      16.000000       4.000000   \n",
       "75%      2019.0       1.0      24.000000       5.000000   \n",
       "max      2019.0       1.0      31.000000       7.000000   \n",
       "\n",
       "       MKT_CARRIER_AIRLINE_ID  MKT_CARRIER_FL_NUM  OP_CARRIER_FL_NUM  \\\n",
       "count           638649.000000       638649.000000      638649.000000   \n",
       "mean             19822.089542         2700.769462        2700.871319   \n",
       "std                261.399496         1861.613306        1861.933516   \n",
       "min              19393.000000            1.000000           1.000000   \n",
       "25%              19790.000000         1090.000000        1090.000000   \n",
       "50%              19805.000000         2260.000000        2260.000000   \n",
       "75%              19977.000000         4184.000000        4183.000000   \n",
       "max              20436.000000         9401.000000        9401.000000   \n",
       "\n",
       "       ORIGIN_AIRPORT_ID  ORIGIN_AIRPORT_SEQ_ID  ORIGIN_CITY_MARKET_ID  \\\n",
       "count      638649.000000           6.386490e+05          638649.000000   \n",
       "mean        12690.345843           1.269038e+06           31776.883607   \n",
       "std          1520.775468           1.520773e+05            1316.122179   \n",
       "min         10135.000000           1.013505e+06           30070.000000   \n",
       "25%         11292.000000           1.129202e+06           30721.000000   \n",
       "50%         12889.000000           1.288903e+06           31453.000000   \n",
       "75%         14057.000000           1.405702e+06           32575.000000   \n",
       "max         16218.000000           1.621802e+06           36101.000000   \n",
       "\n",
       "          ...            DISTANCE  CARRIER_DELAY  WEATHER_DELAY  \\\n",
       "count     ...       638649.000000  117144.000000  117144.000000   \n",
       "mean      ...          765.250902      20.088609       4.410785   \n",
       "std       ...          579.910495      65.596080      38.353695   \n",
       "min       ...           31.000000       0.000000       0.000000   \n",
       "25%       ...          337.000000       0.000000       0.000000   \n",
       "50%       ...          604.000000       0.000000       0.000000   \n",
       "75%       ...         1008.000000      16.000000       0.000000   \n",
       "max       ...         4983.000000    1638.000000    1416.000000   \n",
       "\n",
       "           NAS_DELAY  SECURITY_DELAY  LATE_AIRCRAFT_DELAY  \\\n",
       "count  117144.000000   117144.000000        117144.000000   \n",
       "mean       18.384826        0.073422            25.880882   \n",
       "std        41.352734        3.051185            53.007365   \n",
       "min         0.000000        0.000000             0.000000   \n",
       "25%         0.000000        0.000000             0.000000   \n",
       "50%         5.000000        0.000000             0.000000   \n",
       "75%        21.000000        0.000000            30.000000   \n",
       "max      1447.000000      816.000000          1514.000000   \n",
       "\n",
       "       DIV_AIRPORT_LANDINGS  DIV_ARR_DELAY  DIV_DISTANCE  Unnamed: 49  \n",
       "count         638649.000000    1061.000000   1450.000000          0.0  \n",
       "mean               0.004459     305.625825     58.320000          NaN  \n",
       "std                0.147790     281.088367    185.652297          NaN  \n",
       "min                0.000000      24.000000      0.000000          NaN  \n",
       "25%                0.000000     133.000000      0.000000          NaN  \n",
       "50%                0.000000     189.000000      0.000000          NaN  \n",
       "75%                0.000000     332.000000     30.000000          NaN  \n",
       "max                9.000000    1557.000000   2586.000000          NaN  \n",
       "\n",
       "[8 rows x 37 columns]"
      ]
     },
     "execution_count": 10,
     "metadata": {},
     "output_type": "execute_result"
    }
   ],
   "source": [
    "data.describe()"
   ]
  },
  {
   "cell_type": "markdown",
   "metadata": {},
   "source": [
    "### Comparing metrics for both quantitative and categorical measures of delay"
   ]
  },
  {
   "cell_type": "code",
   "execution_count": 17,
   "metadata": {},
   "outputs": [
    {
     "name": "stdout",
     "output_type": "stream",
     "text": [
      "31.49 % of flights delayed\n",
      "65.51 % of flights early or ontime\n",
      "60.99 % of flights early\n"
     ]
    }
   ],
   "source": [
    "num_early = len(data[data['DEP_DELAY'] < 0])\n",
    "num_ontime = len(data[data['DEP_DELAY'] <= 0])\n",
    "num_delayed = len(data[data['DEP_DELAY'] > 0])\n",
    "print('{:.2f} % of flights delayed'.format(num_delayed / len(data) * 100))\n",
    "print('{:.2f} % of flights early or ontime'.format(num_ontime / len(data) * 100))\n",
    "print('{:.2f} % of flights early'.format(num_early / len(data) * 100))"
   ]
  },
  {
   "cell_type": "code",
   "execution_count": 102,
   "metadata": {},
   "outputs": [
    {
     "name": "stdout",
     "output_type": "stream",
     "text": [
      "17.10 % of flights delayed\n",
      "79.91 % of flights early or ontime\n"
     ]
    }
   ],
   "source": [
    "num_ontime = len(data[data['DEP_DEL15'] == 0])\n",
    "num_delayed = len(data[data['DEP_DEL15'] == 1])\n",
    "print('{:.2f} % of flights delayed'.format(num_delayed / len(data) * 100))\n",
    "print('{:.2f} % of flights early or ontime'.format(num_ontime / len(data) * 100))"
   ]
  },
  {
   "cell_type": "code",
   "execution_count": 103,
   "metadata": {},
   "outputs": [
    {
     "data": {
      "text/plain": [
       "97.00999999999999"
      ]
     },
     "execution_count": 103,
     "metadata": {},
     "output_type": "execute_result"
    }
   ],
   "source": [
    "17.10+79.91"
   ]
  },
  {
   "cell_type": "code",
   "execution_count": 105,
   "metadata": {},
   "outputs": [
    {
     "data": {
      "text/plain": [
       "97.00899868315773"
      ]
     },
     "execution_count": 105,
     "metadata": {},
     "output_type": "execute_result"
    }
   ],
   "source": [
    "len(data[data['DEP_DELAY'].notnull()]) / len(data) * 100"
   ]
  },
  {
   "cell_type": "code",
   "execution_count": 106,
   "metadata": {},
   "outputs": [
    {
     "data": {
      "text/plain": [
       "19102"
      ]
     },
     "execution_count": 106,
     "metadata": {},
     "output_type": "execute_result"
    }
   ],
   "source": [
    "len(data) - len(data[data['DEP_DELAY'].notnull()]) "
   ]
  },
  {
   "cell_type": "markdown",
   "metadata": {},
   "source": [
    "### 3% of the data (19,102 rows) don't have info for delay time and delayed 15 min, implying they're missing the same rows"
   ]
  },
  {
   "cell_type": "code",
   "execution_count": 54,
   "metadata": {},
   "outputs": [
    {
     "data": {
      "text/plain": [
       "count    619547.000000\n",
       "mean          9.995247\n",
       "std          49.563587\n",
       "min         -47.000000\n",
       "25%          -6.000000\n",
       "50%          -3.000000\n",
       "75%           5.000000\n",
       "max        1690.000000\n",
       "Name: DEP_DELAY, dtype: float64"
      ]
     },
     "execution_count": 54,
     "metadata": {},
     "output_type": "execute_result"
    }
   ],
   "source": [
    "data_date['DEP_DELAY'].describe()"
   ]
  },
  {
   "cell_type": "markdown",
   "metadata": {},
   "source": [
    "### Number & Percent of Flights Delayed More than 15 Minutes"
   ]
  },
  {
   "cell_type": "code",
   "execution_count": 55,
   "metadata": {},
   "outputs": [
    {
     "data": {
      "text/plain": [
       "105620"
      ]
     },
     "execution_count": 55,
     "metadata": {},
     "output_type": "execute_result"
    }
   ],
   "source": [
    "len(data_date[data_date['DEP_DELAY'] > 15])"
   ]
  },
  {
   "cell_type": "code",
   "execution_count": 19,
   "metadata": {},
   "outputs": [
    {
     "data": {
      "text/plain": [
       "16.53803575986183"
      ]
     },
     "execution_count": 19,
     "metadata": {},
     "output_type": "execute_result"
    }
   ],
   "source": [
    "len(data[data['DEP_DELAY'] > 15]) / len(data) * 100"
   ]
  },
  {
   "cell_type": "code",
   "execution_count": 25,
   "metadata": {},
   "outputs": [
    {
     "data": {
      "text/plain": [
       "5675"
      ]
     },
     "execution_count": 25,
     "metadata": {},
     "output_type": "execute_result"
    }
   ],
   "source": [
    "len(data[data['DEP_DELAY'] < -15])"
   ]
  },
  {
   "cell_type": "markdown",
   "metadata": {},
   "source": [
    "### Only 5,675 flights left more than 15 minutes early in January"
   ]
  },
  {
   "cell_type": "code",
   "execution_count": 26,
   "metadata": {},
   "outputs": [
    {
     "data": {
      "text/html": [
       "<div>\n",
       "<style scoped>\n",
       "    .dataframe tbody tr th:only-of-type {\n",
       "        vertical-align: middle;\n",
       "    }\n",
       "\n",
       "    .dataframe tbody tr th {\n",
       "        vertical-align: top;\n",
       "    }\n",
       "\n",
       "    .dataframe thead th {\n",
       "        text-align: right;\n",
       "    }\n",
       "</style>\n",
       "<table border=\"1\" class=\"dataframe\">\n",
       "  <thead>\n",
       "    <tr style=\"text-align: right;\">\n",
       "      <th></th>\n",
       "      <th>DEP_DELAY</th>\n",
       "      <th>CARRIER_DELAY</th>\n",
       "      <th>WEATHER_DELAY</th>\n",
       "      <th>NAS_DELAY</th>\n",
       "      <th>SECURITY_DELAY</th>\n",
       "      <th>LATE_AIRCRAFT_DELAY</th>\n",
       "    </tr>\n",
       "  </thead>\n",
       "  <tbody>\n",
       "    <tr>\n",
       "      <th>9</th>\n",
       "      <td>218.0</td>\n",
       "      <td>0.0</td>\n",
       "      <td>218.0</td>\n",
       "      <td>11.0</td>\n",
       "      <td>0.0</td>\n",
       "      <td>0.0</td>\n",
       "    </tr>\n",
       "    <tr>\n",
       "      <th>27</th>\n",
       "      <td>-6.0</td>\n",
       "      <td>0.0</td>\n",
       "      <td>0.0</td>\n",
       "      <td>19.0</td>\n",
       "      <td>0.0</td>\n",
       "      <td>0.0</td>\n",
       "    </tr>\n",
       "    <tr>\n",
       "      <th>30</th>\n",
       "      <td>-7.0</td>\n",
       "      <td>0.0</td>\n",
       "      <td>0.0</td>\n",
       "      <td>19.0</td>\n",
       "      <td>0.0</td>\n",
       "      <td>0.0</td>\n",
       "    </tr>\n",
       "    <tr>\n",
       "      <th>31</th>\n",
       "      <td>142.0</td>\n",
       "      <td>136.0</td>\n",
       "      <td>0.0</td>\n",
       "      <td>0.0</td>\n",
       "      <td>0.0</td>\n",
       "      <td>0.0</td>\n",
       "    </tr>\n",
       "    <tr>\n",
       "      <th>34</th>\n",
       "      <td>180.0</td>\n",
       "      <td>154.0</td>\n",
       "      <td>0.0</td>\n",
       "      <td>0.0</td>\n",
       "      <td>0.0</td>\n",
       "      <td>0.0</td>\n",
       "    </tr>\n",
       "  </tbody>\n",
       "</table>\n",
       "</div>"
      ],
      "text/plain": [
       "    DEP_DELAY  CARRIER_DELAY  WEATHER_DELAY  NAS_DELAY  SECURITY_DELAY  \\\n",
       "9       218.0            0.0          218.0       11.0             0.0   \n",
       "27       -6.0            0.0            0.0       19.0             0.0   \n",
       "30       -7.0            0.0            0.0       19.0             0.0   \n",
       "31      142.0          136.0            0.0        0.0             0.0   \n",
       "34      180.0          154.0            0.0        0.0             0.0   \n",
       "\n",
       "    LATE_AIRCRAFT_DELAY  \n",
       "9                   0.0  \n",
       "27                  0.0  \n",
       "30                  0.0  \n",
       "31                  0.0  \n",
       "34                  0.0  "
      ]
     },
     "execution_count": 26,
     "metadata": {},
     "output_type": "execute_result"
    }
   ],
   "source": [
    "data.loc[data['CARRIER_DELAY'].notnull(), ['DEP_DELAY', 'CARRIER_DELAY', 'WEATHER_DELAY', 'NAS_DELAY', 'SECURITY_DELAY', 'LATE_AIRCRAFT_DELAY']].head()"
   ]
  },
  {
   "cell_type": "code",
   "execution_count": 43,
   "metadata": {},
   "outputs": [
    {
     "data": {
      "text/plain": [
       "0"
      ]
     },
     "execution_count": 43,
     "metadata": {},
     "output_type": "execute_result"
    }
   ],
   "source": [
    "len(data[(data['CARRIER_DELAY'] == 0) & (data['WEATHER_DELAY'] == 0.0) & (data['NAS_DELAY'] == 0.0) & (data['SECURITY_DELAY'] == 0.0) & (data['LATE_AIRCRAFT_DELAY'] == 0.0)])"
   ]
  },
  {
   "cell_type": "markdown",
   "metadata": {},
   "source": [
    "#### So there is no instance in which "
   ]
  },
  {
   "cell_type": "code",
   "execution_count": 43,
   "metadata": {},
   "outputs": [
    {
     "data": {
      "text/plain": [
       "0"
      ]
     },
     "execution_count": 43,
     "metadata": {},
     "output_type": "execute_result"
    }
   ],
   "source": [
    "len(data[(data['CARRIER_DELAY'] == 0) & (data['WEATHER_DELAY'] == 0.0) & (data['NAS_DELAY'] == 0.0) & (data['SECURITY_DELAY'] == 0.0) & (data['LATE_AIRCRAFT_DELAY'] == 0.0)a])"
   ]
  },
  {
   "cell_type": "markdown",
   "metadata": {},
   "source": [
    "## Goals of General Analysis\n",
    "### * Determine what vairables exist, their distributions overtime and by airport \n",
    "### * Identify Potential Independent Vairables Related to Delays\n",
    "### *How common are delays in general\n",
    "### *Which Airports have the most delays and what are the most common types of delays (Both origin & destination airports?)\n",
    "### *What are the most common types of delays\n",
    "### How this data can be used <- calculate the probability you're flight will be delayed"
   ]
  },
  {
   "cell_type": "markdown",
   "metadata": {},
   "source": [
    "## Airline & Airport Level Information\n",
    "### Your flight is far more likely to be delayed if there is a flight departure time before you, at the same departure airport and airline and it was delayed\n",
    "### same arrival airport  but flight in front (most recent of you at that airport and airline was delayed\n",
    "### way to incorporate departure vs arrival delay components?\n",
    "### Same Airline & Departure Airport Dummy var\n",
    "### Same Airline & Arrival Airport Dummy var\n",
    "### Same Airline & Departure Airport & deapture"
   ]
  },
  {
   "cell_type": "code",
   "execution_count": null,
   "metadata": {},
   "outputs": [],
   "source": [
    "da"
   ]
  },
  {
   "cell_type": "markdown",
   "metadata": {},
   "source": [
    "### List flights (unique tuples of origin & destination) for each ariline & their frequencies"
   ]
  },
  {
   "cell_type": "markdown",
   "metadata": {},
   "source": [
    "## Airport Analysis\n",
    "#### Analyzing the distribution of all cities isn't particualrly useful, of what use is a model which forecasts delays on a national level?\n",
    "#### Would be much more useful to build forecast models for each airport as to \n",
    "#### 1. whether there will be a delay tomorrow \n",
    "#### 2. the estimated delay in minutes"
   ]
  },
  {
   "cell_type": "markdown",
   "metadata": {},
   "source": [
    "# FOR EACH VAR PLOT OVER DATE & DAY OF WEEK"
   ]
  },
  {
   "cell_type": "code",
   "execution_count": 107,
   "metadata": {},
   "outputs": [
    {
     "data": {
      "text/plain": [
       "Index(['2019-01-19', '2019-01-20', '2019-01-21', '2019-01-22', '2019-01-23',\n",
       "       '2019-01-24', '2019-01-25', '2019-01-26', '2019-01-27', '2019-01-28',\n",
       "       ...\n",
       "       '2019-01-30', '2019-01-30', '2019-01-30', '2019-01-30', '2019-01-30',\n",
       "       '2019-01-30', '2019-01-30', '2019-01-30', '2019-01-30', '2019-01-30'],\n",
       "      dtype='object', name='FL_DATE', length=638649)"
      ]
     },
     "execution_count": 107,
     "metadata": {},
     "output_type": "execute_result"
    }
   ],
   "source": [
    "data_date = data.set_index('FL_DATE')\n",
    "data = []\n",
    "data_date.index"
   ]
  },
  {
   "cell_type": "code",
   "execution_count": 60,
   "metadata": {},
   "outputs": [],
   "source": [
    "\"\"\" \n",
    "    Display Size of Dataframes in Memory > 1MB \n",
    "    https://practicalpython.blogspot.com/2017/03/monitoring-memory-usage-in-jupyter.html\n",
    "\"\"\"\n",
    "def show_mem_usage():\n",
    "    '''Displays memory usage from inspection\n",
    "    of global variables in this notebook'''\n",
    "    gl = sys._getframe(1).f_globals\n",
    "    vars= {}\n",
    "    for k,v in list(gl.items()):\n",
    "        # for pandas dataframes\n",
    "        if hasattr(v, 'memory_usage'):\n",
    "            mem = v.memory_usage(deep=True)\n",
    "            if not np.isscalar(mem):\n",
    "                mem = mem.sum()\n",
    "            vars.setdefault(id(v),[mem]).append(k)\n",
    "        # work around for a bug\n",
    "        elif isinstance(v,pd.Panel):\n",
    "            v = v.values\n",
    "        vars.setdefault(id(v),[sys.getsizeof(v)]).append(k)\n",
    "    total = 0\n",
    "    for k,(value,*names) in vars.items():\n",
    "        if value>1e6:\n",
    "            print(names,\"%.3fMB\"%(value/1e6))\n",
    "        total += value\n",
    "    print(\"%.3fMB\"%(total/1e6))"
   ]
  },
  {
   "cell_type": "code",
   "execution_count": 108,
   "metadata": {},
   "outputs": [
    {
     "name": "stdout",
     "output_type": "stream",
     "text": [
      "['_', '_', '_107', '_107'] 42.789MB\n",
      "['data_date', 'data_date'] 691.463MB\n",
      "['_46', '_46'] 42.789MB\n",
      "['temp', 'temp'] 20.670MB\n",
      "['delayed', 'delayed'] 118.156MB\n",
      "['ontime', 'ontime'] 552.141MB\n",
      "['_99', '_99'] 42.789MB\n",
      "1510.938MB\n"
     ]
    }
   ],
   "source": [
    "show_mem_usage()"
   ]
  },
  {
   "cell_type": "code",
   "execution_count": 25,
   "metadata": {},
   "outputs": [
    {
     "name": "stdout",
     "output_type": "stream",
     "text": [
      "                          data: 656.7 MiB\n",
      "                     data_date: 656.7 MiB\n",
      "                           _13: 40.8 MiB\n",
      "                        schema:  9.5 KiB\n",
      "                           ___:  6.8 KiB\n",
      "                           _16:  6.8 KiB\n",
      "                            __:  5.4 KiB\n",
      "                           _17:  5.4 KiB\n",
      "                             _:  5.3 KiB\n",
      "                           _18:  5.3 KiB\n"
     ]
    }
   ],
   "source": [
    "import sys\n",
    "def sizeof_fmt(num, suffix='B'):\n",
    "    ''' by Fred Cirera,  https://stackoverflow.com/a/1094933/1870254, modified'''\n",
    "    for unit in ['','Ki','Mi','Gi','Ti','Pi','Ei','Zi']:\n",
    "        if abs(num) < 1024.0:\n",
    "            return \"%3.1f %s%s\" % (num, unit, suffix)\n",
    "        num /= 1024.0\n",
    "    return \"%.1f %s%s\" % (num, 'Yi', suffix)\n",
    "\n",
    "for name, size in sorted(((name, sys.getsizeof(value)) for name, value in locals().items()),\n",
    "                         key= lambda x: -x[1])[:10]:\n",
    "    print(\"{:>30}: {:>8}\".format(name, sizeof_fmt(size)))"
   ]
  },
  {
   "cell_type": "code",
   "execution_count": 37,
   "metadata": {},
   "outputs": [
    {
     "data": {
      "text/html": [
       "<div>\n",
       "<style scoped>\n",
       "    .dataframe tbody tr th:only-of-type {\n",
       "        vertical-align: middle;\n",
       "    }\n",
       "\n",
       "    .dataframe tbody tr th {\n",
       "        vertical-align: top;\n",
       "    }\n",
       "\n",
       "    .dataframe thead th {\n",
       "        text-align: right;\n",
       "    }\n",
       "</style>\n",
       "<table border=\"1\" class=\"dataframe\">\n",
       "  <thead>\n",
       "    <tr style=\"text-align: right;\">\n",
       "      <th></th>\n",
       "      <th>YEAR</th>\n",
       "      <th>MONTH</th>\n",
       "      <th>DAY_OF_MONTH</th>\n",
       "      <th>DAY_OF_WEEK</th>\n",
       "      <th>MKT_UNIQUE_CARRIER</th>\n",
       "      <th>MKT_CARRIER_AIRLINE_ID</th>\n",
       "      <th>MKT_CARRIER_FL_NUM</th>\n",
       "      <th>OP_UNIQUE_CARRIER</th>\n",
       "      <th>TAIL_NUM</th>\n",
       "      <th>OP_CARRIER_FL_NUM</th>\n",
       "      <th>ORIGIN_AIRPORT_ID</th>\n",
       "      <th>ORIGIN_AIRPORT_SEQ_ID</th>\n",
       "      <th>ORIGIN_CITY_MARKET_ID</th>\n",
       "      <th>ORIGIN</th>\n",
       "      <th>ORIGIN_CITY_NAME</th>\n",
       "      <th>ORIGIN_STATE_ABR</th>\n",
       "      <th>DEST_AIRPORT_ID</th>\n",
       "      <th>DEST_AIRPORT_SEQ_ID</th>\n",
       "      <th>DEST_CITY_MARKET_ID</th>\n",
       "      <th>DEST</th>\n",
       "      <th>DEST_CITY_NAME</th>\n",
       "      <th>DEST_STATE_ABR</th>\n",
       "      <th>DEST_STATE_FIPS</th>\n",
       "      <th>DEST_STATE_NM</th>\n",
       "      <th>DEST_WAC</th>\n",
       "      <th>CRS_DEP_TIME</th>\n",
       "      <th>DEP_TIME</th>\n",
       "      <th>DEP_DELAY</th>\n",
       "      <th>DEP_DELAY_NEW</th>\n",
       "      <th>DEP_DEL15</th>\n",
       "      <th>TAXI_OUT</th>\n",
       "      <th>WHEELS_OFF</th>\n",
       "      <th>WHEELS_ON</th>\n",
       "      <th>TAXI_IN</th>\n",
       "      <th>CANCELLED</th>\n",
       "      <th>CANCELLATION_CODE</th>\n",
       "      <th>DIVERTED</th>\n",
       "      <th>DUP</th>\n",
       "      <th>FLIGHTS</th>\n",
       "      <th>DISTANCE</th>\n",
       "      <th>CARRIER_DELAY</th>\n",
       "      <th>WEATHER_DELAY</th>\n",
       "      <th>NAS_DELAY</th>\n",
       "      <th>SECURITY_DELAY</th>\n",
       "      <th>LATE_AIRCRAFT_DELAY</th>\n",
       "      <th>DIV_AIRPORT_LANDINGS</th>\n",
       "      <th>DIV_ARR_DELAY</th>\n",
       "      <th>DIV_DISTANCE</th>\n",
       "    </tr>\n",
       "    <tr>\n",
       "      <th>FL_DATE</th>\n",
       "      <th></th>\n",
       "      <th></th>\n",
       "      <th></th>\n",
       "      <th></th>\n",
       "      <th></th>\n",
       "      <th></th>\n",
       "      <th></th>\n",
       "      <th></th>\n",
       "      <th></th>\n",
       "      <th></th>\n",
       "      <th></th>\n",
       "      <th></th>\n",
       "      <th></th>\n",
       "      <th></th>\n",
       "      <th></th>\n",
       "      <th></th>\n",
       "      <th></th>\n",
       "      <th></th>\n",
       "      <th></th>\n",
       "      <th></th>\n",
       "      <th></th>\n",
       "      <th></th>\n",
       "      <th></th>\n",
       "      <th></th>\n",
       "      <th></th>\n",
       "      <th></th>\n",
       "      <th></th>\n",
       "      <th></th>\n",
       "      <th></th>\n",
       "      <th></th>\n",
       "      <th></th>\n",
       "      <th></th>\n",
       "      <th></th>\n",
       "      <th></th>\n",
       "      <th></th>\n",
       "      <th></th>\n",
       "      <th></th>\n",
       "      <th></th>\n",
       "      <th></th>\n",
       "      <th></th>\n",
       "      <th></th>\n",
       "      <th></th>\n",
       "      <th></th>\n",
       "      <th></th>\n",
       "      <th></th>\n",
       "      <th></th>\n",
       "      <th></th>\n",
       "      <th></th>\n",
       "    </tr>\n",
       "  </thead>\n",
       "  <tbody>\n",
       "    <tr>\n",
       "      <th>2019-01-19</th>\n",
       "      <td>2019</td>\n",
       "      <td>1</td>\n",
       "      <td>19</td>\n",
       "      <td>6</td>\n",
       "      <td>DL</td>\n",
       "      <td>19790</td>\n",
       "      <td>5245</td>\n",
       "      <td>9E</td>\n",
       "      <td>N176PQ</td>\n",
       "      <td>5245</td>\n",
       "      <td>13487</td>\n",
       "      <td>1348702</td>\n",
       "      <td>31650</td>\n",
       "      <td>MSP</td>\n",
       "      <td>Minneapolis, MN</td>\n",
       "      <td>MN</td>\n",
       "      <td>11193</td>\n",
       "      <td>1119302</td>\n",
       "      <td>33105</td>\n",
       "      <td>CVG</td>\n",
       "      <td>Cincinnati, OH</td>\n",
       "      <td>KY</td>\n",
       "      <td>21</td>\n",
       "      <td>Kentucky</td>\n",
       "      <td>52</td>\n",
       "      <td>1556</td>\n",
       "      <td>1546.0</td>\n",
       "      <td>-10.0</td>\n",
       "      <td>0.0</td>\n",
       "      <td>0.0</td>\n",
       "      <td>14.0</td>\n",
       "      <td>1600.0</td>\n",
       "      <td>1827.0</td>\n",
       "      <td>5.0</td>\n",
       "      <td>0.0</td>\n",
       "      <td>NaN</td>\n",
       "      <td>0.0</td>\n",
       "      <td>N</td>\n",
       "      <td>1.0</td>\n",
       "      <td>596.0</td>\n",
       "      <td>NaN</td>\n",
       "      <td>NaN</td>\n",
       "      <td>NaN</td>\n",
       "      <td>NaN</td>\n",
       "      <td>NaN</td>\n",
       "      <td>0</td>\n",
       "      <td>NaN</td>\n",
       "      <td>NaN</td>\n",
       "    </tr>\n",
       "    <tr>\n",
       "      <th>2019-01-19</th>\n",
       "      <td>2019</td>\n",
       "      <td>1</td>\n",
       "      <td>19</td>\n",
       "      <td>6</td>\n",
       "      <td>DL</td>\n",
       "      <td>19790</td>\n",
       "      <td>5246</td>\n",
       "      <td>9E</td>\n",
       "      <td>N927XJ</td>\n",
       "      <td>5246</td>\n",
       "      <td>13495</td>\n",
       "      <td>1349505</td>\n",
       "      <td>33495</td>\n",
       "      <td>MSY</td>\n",
       "      <td>New Orleans, LA</td>\n",
       "      <td>LA</td>\n",
       "      <td>12953</td>\n",
       "      <td>1295304</td>\n",
       "      <td>31703</td>\n",
       "      <td>LGA</td>\n",
       "      <td>New York, NY</td>\n",
       "      <td>NY</td>\n",
       "      <td>36</td>\n",
       "      <td>New York</td>\n",
       "      <td>22</td>\n",
       "      <td>601</td>\n",
       "      <td>603.0</td>\n",
       "      <td>2.0</td>\n",
       "      <td>2.0</td>\n",
       "      <td>0.0</td>\n",
       "      <td>15.0</td>\n",
       "      <td>618.0</td>\n",
       "      <td>927.0</td>\n",
       "      <td>4.0</td>\n",
       "      <td>0.0</td>\n",
       "      <td>NaN</td>\n",
       "      <td>0.0</td>\n",
       "      <td>N</td>\n",
       "      <td>1.0</td>\n",
       "      <td>1183.0</td>\n",
       "      <td>NaN</td>\n",
       "      <td>NaN</td>\n",
       "      <td>NaN</td>\n",
       "      <td>NaN</td>\n",
       "      <td>NaN</td>\n",
       "      <td>0</td>\n",
       "      <td>NaN</td>\n",
       "      <td>NaN</td>\n",
       "    </tr>\n",
       "    <tr>\n",
       "      <th>2019-01-19</th>\n",
       "      <td>2019</td>\n",
       "      <td>1</td>\n",
       "      <td>19</td>\n",
       "      <td>6</td>\n",
       "      <td>DL</td>\n",
       "      <td>19790</td>\n",
       "      <td>5252</td>\n",
       "      <td>9E</td>\n",
       "      <td>N601LR</td>\n",
       "      <td>5252</td>\n",
       "      <td>12953</td>\n",
       "      <td>1295304</td>\n",
       "      <td>31703</td>\n",
       "      <td>LGA</td>\n",
       "      <td>New York, NY</td>\n",
       "      <td>NY</td>\n",
       "      <td>10792</td>\n",
       "      <td>1079206</td>\n",
       "      <td>30792</td>\n",
       "      <td>BUF</td>\n",
       "      <td>Buffalo, NY</td>\n",
       "      <td>NY</td>\n",
       "      <td>36</td>\n",
       "      <td>New York</td>\n",
       "      <td>22</td>\n",
       "      <td>1125</td>\n",
       "      <td>1116.0</td>\n",
       "      <td>-9.0</td>\n",
       "      <td>0.0</td>\n",
       "      <td>0.0</td>\n",
       "      <td>19.0</td>\n",
       "      <td>1135.0</td>\n",
       "      <td>1225.0</td>\n",
       "      <td>4.0</td>\n",
       "      <td>0.0</td>\n",
       "      <td>NaN</td>\n",
       "      <td>0.0</td>\n",
       "      <td>N</td>\n",
       "      <td>1.0</td>\n",
       "      <td>292.0</td>\n",
       "      <td>NaN</td>\n",
       "      <td>NaN</td>\n",
       "      <td>NaN</td>\n",
       "      <td>NaN</td>\n",
       "      <td>NaN</td>\n",
       "      <td>0</td>\n",
       "      <td>NaN</td>\n",
       "      <td>NaN</td>\n",
       "    </tr>\n",
       "    <tr>\n",
       "      <th>2019-01-19</th>\n",
       "      <td>2019</td>\n",
       "      <td>1</td>\n",
       "      <td>19</td>\n",
       "      <td>6</td>\n",
       "      <td>DL</td>\n",
       "      <td>19790</td>\n",
       "      <td>5257</td>\n",
       "      <td>9E</td>\n",
       "      <td>N927EV</td>\n",
       "      <td>5257</td>\n",
       "      <td>12953</td>\n",
       "      <td>1295304</td>\n",
       "      <td>31703</td>\n",
       "      <td>LGA</td>\n",
       "      <td>New York, NY</td>\n",
       "      <td>NY</td>\n",
       "      <td>13931</td>\n",
       "      <td>1393102</td>\n",
       "      <td>33667</td>\n",
       "      <td>ORF</td>\n",
       "      <td>Norfolk, VA</td>\n",
       "      <td>VA</td>\n",
       "      <td>51</td>\n",
       "      <td>Virginia</td>\n",
       "      <td>38</td>\n",
       "      <td>1010</td>\n",
       "      <td>1007.0</td>\n",
       "      <td>-3.0</td>\n",
       "      <td>0.0</td>\n",
       "      <td>0.0</td>\n",
       "      <td>34.0</td>\n",
       "      <td>1041.0</td>\n",
       "      <td>1137.0</td>\n",
       "      <td>4.0</td>\n",
       "      <td>0.0</td>\n",
       "      <td>NaN</td>\n",
       "      <td>0.0</td>\n",
       "      <td>N</td>\n",
       "      <td>1.0</td>\n",
       "      <td>296.0</td>\n",
       "      <td>NaN</td>\n",
       "      <td>NaN</td>\n",
       "      <td>NaN</td>\n",
       "      <td>NaN</td>\n",
       "      <td>NaN</td>\n",
       "      <td>0</td>\n",
       "      <td>NaN</td>\n",
       "      <td>NaN</td>\n",
       "    </tr>\n",
       "    <tr>\n",
       "      <th>2019-01-19</th>\n",
       "      <td>2019</td>\n",
       "      <td>1</td>\n",
       "      <td>19</td>\n",
       "      <td>6</td>\n",
       "      <td>DL</td>\n",
       "      <td>19790</td>\n",
       "      <td>5260</td>\n",
       "      <td>9E</td>\n",
       "      <td>N303PQ</td>\n",
       "      <td>5260</td>\n",
       "      <td>15096</td>\n",
       "      <td>1509602</td>\n",
       "      <td>35096</td>\n",
       "      <td>SYR</td>\n",
       "      <td>Syracuse, NY</td>\n",
       "      <td>NY</td>\n",
       "      <td>11433</td>\n",
       "      <td>1143302</td>\n",
       "      <td>31295</td>\n",
       "      <td>DTW</td>\n",
       "      <td>Detroit, MI</td>\n",
       "      <td>MI</td>\n",
       "      <td>26</td>\n",
       "      <td>Michigan</td>\n",
       "      <td>43</td>\n",
       "      <td>1700</td>\n",
       "      <td>2025.0</td>\n",
       "      <td>205.0</td>\n",
       "      <td>205.0</td>\n",
       "      <td>1.0</td>\n",
       "      <td>52.0</td>\n",
       "      <td>2117.0</td>\n",
       "      <td>2230.0</td>\n",
       "      <td>9.0</td>\n",
       "      <td>0.0</td>\n",
       "      <td>NaN</td>\n",
       "      <td>0.0</td>\n",
       "      <td>N</td>\n",
       "      <td>1.0</td>\n",
       "      <td>374.0</td>\n",
       "      <td>205.0</td>\n",
       "      <td>0.0</td>\n",
       "      <td>20.0</td>\n",
       "      <td>0.0</td>\n",
       "      <td>0.0</td>\n",
       "      <td>0</td>\n",
       "      <td>NaN</td>\n",
       "      <td>NaN</td>\n",
       "    </tr>\n",
       "  </tbody>\n",
       "</table>\n",
       "</div>"
      ],
      "text/plain": [
       "            YEAR  MONTH  DAY_OF_MONTH  DAY_OF_WEEK MKT_UNIQUE_CARRIER  \\\n",
       "FL_DATE                                                                 \n",
       "2019-01-19  2019      1            19            6                 DL   \n",
       "2019-01-19  2019      1            19            6                 DL   \n",
       "2019-01-19  2019      1            19            6                 DL   \n",
       "2019-01-19  2019      1            19            6                 DL   \n",
       "2019-01-19  2019      1            19            6                 DL   \n",
       "\n",
       "            MKT_CARRIER_AIRLINE_ID  MKT_CARRIER_FL_NUM OP_UNIQUE_CARRIER  \\\n",
       "FL_DATE                                                                    \n",
       "2019-01-19                   19790                5245                9E   \n",
       "2019-01-19                   19790                5246                9E   \n",
       "2019-01-19                   19790                5252                9E   \n",
       "2019-01-19                   19790                5257                9E   \n",
       "2019-01-19                   19790                5260                9E   \n",
       "\n",
       "           TAIL_NUM  OP_CARRIER_FL_NUM  ORIGIN_AIRPORT_ID  \\\n",
       "FL_DATE                                                     \n",
       "2019-01-19   N176PQ               5245              13487   \n",
       "2019-01-19   N927XJ               5246              13495   \n",
       "2019-01-19   N601LR               5252              12953   \n",
       "2019-01-19   N927EV               5257              12953   \n",
       "2019-01-19   N303PQ               5260              15096   \n",
       "\n",
       "            ORIGIN_AIRPORT_SEQ_ID  ORIGIN_CITY_MARKET_ID ORIGIN  \\\n",
       "FL_DATE                                                           \n",
       "2019-01-19                1348702                  31650    MSP   \n",
       "2019-01-19                1349505                  33495    MSY   \n",
       "2019-01-19                1295304                  31703    LGA   \n",
       "2019-01-19                1295304                  31703    LGA   \n",
       "2019-01-19                1509602                  35096    SYR   \n",
       "\n",
       "           ORIGIN_CITY_NAME ORIGIN_STATE_ABR  DEST_AIRPORT_ID  \\\n",
       "FL_DATE                                                         \n",
       "2019-01-19  Minneapolis, MN               MN            11193   \n",
       "2019-01-19  New Orleans, LA               LA            12953   \n",
       "2019-01-19     New York, NY               NY            10792   \n",
       "2019-01-19     New York, NY               NY            13931   \n",
       "2019-01-19     Syracuse, NY               NY            11433   \n",
       "\n",
       "            DEST_AIRPORT_SEQ_ID  DEST_CITY_MARKET_ID DEST  DEST_CITY_NAME  \\\n",
       "FL_DATE                                                                     \n",
       "2019-01-19              1119302                33105  CVG  Cincinnati, OH   \n",
       "2019-01-19              1295304                31703  LGA    New York, NY   \n",
       "2019-01-19              1079206                30792  BUF     Buffalo, NY   \n",
       "2019-01-19              1393102                33667  ORF     Norfolk, VA   \n",
       "2019-01-19              1143302                31295  DTW     Detroit, MI   \n",
       "\n",
       "           DEST_STATE_ABR  DEST_STATE_FIPS DEST_STATE_NM  DEST_WAC  \\\n",
       "FL_DATE                                                              \n",
       "2019-01-19             KY               21      Kentucky        52   \n",
       "2019-01-19             NY               36      New York        22   \n",
       "2019-01-19             NY               36      New York        22   \n",
       "2019-01-19             VA               51      Virginia        38   \n",
       "2019-01-19             MI               26      Michigan        43   \n",
       "\n",
       "            CRS_DEP_TIME  DEP_TIME  DEP_DELAY  DEP_DELAY_NEW  DEP_DEL15  \\\n",
       "FL_DATE                                                                   \n",
       "2019-01-19          1556    1546.0      -10.0            0.0        0.0   \n",
       "2019-01-19           601     603.0        2.0            2.0        0.0   \n",
       "2019-01-19          1125    1116.0       -9.0            0.0        0.0   \n",
       "2019-01-19          1010    1007.0       -3.0            0.0        0.0   \n",
       "2019-01-19          1700    2025.0      205.0          205.0        1.0   \n",
       "\n",
       "            TAXI_OUT  WHEELS_OFF  WHEELS_ON  TAXI_IN  CANCELLED  \\\n",
       "FL_DATE                                                           \n",
       "2019-01-19      14.0      1600.0     1827.0      5.0        0.0   \n",
       "2019-01-19      15.0       618.0      927.0      4.0        0.0   \n",
       "2019-01-19      19.0      1135.0     1225.0      4.0        0.0   \n",
       "2019-01-19      34.0      1041.0     1137.0      4.0        0.0   \n",
       "2019-01-19      52.0      2117.0     2230.0      9.0        0.0   \n",
       "\n",
       "           CANCELLATION_CODE  DIVERTED DUP  FLIGHTS  DISTANCE  CARRIER_DELAY  \\\n",
       "FL_DATE                                                                        \n",
       "2019-01-19               NaN       0.0   N      1.0     596.0            NaN   \n",
       "2019-01-19               NaN       0.0   N      1.0    1183.0            NaN   \n",
       "2019-01-19               NaN       0.0   N      1.0     292.0            NaN   \n",
       "2019-01-19               NaN       0.0   N      1.0     296.0            NaN   \n",
       "2019-01-19               NaN       0.0   N      1.0     374.0          205.0   \n",
       "\n",
       "            WEATHER_DELAY  NAS_DELAY  SECURITY_DELAY  LATE_AIRCRAFT_DELAY  \\\n",
       "FL_DATE                                                                     \n",
       "2019-01-19            NaN        NaN             NaN                  NaN   \n",
       "2019-01-19            NaN        NaN             NaN                  NaN   \n",
       "2019-01-19            NaN        NaN             NaN                  NaN   \n",
       "2019-01-19            NaN        NaN             NaN                  NaN   \n",
       "2019-01-19            0.0       20.0             0.0                  0.0   \n",
       "\n",
       "            DIV_AIRPORT_LANDINGS  DIV_ARR_DELAY  DIV_DISTANCE  \n",
       "FL_DATE                                                        \n",
       "2019-01-19                     0            NaN           NaN  \n",
       "2019-01-19                     0            NaN           NaN  \n",
       "2019-01-19                     0            NaN           NaN  \n",
       "2019-01-19                     0            NaN           NaN  \n",
       "2019-01-19                     0            NaN           NaN  "
      ]
     },
     "execution_count": 37,
     "metadata": {},
     "output_type": "execute_result"
    }
   ],
   "source": [
    "data_date[data_date.index == '2019-01-19'].head()"
   ]
  },
  {
   "cell_type": "code",
   "execution_count": 43,
   "metadata": {},
   "outputs": [
    {
     "data": {
      "text/html": [
       "<div>\n",
       "<style scoped>\n",
       "    .dataframe tbody tr th:only-of-type {\n",
       "        vertical-align: middle;\n",
       "    }\n",
       "\n",
       "    .dataframe tbody tr th {\n",
       "        vertical-align: top;\n",
       "    }\n",
       "\n",
       "    .dataframe thead th {\n",
       "        text-align: right;\n",
       "    }\n",
       "</style>\n",
       "<table border=\"1\" class=\"dataframe\">\n",
       "  <thead>\n",
       "    <tr style=\"text-align: right;\">\n",
       "      <th></th>\n",
       "      <th>CARRIER_DELAY</th>\n",
       "      <th>WEATHER_DELAY</th>\n",
       "      <th>NAS_DELAY</th>\n",
       "      <th>SECURITY_DELAY</th>\n",
       "      <th>LATE_AIRCRAFT_DELAY</th>\n",
       "      <th>DIV_ARR_DELAY</th>\n",
       "    </tr>\n",
       "    <tr>\n",
       "      <th>FL_DATE</th>\n",
       "      <th></th>\n",
       "      <th></th>\n",
       "      <th></th>\n",
       "      <th></th>\n",
       "      <th></th>\n",
       "      <th></th>\n",
       "    </tr>\n",
       "  </thead>\n",
       "  <tbody>\n",
       "    <tr>\n",
       "      <th>2019-01-28</th>\n",
       "      <td>0.0</td>\n",
       "      <td>218.0</td>\n",
       "      <td>11.0</td>\n",
       "      <td>0.0</td>\n",
       "      <td>0.0</td>\n",
       "      <td>NaN</td>\n",
       "    </tr>\n",
       "    <tr>\n",
       "      <th>2019-01-18</th>\n",
       "      <td>0.0</td>\n",
       "      <td>0.0</td>\n",
       "      <td>19.0</td>\n",
       "      <td>0.0</td>\n",
       "      <td>0.0</td>\n",
       "      <td>NaN</td>\n",
       "    </tr>\n",
       "    <tr>\n",
       "      <th>2019-01-21</th>\n",
       "      <td>0.0</td>\n",
       "      <td>0.0</td>\n",
       "      <td>19.0</td>\n",
       "      <td>0.0</td>\n",
       "      <td>0.0</td>\n",
       "      <td>NaN</td>\n",
       "    </tr>\n",
       "    <tr>\n",
       "      <th>2019-01-22</th>\n",
       "      <td>136.0</td>\n",
       "      <td>0.0</td>\n",
       "      <td>0.0</td>\n",
       "      <td>0.0</td>\n",
       "      <td>0.0</td>\n",
       "      <td>NaN</td>\n",
       "    </tr>\n",
       "    <tr>\n",
       "      <th>2019-01-25</th>\n",
       "      <td>154.0</td>\n",
       "      <td>0.0</td>\n",
       "      <td>0.0</td>\n",
       "      <td>0.0</td>\n",
       "      <td>0.0</td>\n",
       "      <td>NaN</td>\n",
       "    </tr>\n",
       "  </tbody>\n",
       "</table>\n",
       "</div>"
      ],
      "text/plain": [
       "            CARRIER_DELAY  WEATHER_DELAY  NAS_DELAY  SECURITY_DELAY  \\\n",
       "FL_DATE                                                               \n",
       "2019-01-28            0.0          218.0       11.0             0.0   \n",
       "2019-01-18            0.0            0.0       19.0             0.0   \n",
       "2019-01-21            0.0            0.0       19.0             0.0   \n",
       "2019-01-22          136.0            0.0        0.0             0.0   \n",
       "2019-01-25          154.0            0.0        0.0             0.0   \n",
       "\n",
       "            LATE_AIRCRAFT_DELAY  DIV_ARR_DELAY  \n",
       "FL_DATE                                         \n",
       "2019-01-28                  0.0            NaN  \n",
       "2019-01-18                  0.0            NaN  \n",
       "2019-01-21                  0.0            NaN  \n",
       "2019-01-22                  0.0            NaN  \n",
       "2019-01-25                  0.0            NaN  "
      ]
     },
     "execution_count": 43,
     "metadata": {},
     "output_type": "execute_result"
    }
   ],
   "source": [
    "data_date.loc[data_date['CARRIER_DELAY'].notnull(), ['CARRIER_DELAY','WEATHER_DELAY', 'NAS_DELAY','SECURITY_DELAY', 'LATE_AIRCRAFT_DELAY', 'DIV_ARR_DELAY' ]].head()"
   ]
  },
  {
   "cell_type": "code",
   "execution_count": 49,
   "metadata": {},
   "outputs": [
    {
     "data": {
      "text/plain": [
       "117144"
      ]
     },
     "execution_count": 49,
     "metadata": {},
     "output_type": "execute_result"
    }
   ],
   "source": [
    "len(data_date[data_date['CARRIER_DELAY'].notnull()])"
   ]
  },
  {
   "cell_type": "markdown",
   "metadata": {},
   "source": [
    "### Clearly CARRIER_DELAY, WEATHER_DELAY, NAS_DELAY, SECURITY_DELAY, LATE_AIRCRAFT_DELAY are related as they have the exact same number of null values\n",
    "\n",
    "### What is the relationship between the presence of individual delay components and delay in minutes?"
   ]
  },
  {
   "cell_type": "markdown",
   "metadata": {},
   "source": [
    "### Distribution of Departure Delay in Minutes when Carrier Dealy is not Null"
   ]
  },
  {
   "cell_type": "code",
   "execution_count": 97,
   "metadata": {},
   "outputs": [
    {
     "name": "stdout",
     "output_type": "stream",
     "text": [
      "117,144\n",
      "521,505\n"
     ]
    }
   ],
   "source": [
    "carrierdelay = len(data_date[data_date['CARRIER_DELAY'].notnull()])\n",
    "nocarrierdelay = len(data_date) - carrierdelay\n",
    "print('{:,}\\n{:,}'.format(carrierdelay,nocarrierdelay))"
   ]
  },
  {
   "cell_type": "code",
   "execution_count": 62,
   "metadata": {},
   "outputs": [
    {
     "data": {
      "text/plain": [
       "Text(0.5, 1.0, 'Delay in Minutes When Carrier Delay is not Null')"
      ]
     },
     "execution_count": 62,
     "metadata": {},
     "output_type": "execute_result"
    },
    {
     "data": {
      "image/png": "[encoded data removed]",
      "text/plain": [
       "<Figure size 720x432 with 1 Axes>"
      ]
     },
     "metadata": {
      "needs_background": "light"
     },
     "output_type": "display_data"
    }
   ],
   "source": [
    "ax = data_date[data_date['CARRIER_DELAY'].notnull()]['DEP_DELAY'].plot.hist(figsize=(10,6), bins=200)\n",
    "ax.set_xlabel(\"Delay in Minutes\")\n",
    "ax.set_title(\"Delay in Minutes When Carrier Delay is not Null\")"
   ]
  },
  {
   "cell_type": "code",
   "execution_count": 54,
   "metadata": {},
   "outputs": [
    {
     "data": {
      "text/plain": [
       "Text(0.5, 1.0, 'Delay in Minutes')"
      ]
     },
     "execution_count": 54,
     "metadata": {},
     "output_type": "execute_result"
    },
    {
     "data": {
      "image/png": "[encoded data removed]",
      "text/plain": [
       "<Figure size 720x432 with 1 Axes>"
      ]
     },
     "metadata": {
      "needs_background": "light"
     },
     "output_type": "display_data"
    }
   ],
   "source": [
    "ax = data_date['DEP_DELAY'].plot.hist(figsize=(10,6), bins=200)\n",
    "ax.set_xlabel(\"Delay in Minutes\")\n",
    "ax.set_title(\"Delay in Minutes\")"
   ]
  },
  {
   "cell_type": "markdown",
   "metadata": {},
   "source": [
    "### The distribution of delay in minutes appears to be significantly higher than when component delay data is not present, though there are ~5 times more observations of when delay component info is not available"
   ]
  },
  {
   "cell_type": "code",
   "execution_count": 57,
   "metadata": {},
   "outputs": [
    {
     "data": {
      "text/plain": [
       "109181"
      ]
     },
     "execution_count": 57,
     "metadata": {},
     "output_type": "execute_result"
    }
   ],
   "source": [
    "len(data_date[data_date['DEP_DELAY'] >= 15])"
   ]
  },
  {
   "cell_type": "code",
   "execution_count": 55,
   "metadata": {},
   "outputs": [
    {
     "data": {
      "text/plain": [
       "0.0    510366\n",
       "1.0    109181\n",
       "Name: DEP_DEL15, dtype: int64"
      ]
     },
     "execution_count": 55,
     "metadata": {},
     "output_type": "execute_result"
    }
   ],
   "source": [
    "data_date['DEP_DEL15'].value_counts()"
   ]
  },
  {
   "cell_type": "markdown",
   "metadata": {},
   "source": [
    "### Distribution of Departure Times when there is a delay > 15 min"
   ]
  },
  {
   "cell_type": "code",
   "execution_count": null,
   "metadata": {},
   "outputs": [],
   "source": [
    "for col in list(data_date.columns):\n",
    "    \n",
    "        fig, (ax1,ax2) = plt.subplots(1,2,sharey=True,figsize=(10,6))\n",
    "\n",
    "        ax1.set_title('Delay > 15 Min')\n",
    "        freq = delayed[col].value_counts().sort_index()\n",
    "        ax1.bar(list(freq.index),freq)\n",
    "        ax1.set_ylabel('Frequency')\n",
    "\n",
    "        ax2.set_title('No Delay and < 15 Min')\n",
    "        freq = no_heart_disease[col].value_counts().sort_index()\n",
    "        ax2.bar(list(freq.index),freq)\n",
    "\n",
    "        fig.suptitle('' + col)\n",
    "        plt.show()"
   ]
  },
  {
   "cell_type": "code",
   "execution_count": 65,
   "metadata": {},
   "outputs": [
    {
     "data": {
      "text/html": [
       "<div>\n",
       "<style scoped>\n",
       "    .dataframe tbody tr th:only-of-type {\n",
       "        vertical-align: middle;\n",
       "    }\n",
       "\n",
       "    .dataframe tbody tr th {\n",
       "        vertical-align: top;\n",
       "    }\n",
       "\n",
       "    .dataframe thead th {\n",
       "        text-align: right;\n",
       "    }\n",
       "</style>\n",
       "<table border=\"1\" class=\"dataframe\">\n",
       "  <thead>\n",
       "    <tr style=\"text-align: right;\">\n",
       "      <th></th>\n",
       "      <th>YEAR</th>\n",
       "      <th>MONTH</th>\n",
       "      <th>DAY_OF_MONTH</th>\n",
       "      <th>DAY_OF_WEEK</th>\n",
       "      <th>MKT_UNIQUE_CARRIER</th>\n",
       "      <th>MKT_CARRIER_AIRLINE_ID</th>\n",
       "      <th>MKT_CARRIER_FL_NUM</th>\n",
       "      <th>OP_UNIQUE_CARRIER</th>\n",
       "      <th>TAIL_NUM</th>\n",
       "      <th>OP_CARRIER_FL_NUM</th>\n",
       "      <th>ORIGIN_AIRPORT_ID</th>\n",
       "      <th>ORIGIN_AIRPORT_SEQ_ID</th>\n",
       "      <th>ORIGIN_CITY_MARKET_ID</th>\n",
       "      <th>ORIGIN</th>\n",
       "      <th>ORIGIN_CITY_NAME</th>\n",
       "      <th>ORIGIN_STATE_ABR</th>\n",
       "      <th>DEST_AIRPORT_ID</th>\n",
       "      <th>DEST_AIRPORT_SEQ_ID</th>\n",
       "      <th>DEST_CITY_MARKET_ID</th>\n",
       "      <th>DEST</th>\n",
       "      <th>DEST_CITY_NAME</th>\n",
       "      <th>DEST_STATE_ABR</th>\n",
       "      <th>DEST_STATE_FIPS</th>\n",
       "      <th>DEST_STATE_NM</th>\n",
       "      <th>DEST_WAC</th>\n",
       "      <th>CRS_DEP_TIME</th>\n",
       "      <th>DEP_TIME</th>\n",
       "      <th>DEP_DELAY</th>\n",
       "      <th>DEP_DELAY_NEW</th>\n",
       "      <th>DEP_DEL15</th>\n",
       "      <th>TAXI_OUT</th>\n",
       "      <th>WHEELS_OFF</th>\n",
       "      <th>WHEELS_ON</th>\n",
       "      <th>TAXI_IN</th>\n",
       "      <th>CANCELLED</th>\n",
       "      <th>CANCELLATION_CODE</th>\n",
       "      <th>DIVERTED</th>\n",
       "      <th>DUP</th>\n",
       "      <th>FLIGHTS</th>\n",
       "      <th>DISTANCE</th>\n",
       "      <th>CARRIER_DELAY</th>\n",
       "      <th>WEATHER_DELAY</th>\n",
       "      <th>NAS_DELAY</th>\n",
       "      <th>SECURITY_DELAY</th>\n",
       "      <th>LATE_AIRCRAFT_DELAY</th>\n",
       "      <th>DIV_AIRPORT_LANDINGS</th>\n",
       "      <th>DIV_ARR_DELAY</th>\n",
       "      <th>DIV_DISTANCE</th>\n",
       "    </tr>\n",
       "    <tr>\n",
       "      <th>FL_DATE</th>\n",
       "      <th></th>\n",
       "      <th></th>\n",
       "      <th></th>\n",
       "      <th></th>\n",
       "      <th></th>\n",
       "      <th></th>\n",
       "      <th></th>\n",
       "      <th></th>\n",
       "      <th></th>\n",
       "      <th></th>\n",
       "      <th></th>\n",
       "      <th></th>\n",
       "      <th></th>\n",
       "      <th></th>\n",
       "      <th></th>\n",
       "      <th></th>\n",
       "      <th></th>\n",
       "      <th></th>\n",
       "      <th></th>\n",
       "      <th></th>\n",
       "      <th></th>\n",
       "      <th></th>\n",
       "      <th></th>\n",
       "      <th></th>\n",
       "      <th></th>\n",
       "      <th></th>\n",
       "      <th></th>\n",
       "      <th></th>\n",
       "      <th></th>\n",
       "      <th></th>\n",
       "      <th></th>\n",
       "      <th></th>\n",
       "      <th></th>\n",
       "      <th></th>\n",
       "      <th></th>\n",
       "      <th></th>\n",
       "      <th></th>\n",
       "      <th></th>\n",
       "      <th></th>\n",
       "      <th></th>\n",
       "      <th></th>\n",
       "      <th></th>\n",
       "      <th></th>\n",
       "      <th></th>\n",
       "      <th></th>\n",
       "      <th></th>\n",
       "      <th></th>\n",
       "      <th></th>\n",
       "    </tr>\n",
       "  </thead>\n",
       "  <tbody>\n",
       "    <tr>\n",
       "      <th>2019-01-08</th>\n",
       "      <td>2019</td>\n",
       "      <td>1</td>\n",
       "      <td>8</td>\n",
       "      <td>2</td>\n",
       "      <td>DL</td>\n",
       "      <td>19790</td>\n",
       "      <td>5246</td>\n",
       "      <td>9E</td>\n",
       "      <td>N304PQ</td>\n",
       "      <td>5246</td>\n",
       "      <td>13495</td>\n",
       "      <td>1349505</td>\n",
       "      <td>33495</td>\n",
       "      <td>MSY</td>\n",
       "      <td>New Orleans, LA</td>\n",
       "      <td>LA</td>\n",
       "      <td>12953</td>\n",
       "      <td>1295304</td>\n",
       "      <td>31703</td>\n",
       "      <td>LGA</td>\n",
       "      <td>New York, NY</td>\n",
       "      <td>NY</td>\n",
       "      <td>36</td>\n",
       "      <td>New York</td>\n",
       "      <td>22</td>\n",
       "      <td>601</td>\n",
       "      <td>551.0</td>\n",
       "      <td>-10.0</td>\n",
       "      <td>0.0</td>\n",
       "      <td>0.0</td>\n",
       "      <td>13.0</td>\n",
       "      <td>604.0</td>\n",
       "      <td>929.0</td>\n",
       "      <td>7.0</td>\n",
       "      <td>0.0</td>\n",
       "      <td>NaN</td>\n",
       "      <td>0.0</td>\n",
       "      <td>N</td>\n",
       "      <td>1.0</td>\n",
       "      <td>1183.0</td>\n",
       "      <td>NaN</td>\n",
       "      <td>NaN</td>\n",
       "      <td>NaN</td>\n",
       "      <td>NaN</td>\n",
       "      <td>NaN</td>\n",
       "      <td>0</td>\n",
       "      <td>NaN</td>\n",
       "      <td>NaN</td>\n",
       "    </tr>\n",
       "    <tr>\n",
       "      <th>2019-01-08</th>\n",
       "      <td>2019</td>\n",
       "      <td>1</td>\n",
       "      <td>8</td>\n",
       "      <td>2</td>\n",
       "      <td>DL</td>\n",
       "      <td>19790</td>\n",
       "      <td>5247</td>\n",
       "      <td>9E</td>\n",
       "      <td>N8837B</td>\n",
       "      <td>5247</td>\n",
       "      <td>14100</td>\n",
       "      <td>1410005</td>\n",
       "      <td>34100</td>\n",
       "      <td>PHL</td>\n",
       "      <td>Philadelphia, PA</td>\n",
       "      <td>PA</td>\n",
       "      <td>14492</td>\n",
       "      <td>1449202</td>\n",
       "      <td>34492</td>\n",
       "      <td>RDU</td>\n",
       "      <td>Raleigh/Durham, NC</td>\n",
       "      <td>NC</td>\n",
       "      <td>37</td>\n",
       "      <td>North Carolina</td>\n",
       "      <td>36</td>\n",
       "      <td>832</td>\n",
       "      <td>1048.0</td>\n",
       "      <td>136.0</td>\n",
       "      <td>136.0</td>\n",
       "      <td>1.0</td>\n",
       "      <td>22.0</td>\n",
       "      <td>1110.0</td>\n",
       "      <td>1210.0</td>\n",
       "      <td>5.0</td>\n",
       "      <td>0.0</td>\n",
       "      <td>NaN</td>\n",
       "      <td>0.0</td>\n",
       "      <td>N</td>\n",
       "      <td>1.0</td>\n",
       "      <td>337.0</td>\n",
       "      <td>0.0</td>\n",
       "      <td>0.0</td>\n",
       "      <td>0.0</td>\n",
       "      <td>0.0</td>\n",
       "      <td>112.0</td>\n",
       "      <td>0</td>\n",
       "      <td>NaN</td>\n",
       "      <td>NaN</td>\n",
       "    </tr>\n",
       "    <tr>\n",
       "      <th>2019-01-08</th>\n",
       "      <td>2019</td>\n",
       "      <td>1</td>\n",
       "      <td>8</td>\n",
       "      <td>2</td>\n",
       "      <td>DL</td>\n",
       "      <td>19790</td>\n",
       "      <td>5247</td>\n",
       "      <td>9E</td>\n",
       "      <td>N8837B</td>\n",
       "      <td>5247</td>\n",
       "      <td>14492</td>\n",
       "      <td>1449202</td>\n",
       "      <td>34492</td>\n",
       "      <td>RDU</td>\n",
       "      <td>Raleigh/Durham, NC</td>\n",
       "      <td>NC</td>\n",
       "      <td>14100</td>\n",
       "      <td>1410005</td>\n",
       "      <td>34100</td>\n",
       "      <td>PHL</td>\n",
       "      <td>Philadelphia, PA</td>\n",
       "      <td>PA</td>\n",
       "      <td>42</td>\n",
       "      <td>Pennsylvania</td>\n",
       "      <td>23</td>\n",
       "      <td>630</td>\n",
       "      <td>848.0</td>\n",
       "      <td>138.0</td>\n",
       "      <td>138.0</td>\n",
       "      <td>1.0</td>\n",
       "      <td>35.0</td>\n",
       "      <td>923.0</td>\n",
       "      <td>1019.0</td>\n",
       "      <td>9.0</td>\n",
       "      <td>0.0</td>\n",
       "      <td>NaN</td>\n",
       "      <td>0.0</td>\n",
       "      <td>N</td>\n",
       "      <td>1.0</td>\n",
       "      <td>337.0</td>\n",
       "      <td>138.0</td>\n",
       "      <td>0.0</td>\n",
       "      <td>3.0</td>\n",
       "      <td>0.0</td>\n",
       "      <td>0.0</td>\n",
       "      <td>0</td>\n",
       "      <td>NaN</td>\n",
       "      <td>NaN</td>\n",
       "    </tr>\n",
       "    <tr>\n",
       "      <th>2019-01-08</th>\n",
       "      <td>2019</td>\n",
       "      <td>1</td>\n",
       "      <td>8</td>\n",
       "      <td>2</td>\n",
       "      <td>DL</td>\n",
       "      <td>19790</td>\n",
       "      <td>5248</td>\n",
       "      <td>9E</td>\n",
       "      <td>N131EV</td>\n",
       "      <td>5248</td>\n",
       "      <td>10792</td>\n",
       "      <td>1079206</td>\n",
       "      <td>30792</td>\n",
       "      <td>BUF</td>\n",
       "      <td>Buffalo, NY</td>\n",
       "      <td>NY</td>\n",
       "      <td>12953</td>\n",
       "      <td>1295304</td>\n",
       "      <td>31703</td>\n",
       "      <td>LGA</td>\n",
       "      <td>New York, NY</td>\n",
       "      <td>NY</td>\n",
       "      <td>36</td>\n",
       "      <td>New York</td>\n",
       "      <td>22</td>\n",
       "      <td>540</td>\n",
       "      <td>559.0</td>\n",
       "      <td>19.0</td>\n",
       "      <td>19.0</td>\n",
       "      <td>1.0</td>\n",
       "      <td>14.0</td>\n",
       "      <td>613.0</td>\n",
       "      <td>703.0</td>\n",
       "      <td>10.0</td>\n",
       "      <td>0.0</td>\n",
       "      <td>NaN</td>\n",
       "      <td>0.0</td>\n",
       "      <td>N</td>\n",
       "      <td>1.0</td>\n",
       "      <td>292.0</td>\n",
       "      <td>NaN</td>\n",
       "      <td>NaN</td>\n",
       "      <td>NaN</td>\n",
       "      <td>NaN</td>\n",
       "      <td>NaN</td>\n",
       "      <td>0</td>\n",
       "      <td>NaN</td>\n",
       "      <td>NaN</td>\n",
       "    </tr>\n",
       "    <tr>\n",
       "      <th>2019-01-08</th>\n",
       "      <td>2019</td>\n",
       "      <td>1</td>\n",
       "      <td>8</td>\n",
       "      <td>2</td>\n",
       "      <td>DL</td>\n",
       "      <td>19790</td>\n",
       "      <td>5249</td>\n",
       "      <td>9E</td>\n",
       "      <td>N197PQ</td>\n",
       "      <td>5249</td>\n",
       "      <td>13487</td>\n",
       "      <td>1348702</td>\n",
       "      <td>31650</td>\n",
       "      <td>MSP</td>\n",
       "      <td>Minneapolis, MN</td>\n",
       "      <td>MN</td>\n",
       "      <td>11193</td>\n",
       "      <td>1119302</td>\n",
       "      <td>33105</td>\n",
       "      <td>CVG</td>\n",
       "      <td>Cincinnati, OH</td>\n",
       "      <td>KY</td>\n",
       "      <td>21</td>\n",
       "      <td>Kentucky</td>\n",
       "      <td>52</td>\n",
       "      <td>2020</td>\n",
       "      <td>2016.0</td>\n",
       "      <td>-4.0</td>\n",
       "      <td>0.0</td>\n",
       "      <td>0.0</td>\n",
       "      <td>25.0</td>\n",
       "      <td>2041.0</td>\n",
       "      <td>2254.0</td>\n",
       "      <td>6.0</td>\n",
       "      <td>0.0</td>\n",
       "      <td>NaN</td>\n",
       "      <td>0.0</td>\n",
       "      <td>N</td>\n",
       "      <td>1.0</td>\n",
       "      <td>596.0</td>\n",
       "      <td>NaN</td>\n",
       "      <td>NaN</td>\n",
       "      <td>NaN</td>\n",
       "      <td>NaN</td>\n",
       "      <td>NaN</td>\n",
       "      <td>0</td>\n",
       "      <td>NaN</td>\n",
       "      <td>NaN</td>\n",
       "    </tr>\n",
       "  </tbody>\n",
       "</table>\n",
       "</div>"
      ],
      "text/plain": [
       "            YEAR  MONTH  DAY_OF_MONTH  DAY_OF_WEEK MKT_UNIQUE_CARRIER  \\\n",
       "FL_DATE                                                                 \n",
       "2019-01-08  2019      1             8            2                 DL   \n",
       "2019-01-08  2019      1             8            2                 DL   \n",
       "2019-01-08  2019      1             8            2                 DL   \n",
       "2019-01-08  2019      1             8            2                 DL   \n",
       "2019-01-08  2019      1             8            2                 DL   \n",
       "\n",
       "            MKT_CARRIER_AIRLINE_ID  MKT_CARRIER_FL_NUM OP_UNIQUE_CARRIER  \\\n",
       "FL_DATE                                                                    \n",
       "2019-01-08                   19790                5246                9E   \n",
       "2019-01-08                   19790                5247                9E   \n",
       "2019-01-08                   19790                5247                9E   \n",
       "2019-01-08                   19790                5248                9E   \n",
       "2019-01-08                   19790                5249                9E   \n",
       "\n",
       "           TAIL_NUM  OP_CARRIER_FL_NUM  ORIGIN_AIRPORT_ID  \\\n",
       "FL_DATE                                                     \n",
       "2019-01-08   N304PQ               5246              13495   \n",
       "2019-01-08   N8837B               5247              14100   \n",
       "2019-01-08   N8837B               5247              14492   \n",
       "2019-01-08   N131EV               5248              10792   \n",
       "2019-01-08   N197PQ               5249              13487   \n",
       "\n",
       "            ORIGIN_AIRPORT_SEQ_ID  ORIGIN_CITY_MARKET_ID ORIGIN  \\\n",
       "FL_DATE                                                           \n",
       "2019-01-08                1349505                  33495    MSY   \n",
       "2019-01-08                1410005                  34100    PHL   \n",
       "2019-01-08                1449202                  34492    RDU   \n",
       "2019-01-08                1079206                  30792    BUF   \n",
       "2019-01-08                1348702                  31650    MSP   \n",
       "\n",
       "              ORIGIN_CITY_NAME ORIGIN_STATE_ABR  DEST_AIRPORT_ID  \\\n",
       "FL_DATE                                                            \n",
       "2019-01-08     New Orleans, LA               LA            12953   \n",
       "2019-01-08    Philadelphia, PA               PA            14492   \n",
       "2019-01-08  Raleigh/Durham, NC               NC            14100   \n",
       "2019-01-08         Buffalo, NY               NY            12953   \n",
       "2019-01-08     Minneapolis, MN               MN            11193   \n",
       "\n",
       "            DEST_AIRPORT_SEQ_ID  DEST_CITY_MARKET_ID DEST      DEST_CITY_NAME  \\\n",
       "FL_DATE                                                                         \n",
       "2019-01-08              1295304                31703  LGA        New York, NY   \n",
       "2019-01-08              1449202                34492  RDU  Raleigh/Durham, NC   \n",
       "2019-01-08              1410005                34100  PHL    Philadelphia, PA   \n",
       "2019-01-08              1295304                31703  LGA        New York, NY   \n",
       "2019-01-08              1119302                33105  CVG      Cincinnati, OH   \n",
       "\n",
       "           DEST_STATE_ABR  DEST_STATE_FIPS   DEST_STATE_NM  DEST_WAC  \\\n",
       "FL_DATE                                                                \n",
       "2019-01-08             NY               36        New York        22   \n",
       "2019-01-08             NC               37  North Carolina        36   \n",
       "2019-01-08             PA               42    Pennsylvania        23   \n",
       "2019-01-08             NY               36        New York        22   \n",
       "2019-01-08             KY               21        Kentucky        52   \n",
       "\n",
       "            CRS_DEP_TIME  DEP_TIME  DEP_DELAY  DEP_DELAY_NEW  DEP_DEL15  \\\n",
       "FL_DATE                                                                   \n",
       "2019-01-08           601     551.0      -10.0            0.0        0.0   \n",
       "2019-01-08           832    1048.0      136.0          136.0        1.0   \n",
       "2019-01-08           630     848.0      138.0          138.0        1.0   \n",
       "2019-01-08           540     559.0       19.0           19.0        1.0   \n",
       "2019-01-08          2020    2016.0       -4.0            0.0        0.0   \n",
       "\n",
       "            TAXI_OUT  WHEELS_OFF  WHEELS_ON  TAXI_IN  CANCELLED  \\\n",
       "FL_DATE                                                           \n",
       "2019-01-08      13.0       604.0      929.0      7.0        0.0   \n",
       "2019-01-08      22.0      1110.0     1210.0      5.0        0.0   \n",
       "2019-01-08      35.0       923.0     1019.0      9.0        0.0   \n",
       "2019-01-08      14.0       613.0      703.0     10.0        0.0   \n",
       "2019-01-08      25.0      2041.0     2254.0      6.0        0.0   \n",
       "\n",
       "           CANCELLATION_CODE  DIVERTED DUP  FLIGHTS  DISTANCE  CARRIER_DELAY  \\\n",
       "FL_DATE                                                                        \n",
       "2019-01-08               NaN       0.0   N      1.0    1183.0            NaN   \n",
       "2019-01-08               NaN       0.0   N      1.0     337.0            0.0   \n",
       "2019-01-08               NaN       0.0   N      1.0     337.0          138.0   \n",
       "2019-01-08               NaN       0.0   N      1.0     292.0            NaN   \n",
       "2019-01-08               NaN       0.0   N      1.0     596.0            NaN   \n",
       "\n",
       "            WEATHER_DELAY  NAS_DELAY  SECURITY_DELAY  LATE_AIRCRAFT_DELAY  \\\n",
       "FL_DATE                                                                     \n",
       "2019-01-08            NaN        NaN             NaN                  NaN   \n",
       "2019-01-08            0.0        0.0             0.0                112.0   \n",
       "2019-01-08            0.0        3.0             0.0                  0.0   \n",
       "2019-01-08            NaN        NaN             NaN                  NaN   \n",
       "2019-01-08            NaN        NaN             NaN                  NaN   \n",
       "\n",
       "            DIV_AIRPORT_LANDINGS  DIV_ARR_DELAY  DIV_DISTANCE  \n",
       "FL_DATE                                                        \n",
       "2019-01-08                     0            NaN           NaN  \n",
       "2019-01-08                     0            NaN           NaN  \n",
       "2019-01-08                     0            NaN           NaN  \n",
       "2019-01-08                     0            NaN           NaN  \n",
       "2019-01-08                     0            NaN           NaN  "
      ]
     },
     "execution_count": 65,
     "metadata": {},
     "output_type": "execute_result"
    }
   ],
   "source": [
    "data_date[data_date.index == dates[0]].head()"
   ]
  },
  {
   "cell_type": "code",
   "execution_count": 73,
   "metadata": {},
   "outputs": [
    {
     "data": {
      "text/plain": [
       "31"
      ]
     },
     "execution_count": 73,
     "metadata": {},
     "output_type": "execute_result"
    }
   ],
   "source": [
    "dates = list(set(list(data_date.index)))\n",
    "len(dates)"
   ]
  },
  {
   "cell_type": "code",
   "execution_count": 90,
   "metadata": {},
   "outputs": [],
   "source": [
    "#data_date.drop(['YEAR', 'MONTH', 'DAY_OF_MONTH'], axis=1, inplace=True)\n",
    "data_date.drop(['DAY_OF_WEEK'], axis=1, inplace=True)"
   ]
  },
  {
   "cell_type": "markdown",
   "metadata": {},
   "source": [
    "### Plotting frequency of flights by carrier not so useful due to major airlines having so many more flights, better to use % delayed & ontime"
   ]
  },
  {
   "cell_type": "code",
   "execution_count": 92,
   "metadata": {},
   "outputs": [
    {
     "name": "stdout",
     "output_type": "stream",
     "text": [
      "\n"
     ]
    }
   ],
   "source": [
    "dates = list(set(list(data_date.index)))\n",
    "dates.sort()\n",
    "for col in list(data_date.columns):\n",
    "    if(col != 'DEP_DEL15'):\n",
    "        for date in dates:\n",
    "            temp = data_date[data_date.index == date]\n",
    "            delayed = temp[temp['DEP_DEL15'] == 1]\n",
    "            ontime = temp[temp['DEP_DEL15'] == 0]\n",
    "            print(\"\")\n",
    "            fig, (ax1,ax2) = plt.subplots(1,2,sharey=True,figsize=(10,6))\n",
    "\n",
    "            ax1.set_title('Delay > 15 Min')\n",
    "            ax1.set_ylabel('Frequency')\n",
    "\n",
    "            ax2.set_title('No Delay and < 15 Min')\n",
    "            if len(temp[col].value_counts()) < 50:\n",
    "                freq = delayed[col].value_counts().sort_index()\n",
    "                ax1.bar(list(freq.index),freq)\n",
    "\n",
    "                freq = ontime[col].value_counts().sort_index()\n",
    "                ax2.bar(list(freq.index),freq)\n",
    "\n",
    "                #delayed[col].value_counts().plot.bar(figsize=(10,6))\n",
    "                #ontime[col].value_counts().plot.bar(figsize=(10,6))\n",
    "            else:\n",
    "                freq = delayed[col].value_counts().sort_index()\n",
    "                ax1.hist(list(freq.index),freq)\n",
    "\n",
    "                freq = ontime[col].value_counts().sort_index()\n",
    "                ax2.hist(list(freq.index),freq)\n",
    "                #delayed[col].value_counts().plot.hist(figsize=(10,6))\n",
    "                #ontime[col].value_counts().plot.hist(figsize=(10,6))\n",
    "                \n",
    "            fig.suptitle('{}:    {}'.format(col, date))\n",
    "            plt.show()\n",
    "        print(\"----------------------------------------------------------------------------------------------------------------------------------------\")\n"
   ]
  },
  {
   "cell_type": "code",
   "execution_count": 18,
   "metadata": {},
   "outputs": [
    {
     "data": {
      "text/html": [
       "<div>\n",
       "<style scoped>\n",
       "    .dataframe tbody tr th:only-of-type {\n",
       "        vertical-align: middle;\n",
       "    }\n",
       "\n",
       "    .dataframe tbody tr th {\n",
       "        vertical-align: top;\n",
       "    }\n",
       "\n",
       "    .dataframe thead th {\n",
       "        text-align: right;\n",
       "    }\n",
       "</style>\n",
       "<table border=\"1\" class=\"dataframe\">\n",
       "  <thead>\n",
       "    <tr style=\"text-align: right;\">\n",
       "      <th></th>\n",
       "      <th>YEAR</th>\n",
       "      <th>MONTH</th>\n",
       "      <th>DAY_OF_MONTH</th>\n",
       "      <th>DAY_OF_WEEK</th>\n",
       "      <th>MKT_UNIQUE_CARRIER</th>\n",
       "      <th>MKT_CARRIER_AIRLINE_ID</th>\n",
       "      <th>MKT_CARRIER_FL_NUM</th>\n",
       "      <th>OP_UNIQUE_CARRIER</th>\n",
       "      <th>TAIL_NUM</th>\n",
       "      <th>OP_CARRIER_FL_NUM</th>\n",
       "      <th>ORIGIN_AIRPORT_ID</th>\n",
       "      <th>ORIGIN_AIRPORT_SEQ_ID</th>\n",
       "      <th>ORIGIN_CITY_MARKET_ID</th>\n",
       "      <th>ORIGIN</th>\n",
       "      <th>ORIGIN_CITY_NAME</th>\n",
       "      <th>ORIGIN_STATE_ABR</th>\n",
       "      <th>DEST_AIRPORT_ID</th>\n",
       "      <th>DEST_AIRPORT_SEQ_ID</th>\n",
       "      <th>DEST_CITY_MARKET_ID</th>\n",
       "      <th>DEST</th>\n",
       "      <th>DEST_CITY_NAME</th>\n",
       "      <th>DEST_STATE_ABR</th>\n",
       "      <th>DEST_STATE_FIPS</th>\n",
       "      <th>DEST_STATE_NM</th>\n",
       "      <th>DEST_WAC</th>\n",
       "      <th>CRS_DEP_TIME</th>\n",
       "      <th>DEP_TIME</th>\n",
       "      <th>DEP_DELAY</th>\n",
       "      <th>DEP_DELAY_NEW</th>\n",
       "      <th>DEP_DEL15</th>\n",
       "      <th>TAXI_OUT</th>\n",
       "      <th>WHEELS_OFF</th>\n",
       "      <th>WHEELS_ON</th>\n",
       "      <th>TAXI_IN</th>\n",
       "      <th>CANCELLED</th>\n",
       "      <th>CANCELLATION_CODE</th>\n",
       "      <th>DIVERTED</th>\n",
       "      <th>DUP</th>\n",
       "      <th>FLIGHTS</th>\n",
       "      <th>DISTANCE</th>\n",
       "      <th>CARRIER_DELAY</th>\n",
       "      <th>WEATHER_DELAY</th>\n",
       "      <th>NAS_DELAY</th>\n",
       "      <th>SECURITY_DELAY</th>\n",
       "      <th>LATE_AIRCRAFT_DELAY</th>\n",
       "      <th>DIV_AIRPORT_LANDINGS</th>\n",
       "      <th>DIV_ARR_DELAY</th>\n",
       "      <th>DIV_DISTANCE</th>\n",
       "    </tr>\n",
       "    <tr>\n",
       "      <th>FL_DATE</th>\n",
       "      <th></th>\n",
       "      <th></th>\n",
       "      <th></th>\n",
       "      <th></th>\n",
       "      <th></th>\n",
       "      <th></th>\n",
       "      <th></th>\n",
       "      <th></th>\n",
       "      <th></th>\n",
       "      <th></th>\n",
       "      <th></th>\n",
       "      <th></th>\n",
       "      <th></th>\n",
       "      <th></th>\n",
       "      <th></th>\n",
       "      <th></th>\n",
       "      <th></th>\n",
       "      <th></th>\n",
       "      <th></th>\n",
       "      <th></th>\n",
       "      <th></th>\n",
       "      <th></th>\n",
       "      <th></th>\n",
       "      <th></th>\n",
       "      <th></th>\n",
       "      <th></th>\n",
       "      <th></th>\n",
       "      <th></th>\n",
       "      <th></th>\n",
       "      <th></th>\n",
       "      <th></th>\n",
       "      <th></th>\n",
       "      <th></th>\n",
       "      <th></th>\n",
       "      <th></th>\n",
       "      <th></th>\n",
       "      <th></th>\n",
       "      <th></th>\n",
       "      <th></th>\n",
       "      <th></th>\n",
       "      <th></th>\n",
       "      <th></th>\n",
       "      <th></th>\n",
       "      <th></th>\n",
       "      <th></th>\n",
       "      <th></th>\n",
       "      <th></th>\n",
       "      <th></th>\n",
       "    </tr>\n",
       "  </thead>\n",
       "  <tbody>\n",
       "    <tr>\n",
       "      <th>2019-01-19</th>\n",
       "      <td>2019</td>\n",
       "      <td>1</td>\n",
       "      <td>19</td>\n",
       "      <td>6</td>\n",
       "      <td>DL</td>\n",
       "      <td>19790</td>\n",
       "      <td>5245</td>\n",
       "      <td>9E</td>\n",
       "      <td>N176PQ</td>\n",
       "      <td>5245</td>\n",
       "      <td>13487</td>\n",
       "      <td>1348702</td>\n",
       "      <td>31650</td>\n",
       "      <td>MSP</td>\n",
       "      <td>Minneapolis, MN</td>\n",
       "      <td>MN</td>\n",
       "      <td>11193</td>\n",
       "      <td>1119302</td>\n",
       "      <td>33105</td>\n",
       "      <td>CVG</td>\n",
       "      <td>Cincinnati, OH</td>\n",
       "      <td>KY</td>\n",
       "      <td>21</td>\n",
       "      <td>Kentucky</td>\n",
       "      <td>52</td>\n",
       "      <td>1556</td>\n",
       "      <td>1546.0</td>\n",
       "      <td>-10.0</td>\n",
       "      <td>0.0</td>\n",
       "      <td>0.0</td>\n",
       "      <td>14.0</td>\n",
       "      <td>1600.0</td>\n",
       "      <td>1827.0</td>\n",
       "      <td>5.0</td>\n",
       "      <td>0.0</td>\n",
       "      <td>NaN</td>\n",
       "      <td>0.0</td>\n",
       "      <td>N</td>\n",
       "      <td>1.0</td>\n",
       "      <td>596.0</td>\n",
       "      <td>NaN</td>\n",
       "      <td>NaN</td>\n",
       "      <td>NaN</td>\n",
       "      <td>NaN</td>\n",
       "      <td>NaN</td>\n",
       "      <td>0</td>\n",
       "      <td>NaN</td>\n",
       "      <td>NaN</td>\n",
       "    </tr>\n",
       "    <tr>\n",
       "      <th>2019-01-20</th>\n",
       "      <td>2019</td>\n",
       "      <td>1</td>\n",
       "      <td>20</td>\n",
       "      <td>7</td>\n",
       "      <td>DL</td>\n",
       "      <td>19790</td>\n",
       "      <td>5245</td>\n",
       "      <td>9E</td>\n",
       "      <td>N309PQ</td>\n",
       "      <td>5245</td>\n",
       "      <td>13487</td>\n",
       "      <td>1348702</td>\n",
       "      <td>31650</td>\n",
       "      <td>MSP</td>\n",
       "      <td>Minneapolis, MN</td>\n",
       "      <td>MN</td>\n",
       "      <td>11193</td>\n",
       "      <td>1119302</td>\n",
       "      <td>33105</td>\n",
       "      <td>CVG</td>\n",
       "      <td>Cincinnati, OH</td>\n",
       "      <td>KY</td>\n",
       "      <td>21</td>\n",
       "      <td>Kentucky</td>\n",
       "      <td>52</td>\n",
       "      <td>1556</td>\n",
       "      <td>1552.0</td>\n",
       "      <td>-4.0</td>\n",
       "      <td>0.0</td>\n",
       "      <td>0.0</td>\n",
       "      <td>12.0</td>\n",
       "      <td>1604.0</td>\n",
       "      <td>1820.0</td>\n",
       "      <td>5.0</td>\n",
       "      <td>0.0</td>\n",
       "      <td>NaN</td>\n",
       "      <td>0.0</td>\n",
       "      <td>N</td>\n",
       "      <td>1.0</td>\n",
       "      <td>596.0</td>\n",
       "      <td>NaN</td>\n",
       "      <td>NaN</td>\n",
       "      <td>NaN</td>\n",
       "      <td>NaN</td>\n",
       "      <td>NaN</td>\n",
       "      <td>0</td>\n",
       "      <td>NaN</td>\n",
       "      <td>NaN</td>\n",
       "    </tr>\n",
       "    <tr>\n",
       "      <th>2019-01-21</th>\n",
       "      <td>2019</td>\n",
       "      <td>1</td>\n",
       "      <td>21</td>\n",
       "      <td>1</td>\n",
       "      <td>DL</td>\n",
       "      <td>19790</td>\n",
       "      <td>5245</td>\n",
       "      <td>9E</td>\n",
       "      <td>N176PQ</td>\n",
       "      <td>5245</td>\n",
       "      <td>13487</td>\n",
       "      <td>1348702</td>\n",
       "      <td>31650</td>\n",
       "      <td>MSP</td>\n",
       "      <td>Minneapolis, MN</td>\n",
       "      <td>MN</td>\n",
       "      <td>11193</td>\n",
       "      <td>1119302</td>\n",
       "      <td>33105</td>\n",
       "      <td>CVG</td>\n",
       "      <td>Cincinnati, OH</td>\n",
       "      <td>KY</td>\n",
       "      <td>21</td>\n",
       "      <td>Kentucky</td>\n",
       "      <td>52</td>\n",
       "      <td>1556</td>\n",
       "      <td>1547.0</td>\n",
       "      <td>-9.0</td>\n",
       "      <td>0.0</td>\n",
       "      <td>0.0</td>\n",
       "      <td>36.0</td>\n",
       "      <td>1623.0</td>\n",
       "      <td>1839.0</td>\n",
       "      <td>6.0</td>\n",
       "      <td>0.0</td>\n",
       "      <td>NaN</td>\n",
       "      <td>0.0</td>\n",
       "      <td>N</td>\n",
       "      <td>1.0</td>\n",
       "      <td>596.0</td>\n",
       "      <td>NaN</td>\n",
       "      <td>NaN</td>\n",
       "      <td>NaN</td>\n",
       "      <td>NaN</td>\n",
       "      <td>NaN</td>\n",
       "      <td>0</td>\n",
       "      <td>NaN</td>\n",
       "      <td>NaN</td>\n",
       "    </tr>\n",
       "    <tr>\n",
       "      <th>2019-01-22</th>\n",
       "      <td>2019</td>\n",
       "      <td>1</td>\n",
       "      <td>22</td>\n",
       "      <td>2</td>\n",
       "      <td>DL</td>\n",
       "      <td>19790</td>\n",
       "      <td>5245</td>\n",
       "      <td>9E</td>\n",
       "      <td>N135EV</td>\n",
       "      <td>5245</td>\n",
       "      <td>13487</td>\n",
       "      <td>1348702</td>\n",
       "      <td>31650</td>\n",
       "      <td>MSP</td>\n",
       "      <td>Minneapolis, MN</td>\n",
       "      <td>MN</td>\n",
       "      <td>11193</td>\n",
       "      <td>1119302</td>\n",
       "      <td>33105</td>\n",
       "      <td>CVG</td>\n",
       "      <td>Cincinnati, OH</td>\n",
       "      <td>KY</td>\n",
       "      <td>21</td>\n",
       "      <td>Kentucky</td>\n",
       "      <td>52</td>\n",
       "      <td>1556</td>\n",
       "      <td>1552.0</td>\n",
       "      <td>-4.0</td>\n",
       "      <td>0.0</td>\n",
       "      <td>0.0</td>\n",
       "      <td>21.0</td>\n",
       "      <td>1613.0</td>\n",
       "      <td>1834.0</td>\n",
       "      <td>5.0</td>\n",
       "      <td>0.0</td>\n",
       "      <td>NaN</td>\n",
       "      <td>0.0</td>\n",
       "      <td>N</td>\n",
       "      <td>1.0</td>\n",
       "      <td>596.0</td>\n",
       "      <td>NaN</td>\n",
       "      <td>NaN</td>\n",
       "      <td>NaN</td>\n",
       "      <td>NaN</td>\n",
       "      <td>NaN</td>\n",
       "      <td>0</td>\n",
       "      <td>NaN</td>\n",
       "      <td>NaN</td>\n",
       "    </tr>\n",
       "    <tr>\n",
       "      <th>2019-01-23</th>\n",
       "      <td>2019</td>\n",
       "      <td>1</td>\n",
       "      <td>23</td>\n",
       "      <td>3</td>\n",
       "      <td>DL</td>\n",
       "      <td>19790</td>\n",
       "      <td>5245</td>\n",
       "      <td>9E</td>\n",
       "      <td>N294PQ</td>\n",
       "      <td>5245</td>\n",
       "      <td>13487</td>\n",
       "      <td>1348702</td>\n",
       "      <td>31650</td>\n",
       "      <td>MSP</td>\n",
       "      <td>Minneapolis, MN</td>\n",
       "      <td>MN</td>\n",
       "      <td>11193</td>\n",
       "      <td>1119302</td>\n",
       "      <td>33105</td>\n",
       "      <td>CVG</td>\n",
       "      <td>Cincinnati, OH</td>\n",
       "      <td>KY</td>\n",
       "      <td>21</td>\n",
       "      <td>Kentucky</td>\n",
       "      <td>52</td>\n",
       "      <td>1556</td>\n",
       "      <td>1550.0</td>\n",
       "      <td>-6.0</td>\n",
       "      <td>0.0</td>\n",
       "      <td>0.0</td>\n",
       "      <td>22.0</td>\n",
       "      <td>1612.0</td>\n",
       "      <td>1844.0</td>\n",
       "      <td>6.0</td>\n",
       "      <td>0.0</td>\n",
       "      <td>NaN</td>\n",
       "      <td>0.0</td>\n",
       "      <td>N</td>\n",
       "      <td>1.0</td>\n",
       "      <td>596.0</td>\n",
       "      <td>NaN</td>\n",
       "      <td>NaN</td>\n",
       "      <td>NaN</td>\n",
       "      <td>NaN</td>\n",
       "      <td>NaN</td>\n",
       "      <td>0</td>\n",
       "      <td>NaN</td>\n",
       "      <td>NaN</td>\n",
       "    </tr>\n",
       "  </tbody>\n",
       "</table>\n",
       "</div>"
      ],
      "text/plain": [
       "            YEAR  MONTH  DAY_OF_MONTH  DAY_OF_WEEK MKT_UNIQUE_CARRIER  \\\n",
       "FL_DATE                                                                 \n",
       "2019-01-19  2019      1            19            6                 DL   \n",
       "2019-01-20  2019      1            20            7                 DL   \n",
       "2019-01-21  2019      1            21            1                 DL   \n",
       "2019-01-22  2019      1            22            2                 DL   \n",
       "2019-01-23  2019      1            23            3                 DL   \n",
       "\n",
       "            MKT_CARRIER_AIRLINE_ID  MKT_CARRIER_FL_NUM OP_UNIQUE_CARRIER  \\\n",
       "FL_DATE                                                                    \n",
       "2019-01-19                   19790                5245                9E   \n",
       "2019-01-20                   19790                5245                9E   \n",
       "2019-01-21                   19790                5245                9E   \n",
       "2019-01-22                   19790                5245                9E   \n",
       "2019-01-23                   19790                5245                9E   \n",
       "\n",
       "           TAIL_NUM  OP_CARRIER_FL_NUM  ORIGIN_AIRPORT_ID  \\\n",
       "FL_DATE                                                     \n",
       "2019-01-19   N176PQ               5245              13487   \n",
       "2019-01-20   N309PQ               5245              13487   \n",
       "2019-01-21   N176PQ               5245              13487   \n",
       "2019-01-22   N135EV               5245              13487   \n",
       "2019-01-23   N294PQ               5245              13487   \n",
       "\n",
       "            ORIGIN_AIRPORT_SEQ_ID  ORIGIN_CITY_MARKET_ID ORIGIN  \\\n",
       "FL_DATE                                                           \n",
       "2019-01-19                1348702                  31650    MSP   \n",
       "2019-01-20                1348702                  31650    MSP   \n",
       "2019-01-21                1348702                  31650    MSP   \n",
       "2019-01-22                1348702                  31650    MSP   \n",
       "2019-01-23                1348702                  31650    MSP   \n",
       "\n",
       "           ORIGIN_CITY_NAME ORIGIN_STATE_ABR  DEST_AIRPORT_ID  \\\n",
       "FL_DATE                                                         \n",
       "2019-01-19  Minneapolis, MN               MN            11193   \n",
       "2019-01-20  Minneapolis, MN               MN            11193   \n",
       "2019-01-21  Minneapolis, MN               MN            11193   \n",
       "2019-01-22  Minneapolis, MN               MN            11193   \n",
       "2019-01-23  Minneapolis, MN               MN            11193   \n",
       "\n",
       "            DEST_AIRPORT_SEQ_ID  DEST_CITY_MARKET_ID DEST  DEST_CITY_NAME  \\\n",
       "FL_DATE                                                                     \n",
       "2019-01-19              1119302                33105  CVG  Cincinnati, OH   \n",
       "2019-01-20              1119302                33105  CVG  Cincinnati, OH   \n",
       "2019-01-21              1119302                33105  CVG  Cincinnati, OH   \n",
       "2019-01-22              1119302                33105  CVG  Cincinnati, OH   \n",
       "2019-01-23              1119302                33105  CVG  Cincinnati, OH   \n",
       "\n",
       "           DEST_STATE_ABR  DEST_STATE_FIPS DEST_STATE_NM  DEST_WAC  \\\n",
       "FL_DATE                                                              \n",
       "2019-01-19             KY               21      Kentucky        52   \n",
       "2019-01-20             KY               21      Kentucky        52   \n",
       "2019-01-21             KY               21      Kentucky        52   \n",
       "2019-01-22             KY               21      Kentucky        52   \n",
       "2019-01-23             KY               21      Kentucky        52   \n",
       "\n",
       "            CRS_DEP_TIME  DEP_TIME  DEP_DELAY  DEP_DELAY_NEW  DEP_DEL15  \\\n",
       "FL_DATE                                                                   \n",
       "2019-01-19          1556    1546.0      -10.0            0.0        0.0   \n",
       "2019-01-20          1556    1552.0       -4.0            0.0        0.0   \n",
       "2019-01-21          1556    1547.0       -9.0            0.0        0.0   \n",
       "2019-01-22          1556    1552.0       -4.0            0.0        0.0   \n",
       "2019-01-23          1556    1550.0       -6.0            0.0        0.0   \n",
       "\n",
       "            TAXI_OUT  WHEELS_OFF  WHEELS_ON  TAXI_IN  CANCELLED  \\\n",
       "FL_DATE                                                           \n",
       "2019-01-19      14.0      1600.0     1827.0      5.0        0.0   \n",
       "2019-01-20      12.0      1604.0     1820.0      5.0        0.0   \n",
       "2019-01-21      36.0      1623.0     1839.0      6.0        0.0   \n",
       "2019-01-22      21.0      1613.0     1834.0      5.0        0.0   \n",
       "2019-01-23      22.0      1612.0     1844.0      6.0        0.0   \n",
       "\n",
       "           CANCELLATION_CODE  DIVERTED DUP  FLIGHTS  DISTANCE  CARRIER_DELAY  \\\n",
       "FL_DATE                                                                        \n",
       "2019-01-19               NaN       0.0   N      1.0     596.0            NaN   \n",
       "2019-01-20               NaN       0.0   N      1.0     596.0            NaN   \n",
       "2019-01-21               NaN       0.0   N      1.0     596.0            NaN   \n",
       "2019-01-22               NaN       0.0   N      1.0     596.0            NaN   \n",
       "2019-01-23               NaN       0.0   N      1.0     596.0            NaN   \n",
       "\n",
       "            WEATHER_DELAY  NAS_DELAY  SECURITY_DELAY  LATE_AIRCRAFT_DELAY  \\\n",
       "FL_DATE                                                                     \n",
       "2019-01-19            NaN        NaN             NaN                  NaN   \n",
       "2019-01-20            NaN        NaN             NaN                  NaN   \n",
       "2019-01-21            NaN        NaN             NaN                  NaN   \n",
       "2019-01-22            NaN        NaN             NaN                  NaN   \n",
       "2019-01-23            NaN        NaN             NaN                  NaN   \n",
       "\n",
       "            DIV_AIRPORT_LANDINGS  DIV_ARR_DELAY  DIV_DISTANCE  \n",
       "FL_DATE                                                        \n",
       "2019-01-19                     0            NaN           NaN  \n",
       "2019-01-20                     0            NaN           NaN  \n",
       "2019-01-21                     0            NaN           NaN  \n",
       "2019-01-22                     0            NaN           NaN  \n",
       "2019-01-23                     0            NaN           NaN  "
      ]
     },
     "execution_count": 18,
     "metadata": {},
     "output_type": "execute_result"
    }
   ],
   "source": [
    "data_date[:5]"
   ]
  },
  {
   "cell_type": "code",
   "execution_count": 17,
   "metadata": {},
   "outputs": [
    {
     "data": {
      "text/html": [
       "<div>\n",
       "<style scoped>\n",
       "    .dataframe tbody tr th:only-of-type {\n",
       "        vertical-align: middle;\n",
       "    }\n",
       "\n",
       "    .dataframe tbody tr th {\n",
       "        vertical-align: top;\n",
       "    }\n",
       "\n",
       "    .dataframe thead th {\n",
       "        text-align: right;\n",
       "    }\n",
       "</style>\n",
       "<table border=\"1\" class=\"dataframe\">\n",
       "  <thead>\n",
       "    <tr style=\"text-align: right;\">\n",
       "      <th></th>\n",
       "      <th>YEAR</th>\n",
       "      <th>MONTH</th>\n",
       "      <th>DAY_OF_MONTH</th>\n",
       "      <th>DAY_OF_WEEK</th>\n",
       "      <th>FL_DATE</th>\n",
       "      <th>MKT_UNIQUE_CARRIER</th>\n",
       "      <th>MKT_CARRIER_AIRLINE_ID</th>\n",
       "      <th>MKT_CARRIER_FL_NUM</th>\n",
       "      <th>OP_UNIQUE_CARRIER</th>\n",
       "      <th>TAIL_NUM</th>\n",
       "      <th>OP_CARRIER_FL_NUM</th>\n",
       "      <th>ORIGIN_AIRPORT_ID</th>\n",
       "      <th>ORIGIN_AIRPORT_SEQ_ID</th>\n",
       "      <th>ORIGIN_CITY_MARKET_ID</th>\n",
       "      <th>ORIGIN</th>\n",
       "      <th>ORIGIN_CITY_NAME</th>\n",
       "      <th>ORIGIN_STATE_ABR</th>\n",
       "      <th>DEST_AIRPORT_ID</th>\n",
       "      <th>DEST_AIRPORT_SEQ_ID</th>\n",
       "      <th>DEST_CITY_MARKET_ID</th>\n",
       "      <th>DEST</th>\n",
       "      <th>DEST_CITY_NAME</th>\n",
       "      <th>DEST_STATE_ABR</th>\n",
       "      <th>DEST_STATE_FIPS</th>\n",
       "      <th>DEST_STATE_NM</th>\n",
       "      <th>DEST_WAC</th>\n",
       "      <th>CRS_DEP_TIME</th>\n",
       "      <th>DEP_TIME</th>\n",
       "      <th>DEP_DELAY</th>\n",
       "      <th>DEP_DELAY_NEW</th>\n",
       "      <th>DEP_DEL15</th>\n",
       "      <th>TAXI_OUT</th>\n",
       "      <th>WHEELS_OFF</th>\n",
       "      <th>WHEELS_ON</th>\n",
       "      <th>TAXI_IN</th>\n",
       "      <th>CANCELLED</th>\n",
       "      <th>CANCELLATION_CODE</th>\n",
       "      <th>DIVERTED</th>\n",
       "      <th>DUP</th>\n",
       "      <th>FLIGHTS</th>\n",
       "      <th>DISTANCE</th>\n",
       "      <th>CARRIER_DELAY</th>\n",
       "      <th>WEATHER_DELAY</th>\n",
       "      <th>NAS_DELAY</th>\n",
       "      <th>SECURITY_DELAY</th>\n",
       "      <th>LATE_AIRCRAFT_DELAY</th>\n",
       "      <th>DIV_AIRPORT_LANDINGS</th>\n",
       "      <th>DIV_ARR_DELAY</th>\n",
       "      <th>DIV_DISTANCE</th>\n",
       "    </tr>\n",
       "  </thead>\n",
       "  <tbody>\n",
       "    <tr>\n",
       "      <th>0</th>\n",
       "      <td>2019</td>\n",
       "      <td>1</td>\n",
       "      <td>19</td>\n",
       "      <td>6</td>\n",
       "      <td>2019-01-19</td>\n",
       "      <td>DL</td>\n",
       "      <td>19790</td>\n",
       "      <td>5245</td>\n",
       "      <td>9E</td>\n",
       "      <td>N176PQ</td>\n",
       "      <td>5245</td>\n",
       "      <td>13487</td>\n",
       "      <td>1348702</td>\n",
       "      <td>31650</td>\n",
       "      <td>MSP</td>\n",
       "      <td>Minneapolis, MN</td>\n",
       "      <td>MN</td>\n",
       "      <td>11193</td>\n",
       "      <td>1119302</td>\n",
       "      <td>33105</td>\n",
       "      <td>CVG</td>\n",
       "      <td>Cincinnati, OH</td>\n",
       "      <td>KY</td>\n",
       "      <td>21</td>\n",
       "      <td>Kentucky</td>\n",
       "      <td>52</td>\n",
       "      <td>1556</td>\n",
       "      <td>1546.0</td>\n",
       "      <td>-10.0</td>\n",
       "      <td>0.0</td>\n",
       "      <td>0.0</td>\n",
       "      <td>14.0</td>\n",
       "      <td>1600.0</td>\n",
       "      <td>1827.0</td>\n",
       "      <td>5.0</td>\n",
       "      <td>0.0</td>\n",
       "      <td>NaN</td>\n",
       "      <td>0.0</td>\n",
       "      <td>N</td>\n",
       "      <td>1.0</td>\n",
       "      <td>596.0</td>\n",
       "      <td>NaN</td>\n",
       "      <td>NaN</td>\n",
       "      <td>NaN</td>\n",
       "      <td>NaN</td>\n",
       "      <td>NaN</td>\n",
       "      <td>0</td>\n",
       "      <td>NaN</td>\n",
       "      <td>NaN</td>\n",
       "    </tr>\n",
       "    <tr>\n",
       "      <th>1</th>\n",
       "      <td>2019</td>\n",
       "      <td>1</td>\n",
       "      <td>20</td>\n",
       "      <td>7</td>\n",
       "      <td>2019-01-20</td>\n",
       "      <td>DL</td>\n",
       "      <td>19790</td>\n",
       "      <td>5245</td>\n",
       "      <td>9E</td>\n",
       "      <td>N309PQ</td>\n",
       "      <td>5245</td>\n",
       "      <td>13487</td>\n",
       "      <td>1348702</td>\n",
       "      <td>31650</td>\n",
       "      <td>MSP</td>\n",
       "      <td>Minneapolis, MN</td>\n",
       "      <td>MN</td>\n",
       "      <td>11193</td>\n",
       "      <td>1119302</td>\n",
       "      <td>33105</td>\n",
       "      <td>CVG</td>\n",
       "      <td>Cincinnati, OH</td>\n",
       "      <td>KY</td>\n",
       "      <td>21</td>\n",
       "      <td>Kentucky</td>\n",
       "      <td>52</td>\n",
       "      <td>1556</td>\n",
       "      <td>1552.0</td>\n",
       "      <td>-4.0</td>\n",
       "      <td>0.0</td>\n",
       "      <td>0.0</td>\n",
       "      <td>12.0</td>\n",
       "      <td>1604.0</td>\n",
       "      <td>1820.0</td>\n",
       "      <td>5.0</td>\n",
       "      <td>0.0</td>\n",
       "      <td>NaN</td>\n",
       "      <td>0.0</td>\n",
       "      <td>N</td>\n",
       "      <td>1.0</td>\n",
       "      <td>596.0</td>\n",
       "      <td>NaN</td>\n",
       "      <td>NaN</td>\n",
       "      <td>NaN</td>\n",
       "      <td>NaN</td>\n",
       "      <td>NaN</td>\n",
       "      <td>0</td>\n",
       "      <td>NaN</td>\n",
       "      <td>NaN</td>\n",
       "    </tr>\n",
       "    <tr>\n",
       "      <th>2</th>\n",
       "      <td>2019</td>\n",
       "      <td>1</td>\n",
       "      <td>21</td>\n",
       "      <td>1</td>\n",
       "      <td>2019-01-21</td>\n",
       "      <td>DL</td>\n",
       "      <td>19790</td>\n",
       "      <td>5245</td>\n",
       "      <td>9E</td>\n",
       "      <td>N176PQ</td>\n",
       "      <td>5245</td>\n",
       "      <td>13487</td>\n",
       "      <td>1348702</td>\n",
       "      <td>31650</td>\n",
       "      <td>MSP</td>\n",
       "      <td>Minneapolis, MN</td>\n",
       "      <td>MN</td>\n",
       "      <td>11193</td>\n",
       "      <td>1119302</td>\n",
       "      <td>33105</td>\n",
       "      <td>CVG</td>\n",
       "      <td>Cincinnati, OH</td>\n",
       "      <td>KY</td>\n",
       "      <td>21</td>\n",
       "      <td>Kentucky</td>\n",
       "      <td>52</td>\n",
       "      <td>1556</td>\n",
       "      <td>1547.0</td>\n",
       "      <td>-9.0</td>\n",
       "      <td>0.0</td>\n",
       "      <td>0.0</td>\n",
       "      <td>36.0</td>\n",
       "      <td>1623.0</td>\n",
       "      <td>1839.0</td>\n",
       "      <td>6.0</td>\n",
       "      <td>0.0</td>\n",
       "      <td>NaN</td>\n",
       "      <td>0.0</td>\n",
       "      <td>N</td>\n",
       "      <td>1.0</td>\n",
       "      <td>596.0</td>\n",
       "      <td>NaN</td>\n",
       "      <td>NaN</td>\n",
       "      <td>NaN</td>\n",
       "      <td>NaN</td>\n",
       "      <td>NaN</td>\n",
       "      <td>0</td>\n",
       "      <td>NaN</td>\n",
       "      <td>NaN</td>\n",
       "    </tr>\n",
       "    <tr>\n",
       "      <th>3</th>\n",
       "      <td>2019</td>\n",
       "      <td>1</td>\n",
       "      <td>22</td>\n",
       "      <td>2</td>\n",
       "      <td>2019-01-22</td>\n",
       "      <td>DL</td>\n",
       "      <td>19790</td>\n",
       "      <td>5245</td>\n",
       "      <td>9E</td>\n",
       "      <td>N135EV</td>\n",
       "      <td>5245</td>\n",
       "      <td>13487</td>\n",
       "      <td>1348702</td>\n",
       "      <td>31650</td>\n",
       "      <td>MSP</td>\n",
       "      <td>Minneapolis, MN</td>\n",
       "      <td>MN</td>\n",
       "      <td>11193</td>\n",
       "      <td>1119302</td>\n",
       "      <td>33105</td>\n",
       "      <td>CVG</td>\n",
       "      <td>Cincinnati, OH</td>\n",
       "      <td>KY</td>\n",
       "      <td>21</td>\n",
       "      <td>Kentucky</td>\n",
       "      <td>52</td>\n",
       "      <td>1556</td>\n",
       "      <td>1552.0</td>\n",
       "      <td>-4.0</td>\n",
       "      <td>0.0</td>\n",
       "      <td>0.0</td>\n",
       "      <td>21.0</td>\n",
       "      <td>1613.0</td>\n",
       "      <td>1834.0</td>\n",
       "      <td>5.0</td>\n",
       "      <td>0.0</td>\n",
       "      <td>NaN</td>\n",
       "      <td>0.0</td>\n",
       "      <td>N</td>\n",
       "      <td>1.0</td>\n",
       "      <td>596.0</td>\n",
       "      <td>NaN</td>\n",
       "      <td>NaN</td>\n",
       "      <td>NaN</td>\n",
       "      <td>NaN</td>\n",
       "      <td>NaN</td>\n",
       "      <td>0</td>\n",
       "      <td>NaN</td>\n",
       "      <td>NaN</td>\n",
       "    </tr>\n",
       "    <tr>\n",
       "      <th>4</th>\n",
       "      <td>2019</td>\n",
       "      <td>1</td>\n",
       "      <td>23</td>\n",
       "      <td>3</td>\n",
       "      <td>2019-01-23</td>\n",
       "      <td>DL</td>\n",
       "      <td>19790</td>\n",
       "      <td>5245</td>\n",
       "      <td>9E</td>\n",
       "      <td>N294PQ</td>\n",
       "      <td>5245</td>\n",
       "      <td>13487</td>\n",
       "      <td>1348702</td>\n",
       "      <td>31650</td>\n",
       "      <td>MSP</td>\n",
       "      <td>Minneapolis, MN</td>\n",
       "      <td>MN</td>\n",
       "      <td>11193</td>\n",
       "      <td>1119302</td>\n",
       "      <td>33105</td>\n",
       "      <td>CVG</td>\n",
       "      <td>Cincinnati, OH</td>\n",
       "      <td>KY</td>\n",
       "      <td>21</td>\n",
       "      <td>Kentucky</td>\n",
       "      <td>52</td>\n",
       "      <td>1556</td>\n",
       "      <td>1550.0</td>\n",
       "      <td>-6.0</td>\n",
       "      <td>0.0</td>\n",
       "      <td>0.0</td>\n",
       "      <td>22.0</td>\n",
       "      <td>1612.0</td>\n",
       "      <td>1844.0</td>\n",
       "      <td>6.0</td>\n",
       "      <td>0.0</td>\n",
       "      <td>NaN</td>\n",
       "      <td>0.0</td>\n",
       "      <td>N</td>\n",
       "      <td>1.0</td>\n",
       "      <td>596.0</td>\n",
       "      <td>NaN</td>\n",
       "      <td>NaN</td>\n",
       "      <td>NaN</td>\n",
       "      <td>NaN</td>\n",
       "      <td>NaN</td>\n",
       "      <td>0</td>\n",
       "      <td>NaN</td>\n",
       "      <td>NaN</td>\n",
       "    </tr>\n",
       "  </tbody>\n",
       "</table>\n",
       "</div>"
      ],
      "text/plain": [
       "   YEAR  MONTH  DAY_OF_MONTH  DAY_OF_WEEK     FL_DATE MKT_UNIQUE_CARRIER  \\\n",
       "0  2019      1            19            6  2019-01-19                 DL   \n",
       "1  2019      1            20            7  2019-01-20                 DL   \n",
       "2  2019      1            21            1  2019-01-21                 DL   \n",
       "3  2019      1            22            2  2019-01-22                 DL   \n",
       "4  2019      1            23            3  2019-01-23                 DL   \n",
       "\n",
       "   MKT_CARRIER_AIRLINE_ID  MKT_CARRIER_FL_NUM OP_UNIQUE_CARRIER TAIL_NUM  \\\n",
       "0                   19790                5245                9E   N176PQ   \n",
       "1                   19790                5245                9E   N309PQ   \n",
       "2                   19790                5245                9E   N176PQ   \n",
       "3                   19790                5245                9E   N135EV   \n",
       "4                   19790                5245                9E   N294PQ   \n",
       "\n",
       "   OP_CARRIER_FL_NUM  ORIGIN_AIRPORT_ID  ORIGIN_AIRPORT_SEQ_ID  \\\n",
       "0               5245              13487                1348702   \n",
       "1               5245              13487                1348702   \n",
       "2               5245              13487                1348702   \n",
       "3               5245              13487                1348702   \n",
       "4               5245              13487                1348702   \n",
       "\n",
       "   ORIGIN_CITY_MARKET_ID ORIGIN ORIGIN_CITY_NAME ORIGIN_STATE_ABR  \\\n",
       "0                  31650    MSP  Minneapolis, MN               MN   \n",
       "1                  31650    MSP  Minneapolis, MN               MN   \n",
       "2                  31650    MSP  Minneapolis, MN               MN   \n",
       "3                  31650    MSP  Minneapolis, MN               MN   \n",
       "4                  31650    MSP  Minneapolis, MN               MN   \n",
       "\n",
       "   DEST_AIRPORT_ID  DEST_AIRPORT_SEQ_ID  DEST_CITY_MARKET_ID DEST  \\\n",
       "0            11193              1119302                33105  CVG   \n",
       "1            11193              1119302                33105  CVG   \n",
       "2            11193              1119302                33105  CVG   \n",
       "3            11193              1119302                33105  CVG   \n",
       "4            11193              1119302                33105  CVG   \n",
       "\n",
       "   DEST_CITY_NAME DEST_STATE_ABR  DEST_STATE_FIPS DEST_STATE_NM  DEST_WAC  \\\n",
       "0  Cincinnati, OH             KY               21      Kentucky        52   \n",
       "1  Cincinnati, OH             KY               21      Kentucky        52   \n",
       "2  Cincinnati, OH             KY               21      Kentucky        52   \n",
       "3  Cincinnati, OH             KY               21      Kentucky        52   \n",
       "4  Cincinnati, OH             KY               21      Kentucky        52   \n",
       "\n",
       "   CRS_DEP_TIME  DEP_TIME  DEP_DELAY  DEP_DELAY_NEW  DEP_DEL15  TAXI_OUT  \\\n",
       "0          1556    1546.0      -10.0            0.0        0.0      14.0   \n",
       "1          1556    1552.0       -4.0            0.0        0.0      12.0   \n",
       "2          1556    1547.0       -9.0            0.0        0.0      36.0   \n",
       "3          1556    1552.0       -4.0            0.0        0.0      21.0   \n",
       "4          1556    1550.0       -6.0            0.0        0.0      22.0   \n",
       "\n",
       "   WHEELS_OFF  WHEELS_ON  TAXI_IN  CANCELLED CANCELLATION_CODE  DIVERTED DUP  \\\n",
       "0      1600.0     1827.0      5.0        0.0               NaN       0.0   N   \n",
       "1      1604.0     1820.0      5.0        0.0               NaN       0.0   N   \n",
       "2      1623.0     1839.0      6.0        0.0               NaN       0.0   N   \n",
       "3      1613.0     1834.0      5.0        0.0               NaN       0.0   N   \n",
       "4      1612.0     1844.0      6.0        0.0               NaN       0.0   N   \n",
       "\n",
       "   FLIGHTS  DISTANCE  CARRIER_DELAY  WEATHER_DELAY  NAS_DELAY  SECURITY_DELAY  \\\n",
       "0      1.0     596.0            NaN            NaN        NaN             NaN   \n",
       "1      1.0     596.0            NaN            NaN        NaN             NaN   \n",
       "2      1.0     596.0            NaN            NaN        NaN             NaN   \n",
       "3      1.0     596.0            NaN            NaN        NaN             NaN   \n",
       "4      1.0     596.0            NaN            NaN        NaN             NaN   \n",
       "\n",
       "   LATE_AIRCRAFT_DELAY  DIV_AIRPORT_LANDINGS  DIV_ARR_DELAY  DIV_DISTANCE  \n",
       "0                  NaN                     0            NaN           NaN  \n",
       "1                  NaN                     0            NaN           NaN  \n",
       "2                  NaN                     0            NaN           NaN  \n",
       "3                  NaN                     0            NaN           NaN  \n",
       "4                  NaN                     0            NaN           NaN  "
      ]
     },
     "execution_count": 17,
     "metadata": {},
     "output_type": "execute_result"
    }
   ],
   "source": [
    "data.iloc[:5]"
   ]
  },
  {
   "cell_type": "code",
   "execution_count": 100,
   "metadata": {},
   "outputs": [],
   "source": [
    "delayed = data_date[data_date['DEP_DEL15'] == 1]\n",
    "ontime = data_date[data_date['DEP_DEL15'] == 0]\n",
    "data_date = []"
   ]
  },
  {
   "cell_type": "markdown",
   "metadata": {},
   "source": [
    "---\n",
    "### **Date** <a id=\"date\"></a>\n",
    "##### <a href=\"#eda\">EDA</a>\n",
    "---"
   ]
  },
  {
   "cell_type": "code",
   "execution_count": 24,
   "metadata": {},
   "outputs": [
    {
     "data": {
      "text/plain": [
       "'2019-01-01'"
      ]
     },
     "execution_count": 24,
     "metadata": {},
     "output_type": "execute_result"
    }
   ],
   "source": [
    "data['FL_DATE'].min()"
   ]
  },
  {
   "cell_type": "code",
   "execution_count": 25,
   "metadata": {},
   "outputs": [
    {
     "data": {
      "text/plain": [
       "'2019-01-31'"
      ]
     },
     "execution_count": 25,
     "metadata": {},
     "output_type": "execute_result"
    }
   ],
   "source": [
    "data['FL_DATE'].max()"
   ]
  },
  {
   "cell_type": "code",
   "execution_count": 145,
   "metadata": {},
   "outputs": [
    {
     "data": {
      "text/plain": [
       "2019-01-02    22311\n",
       "2019-01-11    21934\n",
       "2019-01-25    21889\n",
       "2019-01-18    21858\n",
       "2019-01-07    21851\n",
       "2019-01-10    21823\n",
       "2019-01-31    21802\n",
       "2019-01-24    21801\n",
       "2019-01-17    21800\n",
       "2019-01-14    21781\n",
       "2019-01-28    21772\n",
       "2019-01-04    21439\n",
       "2019-01-03    21384\n",
       "2019-01-21    21312\n",
       "2019-01-06    21284\n",
       "2019-01-09    21020\n",
       "2019-01-30    20889\n",
       "2019-01-23    20886\n",
       "2019-01-16    20881\n",
       "2019-01-08    20566\n",
       "2019-01-29    20411\n",
       "2019-01-22    20407\n",
       "2019-01-15    20402\n",
       "2019-01-27    20306\n",
       "2019-01-13    20300\n",
       "2019-01-01    19683\n",
       "2019-01-05    18533\n",
       "2019-01-20    18454\n",
       "2019-01-12    16773\n",
       "2019-01-26    16727\n",
       "2019-01-19    16370\n",
       "Name: FL_DATE, dtype: int64"
      ]
     },
     "execution_count": 145,
     "metadata": {},
     "output_type": "execute_result"
    }
   ],
   "source": [
    "data['FL_DATE'].value_counts()"
   ]
  },
  {
   "cell_type": "code",
   "execution_count": 152,
   "metadata": {},
   "outputs": [
    {
     "data": {
      "text/plain": [
       "<matplotlib.axes._subplots.AxesSubplot at 0x7f6be2656780>"
      ]
     },
     "execution_count": 152,
     "metadata": {},
     "output_type": "execute_result"
    },
    {
     "data": {
      "image/png": "[encoded data removed]",
      "text/plain": [
       "<Figure size 720x432 with 1 Axes>"
      ]
     },
     "metadata": {
      "needs_background": "light"
     },
     "output_type": "display_data"
    }
   ],
   "source": [
    "ax = data['FL_DATE'].value_counts().sort_index().plot.bar(figsize=(10,6))\n",
    "ax.set_title('# of Flights Per Day')"
   ]
  },
  {
   "cell_type": "markdown",
   "metadata": {},
   "source": [
    "### So this is a dataset from January of this year. Also there are obvious cyclical patterns."
   ]
  },
  {
   "cell_type": "code",
   "execution_count": null,
   "metadata": {},
   "outputs": [],
   "source": [
    "for date in list(delayed.index):\n",
    "    "
   ]
  },
  {
   "cell_type": "code",
   "execution_count": 80,
   "metadata": {},
   "outputs": [
    {
     "data": {
      "text/plain": [
       "4    108610\n",
       "3    105987\n",
       "2    101469\n",
       "5     87120\n",
       "1     86716\n",
       "7     80344\n",
       "6     68403\n",
       "Name: DAY_OF_WEEK, dtype: int64"
      ]
     },
     "execution_count": 80,
     "metadata": {},
     "output_type": "execute_result"
    }
   ],
   "source": [
    "data['DAY_OF_WEEK'].value_counts()"
   ]
  },
  {
   "cell_type": "code",
   "execution_count": 153,
   "metadata": {},
   "outputs": [
    {
     "data": {
      "text/plain": [
       "<matplotlib.axes._subplots.AxesSubplot at 0x7f6be2656a20>"
      ]
     },
     "execution_count": 153,
     "metadata": {},
     "output_type": "execute_result"
    },
    {
     "data": {
      "image/png": "[encoded data removed]",
      "text/plain": [
       "<Figure size 720x432 with 1 Axes>"
      ]
     },
     "metadata": {
      "needs_background": "light"
     },
     "output_type": "display_data"
    }
   ],
   "source": [
    "ax = data['DAY_OF_WEEK'].value_counts().sort_index().plot.bar(figsize=(10,6))\n",
    "ax.set_title('# Flights By Day Of Week')"
   ]
  },
  {
   "cell_type": "code",
   "execution_count": 111,
   "metadata": {},
   "outputs": [
    {
     "data": {
      "text/plain": [
       "Text(0.5, 1.0, 'Distribution of Day of Week for On-Time Flights')"
      ]
     },
     "execution_count": 111,
     "metadata": {},
     "output_type": "execute_result"
    },
    {
     "data": {
      "image/png": "[encoded data removed]",
      "text/plain": [
       "<Figure size 720x432 with 1 Axes>"
      ]
     },
     "metadata": {
      "needs_background": "light"
     },
     "output_type": "display_data"
    }
   ],
   "source": [
    "ax = ontime['DAY_OF_WEEK'].value_counts().sort_index().plot.bar(figsize=(10,6))\n",
    "ax.set_title('Distribution of Day of Week for On-Time Flights')"
   ]
  },
  {
   "cell_type": "code",
   "execution_count": 112,
   "metadata": {},
   "outputs": [
    {
     "data": {
      "text/plain": [
       "Text(0.5, 1.0, 'Distribution of Day of Week for Flights w/ > 15 Min Delay')"
      ]
     },
     "execution_count": 112,
     "metadata": {},
     "output_type": "execute_result"
    },
    {
     "data": {
      "image/png": "[encoded data removed]",
      "text/plain": [
       "<Figure size 720x432 with 1 Axes>"
      ]
     },
     "metadata": {
      "needs_background": "light"
     },
     "output_type": "display_data"
    }
   ],
   "source": [
    "ax = delayed['DAY_OF_WEEK'].value_counts().sort_index().plot.bar(figsize=(10,6))\n",
    "ax.set_title('Distribution of Day of Week for Flights w/ > 15 Min Delay')"
   ]
  },
  {
   "cell_type": "markdown",
   "metadata": {},
   "source": [
    "### Both Ontime and Delayed flights show roughly the same distribution/pattern according to Day of the Week"
   ]
  },
  {
   "cell_type": "markdown",
   "metadata": {},
   "source": [
    "---\n",
    "### **Unique Marketing Carrier Code** <a id=\"mktcarrier\"></a>\n",
    "##### <a href=\"#eda\">EDA</a>\n",
    "---"
   ]
  },
  {
   "cell_type": "markdown",
   "metadata": {},
   "source": [
    "### Number of Airline Marketing Codes"
   ]
  },
  {
   "cell_type": "code",
   "execution_count": 163,
   "metadata": {},
   "outputs": [
    {
     "data": {
      "text/plain": [
       "10"
      ]
     },
     "execution_count": 163,
     "metadata": {},
     "output_type": "execute_result"
    }
   ],
   "source": [
    "len(data['MKT_UNIQUE_CARRIER'].value_counts())"
   ]
  },
  {
   "cell_type": "markdown",
   "metadata": {},
   "source": [
    "### Number of records of each Airline Marketing Code "
   ]
  },
  {
   "cell_type": "code",
   "execution_count": 138,
   "metadata": {},
   "outputs": [
    {
     "data": {
      "text/plain": [
       "AA    168763\n",
       "DL    135756\n",
       "UA    123804\n",
       "WN    111312\n",
       "AS     35399\n",
       "B6     24443\n",
       "NK     15222\n",
       "F9      9647\n",
       "HA      7540\n",
       "G4      6763\n",
       "Name: MKT_UNIQUE_CARRIER, dtype: int64"
      ]
     },
     "execution_count": 138,
     "metadata": {},
     "output_type": "execute_result"
    }
   ],
   "source": [
    "data['MKT_UNIQUE_CARRIER'].value_counts()"
   ]
  },
  {
   "cell_type": "code",
   "execution_count": null,
   "metadata": {},
   "outputs": [],
   "source": [
    "data['MKT_UNIQUE_CARRvIER'].value_counts()[0]/len(data)*100"
   ]
  },
  {
   "cell_type": "markdown",
   "metadata": {},
   "source": [
    "### So AA accounts for ~25% of all the data out of the 10 airlines present"
   ]
  },
  {
   "cell_type": "code",
   "execution_count": 98,
   "metadata": {},
   "outputs": [
    {
     "data": {
      "text/plain": [
       "Text(0.5, 1.0, 'MKT_UNIQUE_CARRIER')"
      ]
     },
     "execution_count": 98,
     "metadata": {},
     "output_type": "execute_result"
    },
    {
     "data": {
      "image/png": "[encoded data removed]",
      "text/plain": [
       "<Figure size 720x432 with 1 Axes>"
      ]
     },
     "metadata": {
      "needs_background": "light"
     },
     "output_type": "display_data"
    }
   ],
   "source": [
    "ax = data['MKT_UNIQUE_CARRIER'].value_counts().plot.bar(figsize=(10,6))\n",
    "ax.set_title('MKT_UNIQUE_CARRIER')"
   ]
  },
  {
   "cell_type": "code",
   "execution_count": null,
   "metadata": {},
   "outputs": [],
   "source": []
  },
  {
   "cell_type": "markdown",
   "metadata": {},
   "source": [
    "### % Delayed according to Airline"
   ]
  },
  {
   "cell_type": "code",
   "execution_count": 116,
   "metadata": {},
   "outputs": [
    {
     "name": "stdout",
     "output_type": "stream",
     "text": [
      "10 10\n"
     ]
    }
   ],
   "source": [
    "ontime_airline_freqs = ontime['MKT_UNIQUE_CARRIER'].value_counts()\n",
    "delayed_airline_freqs = delayed['MKT_UNIQUE_CARRIER'].value_counts()\n",
    "print(len(ontime_airline_freqs), len(delayed_airline_freqs))"
   ]
  },
  {
   "cell_type": "code",
   "execution_count": 133,
   "metadata": {},
   "outputs": [
    {
     "name": "stdout",
     "output_type": "stream",
     "text": [
      "Airline\tTotal\tOntime\tDelayed\t% Delayed\n",
      "AA:\t163103\t135679\t27424\t16.81\n",
      "\n",
      "DL:\t134308\t113194\t21114\t15.72\n",
      "\n",
      "UA:\t117790\t93234\t24556\t20.85\n",
      "\n",
      "WN:\t107394\t88887\t18507\t17.23\n",
      "\n",
      "AS:\t34711\t30101\t4610\t13.28\n",
      "\n",
      "B6:\t23474\t17112\t6362\t27.10\n",
      "\n",
      "NK:\t15029\t12858\t2171\t14.45\n",
      "\n",
      "F9:\t9507\t7169\t2338\t24.59\n",
      "\n",
      "HA:\t7515\t6857\t658\t8.76\n",
      "\n",
      "G4:\t6716\t5275\t1441\t21.46\n",
      "\n"
     ]
    }
   ],
   "source": [
    "print(\"Airline\\tTotal\\tOntime\\tDelayed\\t% Delayed\")\n",
    "for airline in list(ontime_airline_freqs.index):\n",
    "    total = ontime_airline_freqs[ontime_airline_freqs.index == airline][0] + delayed_airline_freqs[delayed_airline_freqs.index == airline][0]\n",
    "    print(\"{}:\\t{}\\t{}\\t{}\\t{:.2f}\\n\".format(\n",
    "        airline,\n",
    "        total,\n",
    "        ontime_airline_freqs[ontime_airline_freqs.index == airline][0],\n",
    "        delayed_airline_freqs[delayed_airline_freqs.index == airline][0],\n",
    "        (delayed_airline_freqs[delayed_airline_freqs.index == airline][0] / total * 100)\n",
    "    ))"
   ]
  },
  {
   "cell_type": "markdown",
   "metadata": {},
   "source": [
    "### So JetBlue had the highest % of its flights delayed > 15 min in Jan at 27%, with Frontier Airlines in second with 24 %.\n",
    "### 4/10 had 20% or more of their flights delayed\n",
    "### Hawaiian Airlines had the least with only ~9% of flights delayed, but they also one of the smallest airlines present (# flights)"
   ]
  },
  {
   "cell_type": "markdown",
   "metadata": {},
   "source": [
    "---\n",
    "### List of Top Origin & Destination Airports according to Airline"
   ]
  },
  {
   "cell_type": "code",
   "execution_count": 138,
   "metadata": {},
   "outputs": [
    {
     "name": "stdout",
     "output_type": "stream",
     "text": [
      "AA\n",
      "234 Number of Origin Airports\n",
      "234 Number of Destination Airports\n",
      "          DFW    CLT    ORD   PHL   PHX   DCA   MIA   LAX   LGA   BOS\n",
      "ORIGIN  20371  18822  12621  9054  7437  7015  6596  5416  4284  2330\n",
      "DEST    20387  18828  12624  9056  7436  7022  6591  5411  4291  2331\n",
      "\n",
      "DL\n",
      "220 Number of Origin Airports\n",
      "220 Number of Destination Airports\n",
      "          ATL    DTW   MSP   SLC   LGA   JFK   LAX   SEA   BOS   RDU\n",
      "ORIGIN  24124  10347  9452  7074  6474  4598  3888  3504  2630  1815\n",
      "DEST    24122  10342  9448  7091  6475  4599  3887  3505  2637  1817\n",
      "\n",
      "UA\n",
      "229 Number of Origin Airports\n",
      "228 Number of Destination Airports\n",
      "          ORD    IAH    DEN   EWR   SFO   IAD   LAX   CLE   LAS   LGA\n",
      "ORIGIN  15556  12347  12023  9145  7419  5811  3950  1274  1136  1098\n",
      "DEST    15560  12335  12026  9144  7424  5808  3948  1276  1140  1100\n",
      "\n",
      "WN\n",
      "85 Number of Origin Airports\n",
      "85 Number of Destination Airports\n",
      "         MDW   LAS   DAL   DEN   BWI   PHX   HOU   MCO   LAX   ATL\n",
      "ORIGIN  6038  5967  5760  5500  5333  5119  4549  3584  3566  3556\n",
      "DEST    6040  5968  5760  5496  5332  5119  4553  3583  3566  3556\n",
      "\n",
      "AS\n",
      "95 Number of Origin Airports\n",
      "95 Number of Destination Airports\n",
      "         SEA   PDX   SFO   LAX   SAN   ANC   SJC  GEG  LAS  SNA\n",
      "ORIGIN  8751  3839  2511  1988  1379  1284  1255  763  754  724\n",
      "DEST    8757  3840  2518  1987  1376  1285  1234  765  754  733\n",
      "\n",
      "B6\n",
      "68 Number of Origin Airports\n",
      "68 Number of Destination Airports\n",
      "         BOS   JFK   FLL   MCO  DCA  SJU  EWR  PBI  LGB  LAX\n",
      "ORIGIN  4306  3318  2057  1670  873  857  780  753  679  537\n",
      "DEST    4303  3316  2061  1673  875  852  780  754  679  537\n",
      "\n",
      "NK\n",
      "43 Number of Origin Airports\n",
      "43 Number of Destination Airports\n",
      "         FLL   MCO   LAS  DTW  ORD  ATL  LAX  TPA  BWI  DFW\n",
      "ORIGIN  1700  1333  1265  946  736  691  680  654  645  569\n",
      "DEST    1701  1335  1267  944  734  690  680  654  646  569\n",
      "\n",
      "F9\n",
      "90 Number of Origin Airports\n",
      "90 Number of Destination Airports\n",
      "         DEN   MCO  LAS  RSW  TPA  PHL  ORD  PHX  ATL  CLE\n",
      "ORIGIN  1683  1143  584  392  375  354  262  253  247  208\n",
      "DEST    1676  1144  582  392  375  354  262  254  247  208\n",
      "\n",
      "HA\n",
      "21 Number of Origin Airports\n",
      "21 Number of Destination Airports\n",
      "         HNL   OGG  LIH  KOA  ITO  LAX  LNY  JHM  MKK  OAK\n",
      "ORIGIN  3165  1303  742  679  462  186  160  118   93   93\n",
      "DEST    3167  1303  742  679  462  186  160  119   92   93\n",
      "\n",
      "G4\n",
      "120 Number of Origin Airports\n",
      "120 Number of Destination Airports\n",
      "        SFB  LAS  PIE  AZA  PGD  FLL  CVG  AVL  BLI  GRR\n",
      "ORIGIN  697  648  548  454  423  243  217  139  122  109\n",
      "DEST    698  647  548  454  423  243  217  139  124  109\n",
      "\n"
     ]
    }
   ],
   "source": [
    "for airline in list(ontime_airline_freqs.index):\n",
    "    print(airline)\n",
    "    temp = data_date[data_date['MKT_UNIQUE_CARRIER'] == airline]['ORIGIN'].value_counts()\n",
    "    temp2 = data_date[data_date['MKT_UNIQUE_CARRIER'] == airline]['DEST'].value_counts()\n",
    "    df = pd.DataFrame([temp.head(10),temp2.head(10)])\n",
    "    print(\"{} Number of Origin Airports\".format(len(temp)))\n",
    "    print(\"{} Number of Destination Airports\".format(len(temp2)))\n",
    "    print(df)\n",
    "    print()"
   ]
  },
  {
   "cell_type": "markdown",
   "metadata": {},
   "source": [
    "### List of most popular flights for each airline"
   ]
  },
  {
   "cell_type": "code",
   "execution_count": 150,
   "metadata": {},
   "outputs": [
    {
     "name": "stdout",
     "output_type": "stream",
     "text": [
      "Most Popular Flights By Airline\n",
      "\n",
      "AA\n",
      "1581 Flights\n",
      "LAX -> DFW    397\n",
      "DFW -> LAX    395\n",
      "ORD -> LGA    379\n",
      "LGA -> ORD    379\n",
      "MIA -> LGA    368\n",
      "LGA -> MIA    368\n",
      "DCA -> BOS    364\n",
      "BOS -> DCA    363\n",
      "ORD -> DFW    362\n",
      "DFW -> PHX    358\n",
      "Name: 0, dtype: int64\n",
      "\n",
      "DL\n",
      "1417 Flights\n",
      "MCO -> ATL    499\n",
      "ATL -> MCO    497\n",
      "LGA -> ATL    437\n",
      "ATL -> LGA    437\n",
      "ATL -> FLL    411\n",
      "FLL -> ATL    411\n",
      "ATL -> TPA    373\n",
      "TPA -> ATL    373\n",
      "LGA -> BOS    363\n",
      "BOS -> LGA    363\n",
      "Name: 0, dtype: int64\n",
      "\n",
      "UA\n",
      "1365 Flights\n",
      "LGA -> ORD    434\n",
      "ORD -> LGA    434\n",
      "LAX -> SFO    430\n",
      "SFO -> LAX    426\n",
      "ORD -> DCA    390\n",
      "DCA -> ORD    389\n",
      "EWR -> SFO    324\n",
      "SFO -> EWR    322\n",
      "IAH -> DEN    313\n",
      "DEN -> IAH    313\n",
      "Name: 0, dtype: int64\n",
      "\n",
      "WN\n",
      "1378 Flights\n",
      "HOU -> DAL    575\n",
      "DAL -> HOU    574\n",
      "SJC -> SAN    419\n",
      "SAN -> SJC    418\n",
      "SAN -> SMF    401\n",
      "SMF -> SAN    401\n",
      "OAK -> LAX    377\n",
      "LAX -> OAK    377\n",
      "BUR -> OAK    353\n",
      "OAK -> BUR    353\n",
      "Name: 0, dtype: int64\n",
      "\n",
      "AS\n",
      "494 Flights\n",
      "PDX -> SEA    713\n",
      "SEA -> PDX    710\n",
      "SEA -> GEG    466\n",
      "SEA -> SFO    465\n",
      "GEG -> SEA    464\n",
      "SFO -> SEA    463\n",
      "LAX -> SEA    416\n",
      "SEA -> LAX    415\n",
      "SEA -> ANC    392\n",
      "ANC -> SEA    362\n",
      "Name: 0, dtype: int64\n",
      "\n",
      "B6\n",
      "362 Flights\n",
      "JFK -> LAX    289\n",
      "LAX -> JFK    288\n",
      "DCA -> BOS    281\n",
      "BOS -> DCA    281\n",
      "MCO -> BOS    199\n",
      "BOS -> MCO    199\n",
      "FLL -> JFK    195\n",
      "JFK -> FLL    195\n",
      "BOS -> JFK    195\n",
      "JFK -> BOS    194\n",
      "Name: 0, dtype: int64\n",
      "\n",
      "NK\n",
      "366 Flights\n",
      "FLL -> ATL    162\n",
      "ATL -> FLL    162\n",
      "FLL -> LGA    124\n",
      "LGA -> FLL    124\n",
      "DTW -> MCO    120\n",
      "MCO -> DTW    119\n",
      "DTW -> RSW    118\n",
      "RSW -> DTW    118\n",
      "LAS -> LAX    103\n",
      "LAS -> OAK    103\n",
      "Name: 0, dtype: int64\n",
      "\n",
      "F9\n",
      "522 Flights\n",
      "LAS -> DEN    98\n",
      "DEN -> LAS    97\n",
      "PHL -> MCO    93\n",
      "MCO -> PHL    93\n",
      "DEN -> DCA    88\n",
      "DCA -> DEN    87\n",
      "DEN -> MCO    76\n",
      "DEN -> PHX    76\n",
      "MCO -> DEN    76\n",
      "PHX -> DEN    75\n",
      "Name: 0, dtype: int64\n",
      "\n",
      "HA\n",
      "68 Flights\n",
      "OGG -> HNL    826\n",
      "HNL -> OGG    826\n",
      "LIH -> HNL    541\n",
      "HNL -> LIH    541\n",
      "KOA -> HNL    521\n",
      "HNL -> KOA    521\n",
      "ITO -> HNL    400\n",
      "HNL -> ITO    400\n",
      "HNL -> LNY    160\n",
      "LNY -> HNL    160\n",
      "Name: 0, dtype: int64\n",
      "\n",
      "G4\n",
      "614 Flights\n",
      "AVL -> FLL    62\n",
      "FLL -> AVL    62\n",
      "LAS -> BLI    51\n",
      "BLI -> LAS    50\n",
      "SCK -> LAS    44\n",
      "FAT -> LAS    44\n",
      "LAS -> SCK    44\n",
      "LAS -> FAT    44\n",
      "PIE -> GRR    39\n",
      "GRR -> PIE    39\n",
      "Name: 0, dtype: int64\n",
      "\n"
     ]
    }
   ],
   "source": [
    "print(\"Most Popular Flights By Airline\\n\")\n",
    "for airline in list(ontime_airline_freqs.index):\n",
    "    print(airline)\n",
    "    flights = []\n",
    "    temp = data_date[data_date['MKT_UNIQUE_CARRIER'] == airline]\n",
    "    for index, row in temp.iterrows():\n",
    "        flights.append('{} -> {}'.format(row['ORIGIN'],row['DEST']))\n",
    "    \n",
    "    df = pd.DataFrame(flights)\n",
    "    fl_freqs = df[0].value_counts()\n",
    "    print(\"{} Flights\".format(len(fl_freqs)))\n",
    "    print(fl_freqs.head(10))\n",
    "    print()"
   ]
  },
  {
   "cell_type": "markdown",
   "metadata": {},
   "source": [
    "---\n",
    "### **Origin Airport** <a id=\"origin\"></a>\n",
    "##### <a href=\"#eda\">EDA</a>"
   ]
  },
  {
   "cell_type": "markdown",
   "metadata": {},
   "source": [
    "### Number of Origin Airports"
   ]
  },
  {
   "cell_type": "code",
   "execution_count": 129,
   "metadata": {},
   "outputs": [
    {
     "data": {
      "text/plain": [
       "360"
      ]
     },
     "execution_count": 129,
     "metadata": {},
     "output_type": "execute_result"
    }
   ],
   "source": [
    "len(data_date['ORIGIN'].value_counts())"
   ]
  },
  {
   "cell_type": "markdown",
   "metadata": {},
   "source": [
    "### Top Airports of Origin"
   ]
  },
  {
   "cell_type": "code",
   "execution_count": 130,
   "metadata": {},
   "outputs": [
    {
     "data": {
      "text/plain": [
       "ATL    31207\n",
       "ORD    31064\n",
       "DFW    23132\n",
       "DEN    21540\n",
       "CLT    20769\n",
       "LAX    20376\n",
       "PHX    14995\n",
       "SEA    14937\n",
       "IAH    14643\n",
       "SFO    14242\n",
       "LGA    13872\n",
       "DTW    13686\n",
       "LAS    13546\n",
       "EWR    12440\n",
       "MSP    12316\n",
       "Name: ORIGIN, dtype: int64"
      ]
     },
     "execution_count": 130,
     "metadata": {},
     "output_type": "execute_result"
    }
   ],
   "source": [
    "data_date['ORIGIN'].value_counts().head(15)"
   ]
  },
  {
   "cell_type": "markdown",
   "metadata": {},
   "source": [
    "### Atlanta is the most popular origin, with Chicago a close second"
   ]
  },
  {
   "cell_type": "markdown",
   "metadata": {},
   "source": [
    "---\n",
    "### **Destination Airport** <a id=\"dest\"></a>\n",
    "##### <a href=\"#eda\">EDA</a>"
   ]
  },
  {
   "cell_type": "markdown",
   "metadata": {},
   "source": [
    "### Number of Destination Airports"
   ]
  },
  {
   "cell_type": "code",
   "execution_count": 131,
   "metadata": {},
   "outputs": [
    {
     "data": {
      "text/plain": [
       "360"
      ]
     },
     "execution_count": 131,
     "metadata": {},
     "output_type": "execute_result"
    }
   ],
   "source": [
    "len(data_date['DEST'].value_counts())"
   ]
  },
  {
   "cell_type": "markdown",
   "metadata": {},
   "source": [
    "### Top Destination Airports"
   ]
  },
  {
   "cell_type": "code",
   "execution_count": 132,
   "metadata": {},
   "outputs": [
    {
     "data": {
      "text/plain": [
       "ATL    31203\n",
       "ORD    31067\n",
       "DFW    23147\n",
       "DEN    21531\n",
       "CLT    20775\n",
       "LAX    20368\n",
       "PHX    14998\n",
       "SEA    14939\n",
       "IAH    14631\n",
       "SFO    14253\n",
       "LGA    13882\n",
       "DTW    13676\n",
       "LAS    13553\n",
       "EWR    12434\n",
       "MSP    12320\n",
       "Name: DEST, dtype: int64"
      ]
     },
     "execution_count": 132,
     "metadata": {},
     "output_type": "execute_result"
    }
   ],
   "source": [
    "data_date['DEST'].value_counts().head(15)"
   ]
  },
  {
   "cell_type": "code",
   "execution_count": null,
   "metadata": {},
   "outputs": [],
   "source": []
  },
  {
   "cell_type": "code",
   "execution_count": null,
   "metadata": {},
   "outputs": [],
   "source": []
  },
  {
   "cell_type": "code",
   "execution_count": null,
   "metadata": {},
   "outputs": [],
   "source": []
  },
  {
   "cell_type": "markdown",
   "metadata": {},
   "source": [
    "---\n",
    "### **Airline ID**"
   ]
  },
  {
   "cell_type": "code",
   "execution_count": 164,
   "metadata": {},
   "outputs": [
    {
     "data": {
      "text/plain": [
       "10"
      ]
     },
     "execution_count": 164,
     "metadata": {},
     "output_type": "execute_result"
    }
   ],
   "source": [
    "len(data['MKT_CARRIER_AIRLINE_ID'].value_counts())"
   ]
  },
  {
   "cell_type": "code",
   "execution_count": 139,
   "metadata": {},
   "outputs": [
    {
     "data": {
      "text/plain": [
       "19805    168763\n",
       "19790    135756\n",
       "19977    123804\n",
       "19393    111312\n",
       "19930     35399\n",
       "20409     24443\n",
       "20416     15222\n",
       "20436      9647\n",
       "19690      7540\n",
       "20368      6763\n",
       "Name: MKT_CARRIER_AIRLINE_ID, dtype: int64"
      ]
     },
     "execution_count": 139,
     "metadata": {},
     "output_type": "execute_result"
    }
   ],
   "source": [
    "data['MKT_CARRIER_AIRLINE_ID'].value_counts()"
   ]
  },
  {
   "cell_type": "markdown",
   "metadata": {},
   "source": [
    "#### So MKT_UNIQUE_CARRIER and MKT_CARRIER_AIRLINE_ID are alternate encodings for airline brand"
   ]
  },
  {
   "cell_type": "markdown",
   "metadata": {},
   "source": [
    "---\n",
    "### **Marketing Flight Number**"
   ]
  },
  {
   "cell_type": "code",
   "execution_count": 141,
   "metadata": {},
   "outputs": [
    {
     "data": {
      "text/plain": [
       "6873"
      ]
     },
     "execution_count": 141,
     "metadata": {},
     "output_type": "execute_result"
    }
   ],
   "source": [
    "len(data['MKT_CARRIER_FL_NUM'].value_counts())"
   ]
  },
  {
   "cell_type": "code",
   "execution_count": 142,
   "metadata": {},
   "outputs": [
    {
     "data": {
      "text/plain": [
       "403     310\n",
       "2116    294\n",
       "761     291\n",
       "2011    288\n",
       "465     287\n",
       "Name: MKT_CARRIER_FL_NUM, dtype: int64"
      ]
     },
     "execution_count": 142,
     "metadata": {},
     "output_type": "execute_result"
    }
   ],
   "source": [
    "data['MKT_CARRIER_FL_NUM'].value_counts().head()"
   ]
  },
  {
   "cell_type": "markdown",
   "metadata": {},
   "source": [
    "#### So Flight 403 has the most observations, what carrier(s) are have records with flight 403?"
   ]
  },
  {
   "cell_type": "code",
   "execution_count": 155,
   "metadata": {},
   "outputs": [
    {
     "data": {
      "text/plain": [
       "WN    120\n",
       "NK     62\n",
       "AA     52\n",
       "UA     31\n",
       "B6     31\n",
       "F9     14\n",
       "Name: MKT_UNIQUE_CARRIER, dtype: int64"
      ]
     },
     "execution_count": 155,
     "metadata": {},
     "output_type": "execute_result"
    }
   ],
   "source": [
    "data[data['MKT_CARRIER_FL_NUM'] == 403]['MKT_UNIQUE_CARRIER'].value_counts()"
   ]
  },
  {
   "cell_type": "markdown",
   "metadata": {},
   "source": [
    "#### So Flight 403, and flight numbers in general are not unique to airline."
   ]
  },
  {
   "cell_type": "code",
   "execution_count": 143,
   "metadata": {},
   "outputs": [
    {
     "data": {
      "text/plain": [
       "6356    1\n",
       "6361    1\n",
       "6360    1\n",
       "6365    1\n",
       "6395    1\n",
       "Name: MKT_CARRIER_FL_NUM, dtype: int64"
      ]
     },
     "execution_count": 143,
     "metadata": {},
     "output_type": "execute_result"
    }
   ],
   "source": [
    "data['MKT_CARRIER_FL_NUM'].value_counts().tail()"
   ]
  },
  {
   "cell_type": "markdown",
   "metadata": {},
   "source": [
    "---\n",
    "### **Unique Carrier Code**"
   ]
  },
  {
   "cell_type": "code",
   "execution_count": 162,
   "metadata": {},
   "outputs": [
    {
     "data": {
      "text/plain": [
       "26"
      ]
     },
     "execution_count": 162,
     "metadata": {},
     "output_type": "execute_result"
    }
   ],
   "source": [
    "len(data['OP_UNIQUE_CARRIER'].value_counts())"
   ]
  },
  {
   "cell_type": "code",
   "execution_count": 161,
   "metadata": {},
   "outputs": [
    {
     "data": {
      "text/plain": [
       "WN    111312\n",
       "AA     77017\n",
       "DL     73836\n",
       "OO     65115\n",
       "UA     46915\n",
       "YX     25773\n",
       "MQ     25696\n",
       "B6     24443\n",
       "OH     23170\n",
       "AS     20744\n",
       "9E     20210\n",
       "YV     18331\n",
       "NK     15222\n",
       "EV     13017\n",
       "QX     10054\n",
       "F9      9647\n",
       "PT      9030\n",
       "ZW      8726\n",
       "CP      8194\n",
       "G7      7221\n",
       "HA      6798\n",
       "G4      6763\n",
       "AX      6254\n",
       "C5      4207\n",
       "EM       742\n",
       "KS       212\n",
       "Name: OP_UNIQUE_CARRIER, dtype: int64"
      ]
     },
     "execution_count": 161,
     "metadata": {},
     "output_type": "execute_result"
    }
   ],
   "source": [
    "data['OP_UNIQUE_CARRIER'].value_counts()"
   ]
  },
  {
   "cell_type": "code",
   "execution_count": 4,
   "metadata": {},
   "outputs": [
    {
     "data": {
      "text/plain": [
       "<matplotlib.axes._subplots.AxesSubplot at 0x7fe36db26208>"
      ]
     },
     "execution_count": 4,
     "metadata": {},
     "output_type": "execute_result"
    },
    {
     "data": {
      "image/png": "[encoded data removed]",
      "text/plain": [
       "<Figure size 720x432 with 1 Axes>"
      ]
     },
     "metadata": {
      "needs_background": "light"
     },
     "output_type": "display_data"
    }
   ],
   "source": [
    "data['OP_UNIQUE_CARRIER'].value_counts().plot.bar(figsize=(10,6))"
   ]
  },
  {
   "cell_type": "markdown",
   "metadata": {},
   "source": [
    "---\n",
    "### **Tail Number**"
   ]
  },
  {
   "cell_type": "code",
   "execution_count": 165,
   "metadata": {},
   "outputs": [
    {
     "data": {
      "text/plain": [
       "5825"
      ]
     },
     "execution_count": 165,
     "metadata": {},
     "output_type": "execute_result"
    }
   ],
   "source": [
    "len(data['TAIL_NUM'].value_counts())"
   ]
  },
  {
   "cell_type": "code",
   "execution_count": 167,
   "metadata": {},
   "outputs": [
    {
     "data": {
      "text/plain": [
       "N488HA    361\n",
       "N481HA    348\n",
       "N483HA    346\n",
       "N489HA    344\n",
       "N493HA    328\n",
       "Name: TAIL_NUM, dtype: int64"
      ]
     },
     "execution_count": 167,
     "metadata": {},
     "output_type": "execute_result"
    }
   ],
   "source": [
    "data['TAIL_NUM'].value_counts().head()"
   ]
  },
  {
   "cell_type": "code",
   "execution_count": 7,
   "metadata": {},
   "outputs": [
    {
     "data": {
      "text/plain": [
       "HA    361\n",
       "Name: OP_UNIQUE_CARRIER, dtype: int64"
      ]
     },
     "execution_count": 7,
     "metadata": {},
     "output_type": "execute_result"
    }
   ],
   "source": [
    "data[data['TAIL_NUM'] == 'N488HA']['OP_UNIQUE_CARRIER'].value_counts()"
   ]
  },
  {
   "cell_type": "code",
   "execution_count": 8,
   "metadata": {},
   "outputs": [
    {
     "data": {
      "text/plain": [
       "HA    348\n",
       "Name: OP_UNIQUE_CARRIER, dtype: int64"
      ]
     },
     "execution_count": 8,
     "metadata": {},
     "output_type": "execute_result"
    }
   ],
   "source": [
    "data[data['TAIL_NUM'] == 'N481HA']['OP_UNIQUE_CARRIER'].value_counts()"
   ]
  },
  {
   "cell_type": "code",
   "execution_count": 9,
   "metadata": {},
   "outputs": [
    {
     "data": {
      "text/plain": [
       "HA    346\n",
       "Name: OP_UNIQUE_CARRIER, dtype: int64"
      ]
     },
     "execution_count": 9,
     "metadata": {},
     "output_type": "execute_result"
    }
   ],
   "source": [
    "data[data['TAIL_NUM'] == 'N483HA']['OP_UNIQUE_CARRIER'].value_counts()"
   ]
  },
  {
   "cell_type": "code",
   "execution_count": 10,
   "metadata": {},
   "outputs": [
    {
     "data": {
      "text/plain": [
       "HA    328\n",
       "Name: OP_UNIQUE_CARRIER, dtype: int64"
      ]
     },
     "execution_count": 10,
     "metadata": {},
     "output_type": "execute_result"
    }
   ],
   "source": [
    "data[data['TAIL_NUM'] == 'N493HA']['OP_UNIQUE_CARRIER'].value_counts()"
   ]
  },
  {
   "cell_type": "markdown",
   "metadata": {},
   "source": [
    "#### So the most common tail numbers all come from HA airline. Also, in general it appears that tail numbers are unique to unique carrier codes."
   ]
  },
  {
   "cell_type": "code",
   "execution_count": 5,
   "metadata": {},
   "outputs": [
    {
     "data": {
      "text/plain": [
       "N665UA    1\n",
       "N706DN    1\n",
       "N225AG    1\n",
       "N2737U    1\n",
       "N2644U    1\n",
       "Name: TAIL_NUM, dtype: int64"
      ]
     },
     "execution_count": 5,
     "metadata": {},
     "output_type": "execute_result"
    }
   ],
   "source": [
    "data['TAIL_NUM'].value_counts().tail()"
   ]
  },
  {
   "cell_type": "markdown",
   "metadata": {},
   "source": [
    "---\n",
    "### **Carrier Flight Number**"
   ]
  },
  {
   "cell_type": "code",
   "execution_count": 11,
   "metadata": {},
   "outputs": [
    {
     "data": {
      "text/plain": [
       "6880"
      ]
     },
     "execution_count": 11,
     "metadata": {},
     "output_type": "execute_result"
    }
   ],
   "source": [
    "len(data['OP_CARRIER_FL_NUM'].value_counts())"
   ]
  },
  {
   "cell_type": "code",
   "execution_count": 72,
   "metadata": {},
   "outputs": [
    {
     "data": {
      "text/plain": [
       "403     310\n",
       "2116    294\n",
       "761     291\n",
       "2011    288\n",
       "465     287\n",
       "Name: OP_CARRIER_FL_NUM, dtype: int64"
      ]
     },
     "execution_count": 72,
     "metadata": {},
     "output_type": "execute_result"
    }
   ],
   "source": [
    "data['OP_CARRIER_FL_NUM'].value_counts().head()"
   ]
  },
  {
   "cell_type": "code",
   "execution_count": 73,
   "metadata": {},
   "outputs": [
    {
     "data": {
      "text/plain": [
       "WN    120\n",
       "NK     62\n",
       "AA     52\n",
       "B6     31\n",
       "UA     31\n",
       "F9     14\n",
       "Name: OP_UNIQUE_CARRIER, dtype: int64"
      ]
     },
     "execution_count": 73,
     "metadata": {},
     "output_type": "execute_result"
    }
   ],
   "source": [
    "data[data['OP_CARRIER_FL_NUM'] == 403]['OP_UNIQUE_CARRIER'].value_counts()"
   ]
  },
  {
   "cell_type": "code",
   "execution_count": null,
   "metadata": {},
   "outputs": [],
   "source": []
  },
  {
   "cell_type": "code",
   "execution_count": 14,
   "metadata": {},
   "outputs": [],
   "source": [
    "cols = list(data.columns)"
   ]
  },
  {
   "cell_type": "code",
   "execution_count": null,
   "metadata": {},
   "outputs": [],
   "source": []
  },
  {
   "cell_type": "code",
   "execution_count": null,
   "metadata": {},
   "outputs": [],
   "source": []
  },
  {
   "cell_type": "code",
   "execution_count": null,
   "metadata": {},
   "outputs": [],
   "source": []
  },
  {
   "cell_type": "code",
   "execution_count": null,
   "metadata": {},
   "outputs": [],
   "source": []
  },
  {
   "cell_type": "code",
   "execution_count": null,
   "metadata": {},
   "outputs": [],
   "source": []
  },
  {
   "cell_type": "code",
   "execution_count": null,
   "metadata": {},
   "outputs": [],
   "source": []
  },
  {
   "cell_type": "code",
   "execution_count": null,
   "metadata": {},
   "outputs": [],
   "source": []
  },
  {
   "cell_type": "code",
   "execution_count": null,
   "metadata": {},
   "outputs": [],
   "source": []
  },
  {
   "cell_type": "code",
   "execution_count": null,
   "metadata": {},
   "outputs": [],
   "source": []
  },
  {
   "cell_type": "code",
   "execution_count": null,
   "metadata": {},
   "outputs": [],
   "source": []
  },
  {
   "cell_type": "code",
   "execution_count": null,
   "metadata": {},
   "outputs": [],
   "source": []
  }
 ],
 "metadata": {
  "kernelspec": {
   "display_name": "Python 3",
   "language": "python",
   "name": "python3"
  },
  "language_info": {
   "codemirror_mode": {
    "name": "ipython",
    "version": 3
   },
   "file_extension": ".py",
   "mimetype": "text/x-python",
   "name": "python",
   "nbconvert_exporter": "python",
   "pygments_lexer": "ipython3",
   "version": "3.6.8"
  }
 },
 "nbformat": 4,
 "nbformat_minor": 2
}
